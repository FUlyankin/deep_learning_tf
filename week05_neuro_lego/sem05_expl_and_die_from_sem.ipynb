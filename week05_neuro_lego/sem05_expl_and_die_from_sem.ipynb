{
  "nbformat": 4,
  "nbformat_minor": 0,
  "metadata": {
    "colab": {
      "name": "sem05_expl_and_die.ipynb",
      "provenance": []
    },
    "kernelspec": {
      "name": "python3",
      "display_name": "Python 3"
    },
    "language_info": {
      "name": "python"
    },
    "widgets": {
      "application/vnd.jupyter.widget-state+json": {
        "d4fb2b04f5014d3bb7fe0e786db1693b": {
          "model_module": "@jupyter-widgets/controls",
          "model_name": "HBoxModel",
          "model_module_version": "1.5.0",
          "state": {
            "_dom_classes": [],
            "_model_module": "@jupyter-widgets/controls",
            "_model_module_version": "1.5.0",
            "_model_name": "HBoxModel",
            "_view_count": null,
            "_view_module": "@jupyter-widgets/controls",
            "_view_module_version": "1.5.0",
            "_view_name": "HBoxView",
            "box_style": "",
            "children": [
              "IPY_MODEL_cbe72ac522404178b18df52b3e6b2890",
              "IPY_MODEL_6414b26cc2a449619e9ad35d671d88b8",
              "IPY_MODEL_09157def70b1476888381fa5175ab747"
            ],
            "layout": "IPY_MODEL_dbda9db00e214e7ea3dd8dbd85bd9595"
          }
        },
        "cbe72ac522404178b18df52b3e6b2890": {
          "model_module": "@jupyter-widgets/controls",
          "model_name": "HTMLModel",
          "model_module_version": "1.5.0",
          "state": {
            "_dom_classes": [],
            "_model_module": "@jupyter-widgets/controls",
            "_model_module_version": "1.5.0",
            "_model_name": "HTMLModel",
            "_view_count": null,
            "_view_module": "@jupyter-widgets/controls",
            "_view_module_version": "1.5.0",
            "_view_name": "HTMLView",
            "description": "",
            "description_tooltip": null,
            "layout": "IPY_MODEL_c93b011e96d2445391727865e7e1d718",
            "placeholder": "​",
            "style": "IPY_MODEL_d68d4a8d45d445b48d69eb3068ae4cca",
            "value": "100%"
          }
        },
        "6414b26cc2a449619e9ad35d671d88b8": {
          "model_module": "@jupyter-widgets/controls",
          "model_name": "FloatProgressModel",
          "model_module_version": "1.5.0",
          "state": {
            "_dom_classes": [],
            "_model_module": "@jupyter-widgets/controls",
            "_model_module_version": "1.5.0",
            "_model_name": "FloatProgressModel",
            "_view_count": null,
            "_view_module": "@jupyter-widgets/controls",
            "_view_module_version": "1.5.0",
            "_view_name": "ProgressView",
            "bar_style": "success",
            "description": "",
            "description_tooltip": null,
            "layout": "IPY_MODEL_f0c9ece35189440fb8de057434694ef2",
            "max": 235,
            "min": 0,
            "orientation": "horizontal",
            "style": "IPY_MODEL_47d757d8102447f282f93c5543417982",
            "value": 235
          }
        },
        "09157def70b1476888381fa5175ab747": {
          "model_module": "@jupyter-widgets/controls",
          "model_name": "HTMLModel",
          "model_module_version": "1.5.0",
          "state": {
            "_dom_classes": [],
            "_model_module": "@jupyter-widgets/controls",
            "_model_module_version": "1.5.0",
            "_model_name": "HTMLModel",
            "_view_count": null,
            "_view_module": "@jupyter-widgets/controls",
            "_view_module_version": "1.5.0",
            "_view_name": "HTMLView",
            "description": "",
            "description_tooltip": null,
            "layout": "IPY_MODEL_ea7afb44019849c3aa6eaa826124a19e",
            "placeholder": "​",
            "style": "IPY_MODEL_4ff22c33024f4eebb0b195628ceb3f9d",
            "value": " 235/235 [07:22&lt;00:00,  1.64s/it]"
          }
        },
        "dbda9db00e214e7ea3dd8dbd85bd9595": {
          "model_module": "@jupyter-widgets/base",
          "model_name": "LayoutModel",
          "model_module_version": "1.2.0",
          "state": {
            "_model_module": "@jupyter-widgets/base",
            "_model_module_version": "1.2.0",
            "_model_name": "LayoutModel",
            "_view_count": null,
            "_view_module": "@jupyter-widgets/base",
            "_view_module_version": "1.2.0",
            "_view_name": "LayoutView",
            "align_content": null,
            "align_items": null,
            "align_self": null,
            "border": null,
            "bottom": null,
            "display": null,
            "flex": null,
            "flex_flow": null,
            "grid_area": null,
            "grid_auto_columns": null,
            "grid_auto_flow": null,
            "grid_auto_rows": null,
            "grid_column": null,
            "grid_gap": null,
            "grid_row": null,
            "grid_template_areas": null,
            "grid_template_columns": null,
            "grid_template_rows": null,
            "height": null,
            "justify_content": null,
            "justify_items": null,
            "left": null,
            "margin": null,
            "max_height": null,
            "max_width": null,
            "min_height": null,
            "min_width": null,
            "object_fit": null,
            "object_position": null,
            "order": null,
            "overflow": null,
            "overflow_x": null,
            "overflow_y": null,
            "padding": null,
            "right": null,
            "top": null,
            "visibility": null,
            "width": null
          }
        },
        "c93b011e96d2445391727865e7e1d718": {
          "model_module": "@jupyter-widgets/base",
          "model_name": "LayoutModel",
          "model_module_version": "1.2.0",
          "state": {
            "_model_module": "@jupyter-widgets/base",
            "_model_module_version": "1.2.0",
            "_model_name": "LayoutModel",
            "_view_count": null,
            "_view_module": "@jupyter-widgets/base",
            "_view_module_version": "1.2.0",
            "_view_name": "LayoutView",
            "align_content": null,
            "align_items": null,
            "align_self": null,
            "border": null,
            "bottom": null,
            "display": null,
            "flex": null,
            "flex_flow": null,
            "grid_area": null,
            "grid_auto_columns": null,
            "grid_auto_flow": null,
            "grid_auto_rows": null,
            "grid_column": null,
            "grid_gap": null,
            "grid_row": null,
            "grid_template_areas": null,
            "grid_template_columns": null,
            "grid_template_rows": null,
            "height": null,
            "justify_content": null,
            "justify_items": null,
            "left": null,
            "margin": null,
            "max_height": null,
            "max_width": null,
            "min_height": null,
            "min_width": null,
            "object_fit": null,
            "object_position": null,
            "order": null,
            "overflow": null,
            "overflow_x": null,
            "overflow_y": null,
            "padding": null,
            "right": null,
            "top": null,
            "visibility": null,
            "width": null
          }
        },
        "d68d4a8d45d445b48d69eb3068ae4cca": {
          "model_module": "@jupyter-widgets/controls",
          "model_name": "DescriptionStyleModel",
          "model_module_version": "1.5.0",
          "state": {
            "_model_module": "@jupyter-widgets/controls",
            "_model_module_version": "1.5.0",
            "_model_name": "DescriptionStyleModel",
            "_view_count": null,
            "_view_module": "@jupyter-widgets/base",
            "_view_module_version": "1.2.0",
            "_view_name": "StyleView",
            "description_width": ""
          }
        },
        "f0c9ece35189440fb8de057434694ef2": {
          "model_module": "@jupyter-widgets/base",
          "model_name": "LayoutModel",
          "model_module_version": "1.2.0",
          "state": {
            "_model_module": "@jupyter-widgets/base",
            "_model_module_version": "1.2.0",
            "_model_name": "LayoutModel",
            "_view_count": null,
            "_view_module": "@jupyter-widgets/base",
            "_view_module_version": "1.2.0",
            "_view_name": "LayoutView",
            "align_content": null,
            "align_items": null,
            "align_self": null,
            "border": null,
            "bottom": null,
            "display": null,
            "flex": null,
            "flex_flow": null,
            "grid_area": null,
            "grid_auto_columns": null,
            "grid_auto_flow": null,
            "grid_auto_rows": null,
            "grid_column": null,
            "grid_gap": null,
            "grid_row": null,
            "grid_template_areas": null,
            "grid_template_columns": null,
            "grid_template_rows": null,
            "height": null,
            "justify_content": null,
            "justify_items": null,
            "left": null,
            "margin": null,
            "max_height": null,
            "max_width": null,
            "min_height": null,
            "min_width": null,
            "object_fit": null,
            "object_position": null,
            "order": null,
            "overflow": null,
            "overflow_x": null,
            "overflow_y": null,
            "padding": null,
            "right": null,
            "top": null,
            "visibility": null,
            "width": null
          }
        },
        "47d757d8102447f282f93c5543417982": {
          "model_module": "@jupyter-widgets/controls",
          "model_name": "ProgressStyleModel",
          "model_module_version": "1.5.0",
          "state": {
            "_model_module": "@jupyter-widgets/controls",
            "_model_module_version": "1.5.0",
            "_model_name": "ProgressStyleModel",
            "_view_count": null,
            "_view_module": "@jupyter-widgets/base",
            "_view_module_version": "1.2.0",
            "_view_name": "StyleView",
            "bar_color": null,
            "description_width": ""
          }
        },
        "ea7afb44019849c3aa6eaa826124a19e": {
          "model_module": "@jupyter-widgets/base",
          "model_name": "LayoutModel",
          "model_module_version": "1.2.0",
          "state": {
            "_model_module": "@jupyter-widgets/base",
            "_model_module_version": "1.2.0",
            "_model_name": "LayoutModel",
            "_view_count": null,
            "_view_module": "@jupyter-widgets/base",
            "_view_module_version": "1.2.0",
            "_view_name": "LayoutView",
            "align_content": null,
            "align_items": null,
            "align_self": null,
            "border": null,
            "bottom": null,
            "display": null,
            "flex": null,
            "flex_flow": null,
            "grid_area": null,
            "grid_auto_columns": null,
            "grid_auto_flow": null,
            "grid_auto_rows": null,
            "grid_column": null,
            "grid_gap": null,
            "grid_row": null,
            "grid_template_areas": null,
            "grid_template_columns": null,
            "grid_template_rows": null,
            "height": null,
            "justify_content": null,
            "justify_items": null,
            "left": null,
            "margin": null,
            "max_height": null,
            "max_width": null,
            "min_height": null,
            "min_width": null,
            "object_fit": null,
            "object_position": null,
            "order": null,
            "overflow": null,
            "overflow_x": null,
            "overflow_y": null,
            "padding": null,
            "right": null,
            "top": null,
            "visibility": null,
            "width": null
          }
        },
        "4ff22c33024f4eebb0b195628ceb3f9d": {
          "model_module": "@jupyter-widgets/controls",
          "model_name": "DescriptionStyleModel",
          "model_module_version": "1.5.0",
          "state": {
            "_model_module": "@jupyter-widgets/controls",
            "_model_module_version": "1.5.0",
            "_model_name": "DescriptionStyleModel",
            "_view_count": null,
            "_view_module": "@jupyter-widgets/base",
            "_view_module_version": "1.2.0",
            "_view_name": "StyleView",
            "description_width": ""
          }
        }
      }
    }
  },
  "cells": [
    {
      "cell_type": "markdown",
      "source": [
        "# Семинар 5: взрыв и затухание градиента\n",
        "\n",
        "В этой тетрадке мы немного поэкспериментируем с затухающими и взрывающимися градиентами. Делать это будем на уже знакомом нам датасете fashoin MNIST. \n",
        "\n",
        "В этом разделе мы не будем пытаться подобрать более удачную архитектуру, нам интересно только посмотреть на особенности обучения глубоких сетей."
      ],
      "metadata": {
        "id": "y4Xf6cNJZaFf"
      }
    },
    {
      "cell_type": "code",
      "source": [
        "import numpy as np\n",
        "\n",
        "import matplotlib.pyplot as plt\n",
        "%matplotlib inline"
      ],
      "metadata": {
        "id": "gP0z0SaVZ12a"
      },
      "execution_count": 1,
      "outputs": []
    },
    {
      "cell_type": "code",
      "source": [
        "import tensorflow as tf\n",
        "tf.__version__ "
      ],
      "metadata": {
        "colab": {
          "base_uri": "https://localhost:8080/",
          "height": 36
        },
        "id": "jxAu_UbSZd3f",
        "outputId": "8e7cb631-cefc-4923-b6d5-201f1cdf063d"
      },
      "execution_count": 2,
      "outputs": [
        {
          "output_type": "execute_result",
          "data": {
            "text/plain": [
              "'2.8.0'"
            ],
            "application/vnd.google.colaboratory.intrinsic+json": {
              "type": "string"
            }
          },
          "metadata": {},
          "execution_count": 2
        }
      ]
    },
    {
      "cell_type": "code",
      "source": [
        "fashion_mnist = tf.keras.datasets.fashion_mnist\n",
        "(X_train, y_train), (X_test, y_test) = fashion_mnist.load_data()\n",
        "\n",
        "class_names = ['T-shirt/top', 'Trouser', 'Pullover', 'Dress', 'Coat',\n",
        "               'Sandal', 'Shirt', 'Sneaker', 'Bag', 'Ankle boot']\n",
        "\n",
        "X_train.shape, X_test.shape"
      ],
      "metadata": {
        "colab": {
          "base_uri": "https://localhost:8080/"
        },
        "id": "TFB-B5xcZkOe",
        "outputId": "68ff12e1-1f12-4e2e-c034-f0ce06a74065"
      },
      "execution_count": 3,
      "outputs": [
        {
          "output_type": "stream",
          "name": "stdout",
          "text": [
            "Downloading data from https://storage.googleapis.com/tensorflow/tf-keras-datasets/train-labels-idx1-ubyte.gz\n",
            "32768/29515 [=================================] - 0s 0us/step\n",
            "40960/29515 [=========================================] - 0s 0us/step\n",
            "Downloading data from https://storage.googleapis.com/tensorflow/tf-keras-datasets/train-images-idx3-ubyte.gz\n",
            "26427392/26421880 [==============================] - 0s 0us/step\n",
            "26435584/26421880 [==============================] - 0s 0us/step\n",
            "Downloading data from https://storage.googleapis.com/tensorflow/tf-keras-datasets/t10k-labels-idx1-ubyte.gz\n",
            "16384/5148 [===============================================================================================] - 0s 0us/step\n",
            "Downloading data from https://storage.googleapis.com/tensorflow/tf-keras-datasets/t10k-images-idx3-ubyte.gz\n",
            "4423680/4422102 [==============================] - 0s 0us/step\n",
            "4431872/4422102 [==============================] - 0s 0us/step\n"
          ]
        },
        {
          "output_type": "execute_result",
          "data": {
            "text/plain": [
              "((60000, 28, 28), (10000, 28, 28))"
            ]
          },
          "metadata": {},
          "execution_count": 3
        }
      ]
    },
    {
      "cell_type": "code",
      "source": [
        "cols = 8\n",
        "rows = 2\n",
        "fig = plt.figure(figsize=(2 * cols, 2.5 * rows))\n",
        "for i in range(cols):\n",
        "    for j in range(rows):\n",
        "        random_index = np.random.randint(0, len(y_train))\n",
        "        ax = fig.add_subplot(rows, cols, i * rows + j + 1)\n",
        "        ax.grid(False)\n",
        "        ax.set_xticks([])\n",
        "        ax.set_yticks([])\n",
        "        ax.imshow(X_train[random_index, :], cmap = 'gray')\n",
        "        ax.set_xlabel(class_names[y_train[random_index]])\n",
        "plt.show()"
      ],
      "metadata": {
        "colab": {
          "base_uri": "https://localhost:8080/",
          "height": 288
        },
        "id": "7Z-rj8mBZkQ7",
        "outputId": "85e026a6-f9f9-401c-e944-0dd368fb9493"
      },
      "execution_count": 4,
      "outputs": [
        {
          "output_type": "display_data",
          "data": {
            "text/plain": [
              "<Figure size 1152x360 with 16 Axes>"
            ],
            "image/png": "[encoded data removed]"
          },
          "metadata": {}
        }
      ]
    },
    {
      "cell_type": "code",
      "source": [
        "X_train.max()/2"
      ],
      "metadata": {
        "colab": {
          "base_uri": "https://localhost:8080/"
        },
        "id": "hpe2zc7OUdO9",
        "outputId": "5fd2a70f-42bc-46db-a3f2-87e6da03d86a"
      },
      "execution_count": 5,
      "outputs": [
        {
          "output_type": "execute_result",
          "data": {
            "text/plain": [
              "127.5"
            ]
          },
          "metadata": {},
          "execution_count": 5
        }
      ]
    },
    {
      "cell_type": "code",
      "source": [
        "X_train = X_train/127.5 - 1\n",
        "X_test = X_test/127.5 - 1"
      ],
      "metadata": {
        "id": "Awp_ZxpJZkTN"
      },
      "execution_count": 6,
      "outputs": []
    },
    {
      "cell_type": "code",
      "source": [
        "X_train.min(), X_train.max()"
      ],
      "metadata": {
        "colab": {
          "base_uri": "https://localhost:8080/"
        },
        "id": "p0oB2NjcUjEC",
        "outputId": "0d10e0ed-cc5e-46e4-8fdc-d87a9714634e"
      },
      "execution_count": 7,
      "outputs": [
        {
          "output_type": "execute_result",
          "data": {
            "text/plain": [
              "(-1.0, 1.0)"
            ]
          },
          "metadata": {},
          "execution_count": 7
        }
      ]
    },
    {
      "cell_type": "markdown",
      "source": [
        "Для экспериментов нам понадобится реализовать сеть, в которой можно легко менять количество слоев. Также эта сеть должна сохранять градиенты на всех слоях, чтобы потом мы могли посмотреть на их величины.\n",
        "\n",
        "**Задание 1:** допишите недостающую часть кода ниже."
      ],
      "metadata": {
        "id": "Cf_FVqnwaZSQ"
      }
    },
    {
      "cell_type": "code",
      "source": [
        "X_train[0].shape"
      ],
      "metadata": {
        "colab": {
          "base_uri": "https://localhost:8080/"
        },
        "id": "LzPO-3AiXUHm",
        "outputId": "4fa4bac3-0bc7-4830-bf87-76f7a49ab9d7"
      },
      "execution_count": 38,
      "outputs": [
        {
          "output_type": "execute_result",
          "data": {
            "text/plain": [
              "(28, 28)"
            ]
          },
          "metadata": {},
          "execution_count": 38
        }
      ]
    },
    {
      "cell_type": "code",
      "source": [
        "from tensorflow.keras import Model, layers, Sequential\n",
        "import tensorflow.keras.optimizers as opt\n",
        "\n",
        "class DeepDenseNet(Model):\n",
        "    def __init__(self, activation, k):\n",
        "        super().__init__()\n",
        "        self.activation = activation\n",
        "        self.units = k\n",
        "        self.nn_layers = [layers.Flatten()]\n",
        "        while k > 16:\n",
        "            self.nn_layers.append(layers.Dense(k, activation=activation))\n",
        "            k = k // 2\n",
        "\n",
        "        self.nn_layers.append(layers.Dense(10, activation='softmax'))\n",
        "        self.seq = Sequential(self.nn_layers)\n",
        "        \n",
        "    def call(self, x):\n",
        "        out = self.seq(x)\n",
        "        return out"
      ],
      "metadata": {
        "id": "SoNDO0s9D5Qt"
      },
      "execution_count": 45,
      "outputs": []
    },
    {
      "cell_type": "markdown",
      "source": [
        "Напишите функции обучения так, чтобы они рисовали графики изменения градиентов и траектории обучения."
      ],
      "metadata": {
        "id": "GWsxld6waiA4"
      }
    },
    {
      "cell_type": "code",
      "source": [
        "model = DeepDenseNet('sigmoid', 2048)"
      ],
      "metadata": {
        "id": "4mZQN7v5U6w1"
      },
      "execution_count": 34,
      "outputs": []
    },
    {
      "cell_type": "code",
      "source": [
        "model(X_train[:2])"
      ],
      "metadata": {
        "colab": {
          "base_uri": "https://localhost:8080/"
        },
        "id": "vxAbnrHKWsZN",
        "outputId": "2b9532be-b865-46ec-83d5-a64d4161d72d"
      },
      "execution_count": 35,
      "outputs": [
        {
          "output_type": "execute_result",
          "data": {
            "text/plain": [
              "<tf.Tensor: shape=(2, 10), dtype=float32, numpy=\n",
              "array([[0.25747958, 0.04154446, 0.10088023, 0.02238228, 0.03311049,\n",
              "        0.15796676, 0.07958346, 0.03383782, 0.18716322, 0.08605181],\n",
              "       [0.25749627, 0.04154279, 0.10087848, 0.02238191, 0.03311251,\n",
              "        0.15798281, 0.07957356, 0.03383774, 0.18713664, 0.08605731]],\n",
              "      dtype=float32)>"
            ]
          },
          "metadata": {},
          "execution_count": 35
        }
      ]
    },
    {
      "cell_type": "code",
      "source": [
        "model.compile(opt.Adam(), 'sparse_cross_entropy')\n",
        "model.fit(X_train, y_train, epochs=1, verbose=1)"
      ],
      "metadata": {
        "colab": {
          "base_uri": "https://localhost:8080/"
        },
        "id": "wXYajBVdXx6B",
        "outputId": "9681ddaf-636c-4c32-d06c-18ba2e16a0e9"
      },
      "execution_count": 46,
      "outputs": [
        {
          "output_type": "stream",
          "name": "stdout",
          "text": [
            "1875/1875 [==============================] - 75s 39ms/step - loss: 27.6101\n"
          ]
        },
        {
          "output_type": "execute_result",
          "data": {
            "text/plain": [
              "<keras.callbacks.History at 0x7f239f820590>"
            ]
          },
          "metadata": {},
          "execution_count": 46
        }
      ]
    },
    {
      "cell_type": "code",
      "source": [
        "train_ds = tf.data.Dataset.from_tensor_slices((X_train, y_train))\n",
        "test_ds = tf.data.Dataset.from_tensor_slices((X_test, y_test))\n",
        "\n",
        "train_ds = train_ds.shuffle(10000).batch(256)\n",
        "test_ds = test_ds.batch(256)"
      ],
      "metadata": {
        "id": "6_wek_XZYb0H"
      },
      "execution_count": 53,
      "outputs": []
    },
    {
      "cell_type": "code",
      "source": [
        "learning_rate = 1e-4\n",
        "optimizer = tf.optimizers.Adam(learning_rate)\n",
        "\n",
        "loss_function = tf.keras.losses.SparseCategoricalCrossentropy()"
      ],
      "metadata": {
        "id": "QYUOSwJMYsIp"
      },
      "execution_count": 54,
      "outputs": []
    },
    {
      "cell_type": "code",
      "source": [
        "from tqdm.notebook import tqdm\n",
        "\n",
        "@tf.function\n",
        "def train_step(images, labels, model):\n",
        "    \n",
        "    # находим loss и пробрасываем градиент\n",
        "    with tf.GradientTape() as t:\n",
        "        pred = model.call(images)\n",
        "        loss = loss_function(labels, pred)\n",
        "        \n",
        "    # Вычисляем градиенты и обновляем веса\n",
        "    gr = t.gradient(loss, model.trainable_variables)\n",
        "    optimizer.apply_gradients(zip(gr, model.trainable_variables))\n",
        "    \n",
        "    return gr\n",
        "\n",
        "def train_model(train_ds, X_test, y_test, model, EPOCHS=1):\n",
        "\n",
        "    total_grad = [ ]\n",
        "    losses = [ ]\n",
        "    for images, labels in tqdm(train_ds):\n",
        "        g = train_step(images, labels, model)\n",
        "        total_grad.append(g)\n",
        "        losses.append(loss_function(y_test, model(X_test)))\n",
        "        \n",
        "    return total_grad, losses"
      ],
      "metadata": {
        "id": "b9jozA7HabRT"
      },
      "execution_count": 78,
      "outputs": []
    },
    {
      "cell_type": "code",
      "source": [
        "model_s = DeepDenseNet('sigmoid', 2048)\n",
        "grad, loss = train_model(train_ds, X_test, y_test, model_s)"
      ],
      "metadata": {
        "colab": {
          "base_uri": "https://localhost:8080/",
          "height": 49,
          "referenced_widgets": [
            "d4fb2b04f5014d3bb7fe0e786db1693b",
            "cbe72ac522404178b18df52b3e6b2890",
            "6414b26cc2a449619e9ad35d671d88b8",
            "09157def70b1476888381fa5175ab747",
            "dbda9db00e214e7ea3dd8dbd85bd9595",
            "c93b011e96d2445391727865e7e1d718",
            "d68d4a8d45d445b48d69eb3068ae4cca",
            "f0c9ece35189440fb8de057434694ef2",
            "47d757d8102447f282f93c5543417982",
            "ea7afb44019849c3aa6eaa826124a19e",
            "4ff22c33024f4eebb0b195628ceb3f9d"
          ]
        },
        "id": "AIh7CgWgasJQ",
        "outputId": "3ae6129c-a51c-475c-a03d-d8abb417b46b"
      },
      "execution_count": 79,
      "outputs": [
        {
          "output_type": "display_data",
          "data": {
            "text/plain": [
              "  0%|          | 0/235 [00:00<?, ?it/s]"
            ],
            "application/vnd.jupyter.widget-view+json": {
              "version_major": 2,
              "version_minor": 0,
              "model_id": "d4fb2b04f5014d3bb7fe0e786db1693b"
            }
          },
          "metadata": {}
        }
      ]
    },
    {
      "cell_type": "code",
      "source": [
        "plt.plot(loss)"
      ],
      "metadata": {
        "colab": {
          "base_uri": "https://localhost:8080/",
          "height": 284
        },
        "id": "VvE5FlHuc7Ty",
        "outputId": "0df0f072-6e43-47d5-dcd0-436c8cd4ecb7"
      },
      "execution_count": 80,
      "outputs": [
        {
          "output_type": "execute_result",
          "data": {
            "text/plain": [
              "[<matplotlib.lines.Line2D at 0x7f239baa2ed0>]"
            ]
          },
          "metadata": {},
          "execution_count": 80
        },
        {
          "output_type": "display_data",
          "data": {
            "text/plain": [
              "<Figure size 432x288 with 1 Axes>"
            ],
            "image/png": "[encoded data removed]"
          },
          "metadata": {
            "needs_background": "light"
          }
        }
      ]
    },
    {
      "cell_type": "code",
      "source": [
        "H = np.array([[np.abs(jtem.numpy()).sum() for jtem in ktem] for ktem in grad])\n",
        "H"
      ],
      "metadata": {
        "colab": {
          "base_uri": "https://localhost:8080/"
        },
        "id": "MEBmKd-3c-2G",
        "outputId": "19d80d22-c2cb-4db7-a400-ee0e9e570433"
      },
      "execution_count": 84,
      "outputs": [
        {
          "output_type": "execute_result",
          "data": {
            "text/plain": [
              "array([[4.64018166e-01, 7.37612601e-04, 2.02380538e+00, ...,\n",
              "        2.44279757e-01, 6.41214275e+00, 4.22999978e-01],\n",
              "       [5.30638874e-01, 9.16309364e-04, 2.47068453e+00, ...,\n",
              "        2.81142324e-01, 7.42369795e+00, 4.90245938e-01],\n",
              "       [5.35238326e-01, 9.92876478e-04, 2.69065642e+00, ...,\n",
              "        3.14443171e-01, 6.50472498e+00, 4.30092633e-01],\n",
              "       ...,\n",
              "       [3.76841158e-01, 2.11865452e-04, 6.91420078e-01, ...,\n",
              "        5.20742275e-02, 1.46329832e+00, 1.11771546e-01],\n",
              "       [4.48279172e-01, 3.08770221e-04, 6.53852642e-01, ...,\n",
              "        5.04380465e-02, 1.59589267e+00, 1.20616056e-01],\n",
              "       [5.04244149e-01, 6.89131441e-04, 8.84219289e-01, ...,\n",
              "        7.58263916e-02, 2.15388584e+00, 1.65543899e-01]], dtype=float32)"
            ]
          },
          "metadata": {},
          "execution_count": 84
        }
      ]
    },
    {
      "cell_type": "code",
      "source": [
        "H.shape"
      ],
      "metadata": {
        "colab": {
          "base_uri": "https://localhost:8080/"
        },
        "id": "ybkkq0U9bPnM",
        "outputId": "2dc714b5-df8a-40a0-ca6a-2af258829291"
      },
      "execution_count": 85,
      "outputs": [
        {
          "output_type": "execute_result",
          "data": {
            "text/plain": [
              "(235, 16)"
            ]
          },
          "metadata": {},
          "execution_count": 85
        }
      ]
    },
    {
      "cell_type": "code",
      "source": [
        "import pandas as pd \n",
        "df = pd.DataFrame(H)\n",
        "df"
      ],
      "metadata": {
        "colab": {
          "base_uri": "https://localhost:8080/",
          "height": 467
        },
        "id": "SvYiAZosdQEM",
        "outputId": "ed0311ca-42fa-4467-9ef8-8d8a60a9abdc"
      },
      "execution_count": 89,
      "outputs": [
        {
          "output_type": "execute_result",
          "data": {
            "text/plain": [
              "           0         1         2         3         4         5         6   \\\n",
              "0    0.464018  0.000738  2.023805  0.001941  2.694500  0.005210  3.605252   \n",
              "1    0.530639  0.000916  2.470685  0.002378  3.360002  0.006498  4.425563   \n",
              "2    0.535238  0.000993  2.690656  0.002604  3.597601  0.006959  4.878550   \n",
              "3    0.464758  0.000667  1.839834  0.001758  2.402057  0.004640  3.265006   \n",
              "4    0.516189  0.000896  2.438177  0.002353  3.230169  0.006238  4.330927   \n",
              "..        ...       ...       ...       ...       ...       ...       ...   \n",
              "230  0.548615  0.001143  0.814866  0.000691  1.016760  0.001428  1.478200   \n",
              "231  0.455614  0.000776  0.725748  0.000592  1.009632  0.001493  1.542725   \n",
              "232  0.376841  0.000212  0.691420  0.000411  1.048339  0.001267  1.549749   \n",
              "233  0.448279  0.000309  0.653853  0.000350  0.945793  0.001075  1.418274   \n",
              "234  0.504244  0.000689  0.884219  0.000724  1.165031  0.001787  1.648099   \n",
              "\n",
              "           7         8         9         10        11         12        13  \\\n",
              "0    0.013831  4.965524  0.037835  6.306372  0.097354   7.925475  0.244280   \n",
              "1    0.016967  5.830120  0.044402  7.202214  0.111209   9.123548  0.281142   \n",
              "2    0.018701  6.521322  0.049629  8.025184  0.123984  10.207394  0.314443   \n",
              "3    0.012498  4.475728  0.034035  5.754822  0.088962   7.327559  0.225687   \n",
              "4    0.016576  5.959569  0.045282  7.430656  0.114926   8.944958  0.275452   \n",
              "..        ...       ...       ...       ...       ...        ...       ...   \n",
              "230  0.003582  1.529009  0.007137  1.726266  0.021285   2.672005  0.073666   \n",
              "231  0.004222  1.752041  0.009380  2.172156  0.029208   3.330904  0.092776   \n",
              "232  0.003164  1.495985  0.005629  1.428697  0.014446   1.919164  0.052074   \n",
              "233  0.002896  1.407622  0.005376  1.371730  0.014290   1.945156  0.050438   \n",
              "234  0.004141  1.882110  0.009576  2.044322  0.023737   2.749101  0.075826   \n",
              "\n",
              "           14        15  \n",
              "0    6.412143  0.423000  \n",
              "1    7.423698  0.490246  \n",
              "2    6.504725  0.430093  \n",
              "3    6.537101  0.432828  \n",
              "4    6.934938  0.459847  \n",
              "..        ...       ...  \n",
              "230  2.129895  0.163088  \n",
              "231  2.714578  0.208176  \n",
              "232  1.463298  0.111772  \n",
              "233  1.595893  0.120616  \n",
              "234  2.153886  0.165544  \n",
              "\n",
              "[235 rows x 16 columns]"
            ],
            "text/html": [
              "\n",
              "  <div id=\"df-6fe7610c-7709-410b-9428-c68a15b31b45\">\n",
              "    <div class=\"colab-df-container\">\n",
              "      <div>\n",
              "<style scoped>\n",
              "    .dataframe tbody tr th:only-of-type {\n",
              "        vertical-align: middle;\n",
              "    }\n",
              "\n",
              "    .dataframe tbody tr th {\n",
              "        vertical-align: top;\n",
              "    }\n",
              "\n",
              "    .dataframe thead th {\n",
              "        text-align: right;\n",
              "    }\n",
              "</style>\n",
              "<table border=\"1\" class=\"dataframe\">\n",
              "  <thead>\n",
              "    <tr style=\"text-align: right;\">\n",
              "      <th></th>\n",
              "      <th>0</th>\n",
              "      <th>1</th>\n",
              "      <th>2</th>\n",
              "      <th>3</th>\n",
              "      <th>4</th>\n",
              "      <th>5</th>\n",
              "      <th>6</th>\n",
              "      <th>7</th>\n",
              "      <th>8</th>\n",
              "      <th>9</th>\n",
              "      <th>10</th>\n",
              "      <th>11</th>\n",
              "      <th>12</th>\n",
              "      <th>13</th>\n",
              "      <th>14</th>\n",
              "      <th>15</th>\n",
              "    </tr>\n",
              "  </thead>\n",
              "  <tbody>\n",
              "    <tr>\n",
              "      <th>0</th>\n",
              "      <td>0.464018</td>\n",
              "      <td>0.000738</td>\n",
              "      <td>2.023805</td>\n",
              "      <td>0.001941</td>\n",
              "      <td>2.694500</td>\n",
              "      <td>0.005210</td>\n",
              "      <td>3.605252</td>\n",
              "      <td>0.013831</td>\n",
              "      <td>4.965524</td>\n",
              "      <td>0.037835</td>\n",
              "      <td>6.306372</td>\n",
              "      <td>0.097354</td>\n",
              "      <td>7.925475</td>\n",
              "      <td>0.244280</td>\n",
              "      <td>6.412143</td>\n",
              "      <td>0.423000</td>\n",
              "    </tr>\n",
              "    <tr>\n",
              "      <th>1</th>\n",
              "      <td>0.530639</td>\n",
              "      <td>0.000916</td>\n",
              "      <td>2.470685</td>\n",
              "      <td>0.002378</td>\n",
              "      <td>3.360002</td>\n",
              "      <td>0.006498</td>\n",
              "      <td>4.425563</td>\n",
              "      <td>0.016967</td>\n",
              "      <td>5.830120</td>\n",
              "      <td>0.044402</td>\n",
              "      <td>7.202214</td>\n",
              "      <td>0.111209</td>\n",
              "      <td>9.123548</td>\n",
              "      <td>0.281142</td>\n",
              "      <td>7.423698</td>\n",
              "      <td>0.490246</td>\n",
              "    </tr>\n",
              "    <tr>\n",
              "      <th>2</th>\n",
              "      <td>0.535238</td>\n",
              "      <td>0.000993</td>\n",
              "      <td>2.690656</td>\n",
              "      <td>0.002604</td>\n",
              "      <td>3.597601</td>\n",
              "      <td>0.006959</td>\n",
              "      <td>4.878550</td>\n",
              "      <td>0.018701</td>\n",
              "      <td>6.521322</td>\n",
              "      <td>0.049629</td>\n",
              "      <td>8.025184</td>\n",
              "      <td>0.123984</td>\n",
              "      <td>10.207394</td>\n",
              "      <td>0.314443</td>\n",
              "      <td>6.504725</td>\n",
              "      <td>0.430093</td>\n",
              "    </tr>\n",
              "    <tr>\n",
              "      <th>3</th>\n",
              "      <td>0.464758</td>\n",
              "      <td>0.000667</td>\n",
              "      <td>1.839834</td>\n",
              "      <td>0.001758</td>\n",
              "      <td>2.402057</td>\n",
              "      <td>0.004640</td>\n",
              "      <td>3.265006</td>\n",
              "      <td>0.012498</td>\n",
              "      <td>4.475728</td>\n",
              "      <td>0.034035</td>\n",
              "      <td>5.754822</td>\n",
              "      <td>0.088962</td>\n",
              "      <td>7.327559</td>\n",
              "      <td>0.225687</td>\n",
              "      <td>6.537101</td>\n",
              "      <td>0.432828</td>\n",
              "    </tr>\n",
              "    <tr>\n",
              "      <th>4</th>\n",
              "      <td>0.516189</td>\n",
              "      <td>0.000896</td>\n",
              "      <td>2.438177</td>\n",
              "      <td>0.002353</td>\n",
              "      <td>3.230169</td>\n",
              "      <td>0.006238</td>\n",
              "      <td>4.330927</td>\n",
              "      <td>0.016576</td>\n",
              "      <td>5.959569</td>\n",
              "      <td>0.045282</td>\n",
              "      <td>7.430656</td>\n",
              "      <td>0.114926</td>\n",
              "      <td>8.944958</td>\n",
              "      <td>0.275452</td>\n",
              "      <td>6.934938</td>\n",
              "      <td>0.459847</td>\n",
              "    </tr>\n",
              "    <tr>\n",
              "      <th>...</th>\n",
              "      <td>...</td>\n",
              "      <td>...</td>\n",
              "      <td>...</td>\n",
              "      <td>...</td>\n",
              "      <td>...</td>\n",
              "      <td>...</td>\n",
              "      <td>...</td>\n",
              "      <td>...</td>\n",
              "      <td>...</td>\n",
              "      <td>...</td>\n",
              "      <td>...</td>\n",
              "      <td>...</td>\n",
              "      <td>...</td>\n",
              "      <td>...</td>\n",
              "      <td>...</td>\n",
              "      <td>...</td>\n",
              "    </tr>\n",
              "    <tr>\n",
              "      <th>230</th>\n",
              "      <td>0.548615</td>\n",
              "      <td>0.001143</td>\n",
              "      <td>0.814866</td>\n",
              "      <td>0.000691</td>\n",
              "      <td>1.016760</td>\n",
              "      <td>0.001428</td>\n",
              "      <td>1.478200</td>\n",
              "      <td>0.003582</td>\n",
              "      <td>1.529009</td>\n",
              "      <td>0.007137</td>\n",
              "      <td>1.726266</td>\n",
              "      <td>0.021285</td>\n",
              "      <td>2.672005</td>\n",
              "      <td>0.073666</td>\n",
              "      <td>2.129895</td>\n",
              "      <td>0.163088</td>\n",
              "    </tr>\n",
              "    <tr>\n",
              "      <th>231</th>\n",
              "      <td>0.455614</td>\n",
              "      <td>0.000776</td>\n",
              "      <td>0.725748</td>\n",
              "      <td>0.000592</td>\n",
              "      <td>1.009632</td>\n",
              "      <td>0.001493</td>\n",
              "      <td>1.542725</td>\n",
              "      <td>0.004222</td>\n",
              "      <td>1.752041</td>\n",
              "      <td>0.009380</td>\n",
              "      <td>2.172156</td>\n",
              "      <td>0.029208</td>\n",
              "      <td>3.330904</td>\n",
              "      <td>0.092776</td>\n",
              "      <td>2.714578</td>\n",
              "      <td>0.208176</td>\n",
              "    </tr>\n",
              "    <tr>\n",
              "      <th>232</th>\n",
              "      <td>0.376841</td>\n",
              "      <td>0.000212</td>\n",
              "      <td>0.691420</td>\n",
              "      <td>0.000411</td>\n",
              "      <td>1.048339</td>\n",
              "      <td>0.001267</td>\n",
              "      <td>1.549749</td>\n",
              "      <td>0.003164</td>\n",
              "      <td>1.495985</td>\n",
              "      <td>0.005629</td>\n",
              "      <td>1.428697</td>\n",
              "      <td>0.014446</td>\n",
              "      <td>1.919164</td>\n",
              "      <td>0.052074</td>\n",
              "      <td>1.463298</td>\n",
              "      <td>0.111772</td>\n",
              "    </tr>\n",
              "    <tr>\n",
              "      <th>233</th>\n",
              "      <td>0.448279</td>\n",
              "      <td>0.000309</td>\n",
              "      <td>0.653853</td>\n",
              "      <td>0.000350</td>\n",
              "      <td>0.945793</td>\n",
              "      <td>0.001075</td>\n",
              "      <td>1.418274</td>\n",
              "      <td>0.002896</td>\n",
              "      <td>1.407622</td>\n",
              "      <td>0.005376</td>\n",
              "      <td>1.371730</td>\n",
              "      <td>0.014290</td>\n",
              "      <td>1.945156</td>\n",
              "      <td>0.050438</td>\n",
              "      <td>1.595893</td>\n",
              "      <td>0.120616</td>\n",
              "    </tr>\n",
              "    <tr>\n",
              "      <th>234</th>\n",
              "      <td>0.504244</td>\n",
              "      <td>0.000689</td>\n",
              "      <td>0.884219</td>\n",
              "      <td>0.000724</td>\n",
              "      <td>1.165031</td>\n",
              "      <td>0.001787</td>\n",
              "      <td>1.648099</td>\n",
              "      <td>0.004141</td>\n",
              "      <td>1.882110</td>\n",
              "      <td>0.009576</td>\n",
              "      <td>2.044322</td>\n",
              "      <td>0.023737</td>\n",
              "      <td>2.749101</td>\n",
              "      <td>0.075826</td>\n",
              "      <td>2.153886</td>\n",
              "      <td>0.165544</td>\n",
              "    </tr>\n",
              "  </tbody>\n",
              "</table>\n",
              "<p>235 rows × 16 columns</p>\n",
              "</div>\n",
              "      <button class=\"colab-df-convert\" onclick=\"convertToInteractive('df-6fe7610c-7709-410b-9428-c68a15b31b45')\"\n",
              "              title=\"Convert this dataframe to an interactive table.\"\n",
              "              style=\"display:none;\">\n",
              "        \n",
              "  <svg xmlns=\"http://www.w3.org/2000/svg\" height=\"24px\"viewBox=\"0 0 24 24\"\n",
              "       width=\"24px\">\n",
              "    <path d=\"M0 0h24v24H0V0z\" fill=\"none\"/>\n",
              "    <path d=\"M18.56 5.44l.94 2.06.94-2.06 2.06-.94-2.06-.94-.94-2.06-.94 2.06-2.06.94zm-11 1L8.5 8.5l.94-2.06 2.06-.94-2.06-.94L8.5 2.5l-.94 2.06-2.06.94zm10 10l.94 2.06.94-2.06 2.06-.94-2.06-.94-.94-2.06-.94 2.06-2.06.94z\"/><path d=\"M17.41 7.96l-1.37-1.37c-.4-.4-.92-.59-1.43-.59-.52 0-1.04.2-1.43.59L10.3 9.45l-7.72 7.72c-.78.78-.78 2.05 0 2.83L4 21.41c.39.39.9.59 1.41.59.51 0 1.02-.2 1.41-.59l7.78-7.78 2.81-2.81c.8-.78.8-2.07 0-2.86zM5.41 20L4 18.59l7.72-7.72 1.47 1.35L5.41 20z\"/>\n",
              "  </svg>\n",
              "      </button>\n",
              "      \n",
              "  <style>\n",
              "    .colab-df-container {\n",
              "      display:flex;\n",
              "      flex-wrap:wrap;\n",
              "      gap: 12px;\n",
              "    }\n",
              "\n",
              "    .colab-df-convert {\n",
              "      background-color: #E8F0FE;\n",
              "      border: none;\n",
              "      border-radius: 50%;\n",
              "      cursor: pointer;\n",
              "      display: none;\n",
              "      fill: #1967D2;\n",
              "      height: 32px;\n",
              "      padding: 0 0 0 0;\n",
              "      width: 32px;\n",
              "    }\n",
              "\n",
              "    .colab-df-convert:hover {\n",
              "      background-color: #E2EBFA;\n",
              "      box-shadow: 0px 1px 2px rgba(60, 64, 67, 0.3), 0px 1px 3px 1px rgba(60, 64, 67, 0.15);\n",
              "      fill: #174EA6;\n",
              "    }\n",
              "\n",
              "    [theme=dark] .colab-df-convert {\n",
              "      background-color: #3B4455;\n",
              "      fill: #D2E3FC;\n",
              "    }\n",
              "\n",
              "    [theme=dark] .colab-df-convert:hover {\n",
              "      background-color: #434B5C;\n",
              "      box-shadow: 0px 1px 3px 1px rgba(0, 0, 0, 0.15);\n",
              "      filter: drop-shadow(0px 1px 2px rgba(0, 0, 0, 0.3));\n",
              "      fill: #FFFFFF;\n",
              "    }\n",
              "  </style>\n",
              "\n",
              "      <script>\n",
              "        const buttonEl =\n",
              "          document.querySelector('#df-6fe7610c-7709-410b-9428-c68a15b31b45 button.colab-df-convert');\n",
              "        buttonEl.style.display =\n",
              "          google.colab.kernel.accessAllowed ? 'block' : 'none';\n",
              "\n",
              "        async function convertToInteractive(key) {\n",
              "          const element = document.querySelector('#df-6fe7610c-7709-410b-9428-c68a15b31b45');\n",
              "          const dataTable =\n",
              "            await google.colab.kernel.invokeFunction('convertToInteractive',\n",
              "                                                     [key], {});\n",
              "          if (!dataTable) return;\n",
              "\n",
              "          const docLinkHtml = 'Like what you see? Visit the ' +\n",
              "            '<a target=\"_blank\" href=https://colab.research.google.com/notebooks/data_table.ipynb>data table notebook</a>'\n",
              "            + ' to learn more about interactive tables.';\n",
              "          element.innerHTML = '';\n",
              "          dataTable['output_type'] = 'display_data';\n",
              "          await google.colab.output.renderOutput(dataTable, element);\n",
              "          const docLink = document.createElement('div');\n",
              "          docLink.innerHTML = docLinkHtml;\n",
              "          element.appendChild(docLink);\n",
              "        }\n",
              "      </script>\n",
              "    </div>\n",
              "  </div>\n",
              "  "
            ]
          },
          "metadata": {},
          "execution_count": 89
        }
      ]
    },
    {
      "cell_type": "code",
      "source": [
        "df[[0,3,7,9,15]].plot()"
      ],
      "metadata": {
        "colab": {
          "base_uri": "https://localhost:8080/",
          "height": 284
        },
        "id": "RcexOKp9di3-",
        "outputId": "5064160c-ee91-4b91-db2a-31b95bc35518"
      },
      "execution_count": 91,
      "outputs": [
        {
          "output_type": "execute_result",
          "data": {
            "text/plain": [
              "<matplotlib.axes._subplots.AxesSubplot at 0x7f239b407f90>"
            ]
          },
          "metadata": {},
          "execution_count": 91
        },
        {
          "output_type": "display_data",
          "data": {
            "text/plain": [
              "<Figure size 432x288 with 1 Axes>"
            ],
            "image/png": "[encoded data removed]"
          },
          "metadata": {
            "needs_background": "light"
          }
        }
      ]
    },
    {
      "cell_type": "code",
      "source": [
        "df[[2,4,8,10,14]].plot()"
      ],
      "metadata": {
        "colab": {
          "base_uri": "https://localhost:8080/",
          "height": 284
        },
        "id": "m0LpUhTsdhiA",
        "outputId": "0f3119ad-d80b-4d42-ceee-0be60a1a363c"
      },
      "execution_count": 92,
      "outputs": [
        {
          "output_type": "execute_result",
          "data": {
            "text/plain": [
              "<matplotlib.axes._subplots.AxesSubplot at 0x7f239b39ea50>"
            ]
          },
          "metadata": {},
          "execution_count": 92
        },
        {
          "output_type": "display_data",
          "data": {
            "text/plain": [
              "<Figure size 432x288 with 1 Axes>"
            ],
            "image/png": "[encoded data removed]"
          },
          "metadata": {
            "needs_background": "light"
          }
        }
      ]
    },
    {
      "cell_type": "markdown",
      "source": [
        "**Задание 2:**\n",
        "* Обучите сети глубины 10 и больше с сигмоидой в качестве активации. Исследуйте, как глубина влияет на качество обучения и поведение градиентов на далеких от выхода слоях.\n",
        "* Теперь замените активацию на ReLU и посмотрите, что получится."
      ],
      "metadata": {
        "id": "hDBg7ammal6Z"
      }
    },
    {
      "cell_type": "code",
      "source": [
        ""
      ],
      "metadata": {
        "id": "rFNhV50WabUx"
      },
      "execution_count": null,
      "outputs": []
    },
    {
      "cell_type": "markdown",
      "source": [
        "Теперь попробуем добавить в сеть skip-connections (по примеру ResNet) вместо замены сигмоиды на relu и посмотрим, что получится. Запихнуть все слои в nn.Sequential и просто их применить теперь не получится - вместо этого мы их применим вручную.\n",
        "\n",
        "**Задание 3:** допишите недостающую часть кода ниже."
      ],
      "metadata": {
        "id": "xsqPJMXmarmN"
      }
    },
    {
      "cell_type": "code",
      "source": [
        "inp \n",
        "h = FC1(inp)\n",
        "h = FC2(inp) \n",
        "h1 = inp + h\n",
        "h = FC3(h1) \n",
        "h = FC4(h)\n",
        "h1 = h1 + h\n",
        "h = FC5(h1) \n",
        "h = FC6(h)\n",
        "h1 = h1 + h"
      ],
      "metadata": {
        "id": "eiZDWxR2bsGW"
      },
      "execution_count": null,
      "outputs": []
    },
    {
      "cell_type": "code",
      "source": [
        "class DeepDenseResNet(Model):\n",
        "    def __init__(self, n_layers, hidden_size, activation):\n",
        "        super().__init__()\n",
        "        self.activation = activation\n",
        "        \n",
        "        # <your code here>\n",
        "        \n",
        "    def call(self, x):\n",
        "        \n",
        "        # <your code here>\n",
        "        \n",
        "        return out"
      ],
      "metadata": {
        "id": "bfRfEjCEabXt"
      },
      "execution_count": null,
      "outputs": []
    },
    {
      "cell_type": "markdown",
      "source": [
        "Убедимся, что такая сеть отлично учится даже на большом числе слоев."
      ],
      "metadata": {
        "id": "gnOOhtzyav73"
      }
    },
    {
      "cell_type": "code",
      "source": [
        "model = DeepDenseResNet(n_layers=20, hidden_size=10, activation=nn.Sigmoid)\n",
        "# <your code here>"
      ],
      "metadata": {
        "id": "dkK6uzWMabaQ"
      },
      "execution_count": null,
      "outputs": []
    }
  ]
}