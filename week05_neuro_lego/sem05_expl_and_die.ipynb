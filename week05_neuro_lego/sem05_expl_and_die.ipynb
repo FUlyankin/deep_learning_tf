{
  "nbformat": 4,
  "nbformat_minor": 0,
  "metadata": {
    "colab": {
      "name": "sem04_expl_and_die.ipynb",
      "provenance": []
    },
    "kernelspec": {
      "name": "python3",
      "display_name": "Python 3"
    },
    "language_info": {
      "name": "python"
    }
  },
  "cells": [
    {
      "cell_type": "markdown",
      "source": [
        "# Семинар 5: взрыв и затухание градиента\n",
        "\n",
        "В этой тетрадке мы немного поэкспериментируем с затухающими и взрывающимися градиентами. Делать это будем на уже знакомом нам датасете fashoin MNIST. \n",
        "\n",
        "В этом разделе мы не будем пытаться подобрать более удачную архитектуру, нам интересно только посмотреть на особенности обучения глубоких сетей."
      ],
      "metadata": {
        "id": "y4Xf6cNJZaFf"
      }
    },
    {
      "cell_type": "code",
      "source": [
        "import numpy as np\n",
        "\n",
        "import matplotlib.pyplot as plt\n",
        "%matplotlib inline"
      ],
      "metadata": {
        "id": "gP0z0SaVZ12a"
      },
      "execution_count": 1,
      "outputs": []
    },
    {
      "cell_type": "code",
      "source": [
        "import tensorflow as tf\n",
        "tf.__version__ "
      ],
      "metadata": {
        "colab": {
          "base_uri": "https://localhost:8080/",
          "height": 36
        },
        "id": "jxAu_UbSZd3f",
        "outputId": "8e7cb631-cefc-4923-b6d5-201f1cdf063d"
      },
      "execution_count": 2,
      "outputs": [
        {
          "output_type": "execute_result",
          "data": {
            "text/plain": [
              "'2.8.0'"
            ],
            "application/vnd.google.colaboratory.intrinsic+json": {
              "type": "string"
            }
          },
          "metadata": {},
          "execution_count": 2
        }
      ]
    },
    {
      "cell_type": "code",
      "source": [
        "fashion_mnist = tf.keras.datasets.fashion_mnist\n",
        "(X_train, y_train), (X_test, y_test) = fashion_mnist.load_data()\n",
        "\n",
        "class_names = ['T-shirt/top', 'Trouser', 'Pullover', 'Dress', 'Coat',\n",
        "               'Sandal', 'Shirt', 'Sneaker', 'Bag', 'Ankle boot']\n",
        "\n",
        "X_train.shape, X_test.shape"
      ],
      "metadata": {
        "colab": {
          "base_uri": "https://localhost:8080/"
        },
        "id": "TFB-B5xcZkOe",
        "outputId": "68ff12e1-1f12-4e2e-c034-f0ce06a74065"
      },
      "execution_count": 3,
      "outputs": [
        {
          "output_type": "stream",
          "name": "stdout",
          "text": [
            "Downloading data from https://storage.googleapis.com/tensorflow/tf-keras-datasets/train-labels-idx1-ubyte.gz\n",
            "32768/29515 [=================================] - 0s 0us/step\n",
            "40960/29515 [=========================================] - 0s 0us/step\n",
            "Downloading data from https://storage.googleapis.com/tensorflow/tf-keras-datasets/train-images-idx3-ubyte.gz\n",
            "26427392/26421880 [==============================] - 0s 0us/step\n",
            "26435584/26421880 [==============================] - 0s 0us/step\n",
            "Downloading data from https://storage.googleapis.com/tensorflow/tf-keras-datasets/t10k-labels-idx1-ubyte.gz\n",
            "16384/5148 [===============================================================================================] - 0s 0us/step\n",
            "Downloading data from https://storage.googleapis.com/tensorflow/tf-keras-datasets/t10k-images-idx3-ubyte.gz\n",
            "4423680/4422102 [==============================] - 0s 0us/step\n",
            "4431872/4422102 [==============================] - 0s 0us/step\n"
          ]
        },
        {
          "output_type": "execute_result",
          "data": {
            "text/plain": [
              "((60000, 28, 28), (10000, 28, 28))"
            ]
          },
          "metadata": {},
          "execution_count": 3
        }
      ]
    },
    {
      "cell_type": "code",
      "source": [
        "cols = 8\n",
        "rows = 2\n",
        "fig = plt.figure(figsize=(2 * cols, 2.5 * rows))\n",
        "for i in range(cols):\n",
        "    for j in range(rows):\n",
        "        random_index = np.random.randint(0, len(y_train))\n",
        "        ax = fig.add_subplot(rows, cols, i * rows + j + 1)\n",
        "        ax.grid(False)\n",
        "        ax.set_xticks([])\n",
        "        ax.set_yticks([])\n",
        "        ax.imshow(X_train[random_index, :], cmap = 'gray')\n",
        "        ax.set_xlabel(class_names[y_train[random_index]])\n",
        "plt.show()"
      ],
      "metadata": {
        "colab": {
          "base_uri": "https://localhost:8080/",
          "height": 288
        },
        "id": "7Z-rj8mBZkQ7",
        "outputId": "85e026a6-f9f9-401c-e944-0dd368fb9493"
      },
      "execution_count": 4,
      "outputs": [
        {
          "output_type": "display_data",
          "data": {
            "text/plain": [
              "<Figure size 1152x360 with 16 Axes>"
            ],
            "image/png": "[encoded data removed]"
          },
          "metadata": {}
        }
      ]
    },
    {
      "cell_type": "code",
      "source": [
        "X_train.max()/2"
      ],
      "metadata": {
        "colab": {
          "base_uri": "https://localhost:8080/"
        },
        "id": "hpe2zc7OUdO9",
        "outputId": "5fd2a70f-42bc-46db-a3f2-87e6da03d86a"
      },
      "execution_count": 5,
      "outputs": [
        {
          "output_type": "execute_result",
          "data": {
            "text/plain": [
              "127.5"
            ]
          },
          "metadata": {},
          "execution_count": 5
        }
      ]
    },
    {
      "cell_type": "code",
      "source": [
        "X_train = X_train/127.5 - 1\n",
        "X_test = X_test/127.5 - 1"
      ],
      "metadata": {
        "id": "Awp_ZxpJZkTN"
      },
      "execution_count": 6,
      "outputs": []
    },
    {
      "cell_type": "code",
      "source": [
        "X_train.min(), X_train.max()"
      ],
      "metadata": {
        "colab": {
          "base_uri": "https://localhost:8080/"
        },
        "id": "p0oB2NjcUjEC",
        "outputId": "0d10e0ed-cc5e-46e4-8fdc-d87a9714634e"
      },
      "execution_count": 7,
      "outputs": [
        {
          "output_type": "execute_result",
          "data": {
            "text/plain": [
              "(-1.0, 1.0)"
            ]
          },
          "metadata": {},
          "execution_count": 7
        }
      ]
    },
    {
      "cell_type": "markdown",
      "source": [
        "Для экспериментов нам понадобится реализовать сеть, в которой можно легко менять количество слоев. Также эта сеть должна сохранять градиенты на всех слоях, чтобы потом мы могли посмотреть на их величины.\n",
        "\n",
        "**Задание 1:** допишите недостающую часть кода ниже."
      ],
      "metadata": {
        "id": "Cf_FVqnwaZSQ"
      }
    },
    {
      "cell_type": "code",
      "source": [
        "from tensorflow.keras import Model, layers, Sequential\n",
        "import tensorflow.keras.optimizers as opt\n",
        "\n",
        "class DeepDenseNet(Model):\n",
        "    def __init__(self):\n",
        "        super().__init__()\n",
        "        self.activation = activation\n",
        "        \n",
        "        self.nn_grads = [ ]\n",
        "        self.nn_layers = [ ]\n",
        "\n",
        "        # <your code here>\n",
        "\n",
        "        self.seq = Sequential(*self.nn_layers)\n",
        "        \n",
        "    def call(self, x):\n",
        "        out = self.seq(x)\n",
        "        return out"
      ],
      "metadata": {
        "id": "SoNDO0s9D5Qt"
      },
      "execution_count": null,
      "outputs": []
    },
    {
      "cell_type": "markdown",
      "source": [
        "Напишите функции обучения так, чтобы они рисовали графики изменения градиентов и траектории обучения."
      ],
      "metadata": {
        "id": "GWsxld6waiA4"
      }
    },
    {
      "cell_type": "code",
      "source": [
        "# <your code here>"
      ],
      "metadata": {
        "id": "b9jozA7HabRT"
      },
      "execution_count": null,
      "outputs": []
    },
    {
      "cell_type": "markdown",
      "source": [
        "**Задание 2:**\n",
        "* Обучите сети глубины 10 и больше с сигмоидой в качестве активации. Исследуйте, как глубина влияет на качество обучения и поведение градиентов на далеких от выхода слоях.\n",
        "* Теперь замените активацию на ReLU и посмотрите, что получится."
      ],
      "metadata": {
        "id": "hDBg7ammal6Z"
      }
    },
    {
      "cell_type": "code",
      "source": [
        "# ..."
      ],
      "metadata": {
        "id": "rFNhV50WabUx"
      },
      "execution_count": null,
      "outputs": []
    },
    {
      "cell_type": "markdown",
      "source": [
        "Теперь попробуем добавить в сеть skip-connections (по примеру ResNet) вместо замены сигмоиды на relu и посмотрим, что получится. Запихнуть все слои в nn.Sequential и просто их применить теперь не получится - вместо этого мы их применим вручную.\n",
        "\n",
        "**Задание 3:** допишите недостающую часть кода ниже."
      ],
      "metadata": {
        "id": "xsqPJMXmarmN"
      }
    },
    {
      "cell_type": "code",
      "source": [
        "class DeepDenseResNet(nn.Module):\n",
        "    def __init__(self, n_layers, hidden_size, activation):\n",
        "        super().__init__()\n",
        "        self.activation = activation\n",
        "        \n",
        "        # <your code here>\n",
        "        \n",
        "    def call(self, x):\n",
        "        \n",
        "        # <your code here>\n",
        "        \n",
        "        return out"
      ],
      "metadata": {
        "id": "bfRfEjCEabXt"
      },
      "execution_count": null,
      "outputs": []
    },
    {
      "cell_type": "markdown",
      "source": [
        "Убедимся, что такая сеть отлично учится даже на большом числе слоев."
      ],
      "metadata": {
        "id": "gnOOhtzyav73"
      }
    },
    {
      "cell_type": "code",
      "source": [
        "model = DeepDenseResNet(n_layers=20, hidden_size=10, activation=nn.Sigmoid)\n",
        "# <your code here>"
      ],
      "metadata": {
        "id": "dkK6uzWMabaQ"
      },
      "execution_count": null,
      "outputs": []
    }
  ]
}