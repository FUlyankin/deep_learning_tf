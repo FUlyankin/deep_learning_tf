{
  "cells": [
    {
      "cell_type": "markdown",
      "metadata": {
        "id": "EEDE1PDmEBnD"
      },
      "source": [
        "# Как научить компьютер читать? \n",
        "\n",
        "Это вторая часть большой открытой лекции \"Как научить компьютер читать?\" В ней мы будем парсить Твиттер. \n",
        "\n",
        "### Ссылки: \n",
        "\n",
        "* Токены: https://developer.twitter.com/en/apps/13338986\n",
        "* Ограничения: https://developer.twitter.com/en/docs/basics/rate-limiting\n",
        "* Документация пакета для парсинга: https://python-twitter.readthedocs.io/en/latest/twitter.html"
      ]
    },
    {
      "cell_type": "code",
      "execution_count": null,
      "metadata": {
        "id": "VPvHlcMLEBnG"
      },
      "outputs": [],
      "source": [
        "import pandas as pd\n",
        "import numpy as np"
      ]
    },
    {
      "cell_type": "code",
      "execution_count": null,
      "metadata": {
        "id": "JgqKMOkpEBnJ"
      },
      "outputs": [],
      "source": [
        "import twitter\n",
        "\n",
        "# всякие разные id и тп для подключения \n",
        "api = twitter.Api(\n",
        " consumer_key=' ',\n",
        " consumer_secret=' ',\n",
        " access_token_key=' ',\n",
        " access_token_secret=' '\n",
        " )"
      ]
    },
    {
      "cell_type": "markdown",
      "metadata": {
        "id": "dcbnSMq_EBnK"
      },
      "source": [
        "## 1. Сбор в прошлое по запросам \n",
        "\n",
        "Попробуем вытащить паручку твиттов по запросу \"фантастические твари\"."
      ]
    },
    {
      "cell_type": "code",
      "execution_count": null,
      "metadata": {
        "id": "T1miQyH9EBnK",
        "outputId": "a378a030-4c5a-4b5b-c1ba-31860d0d225d"
      },
      "outputs": [
        {
          "data": {
            "text/plain": [
              "[Status(ID=1067568152316469249, ScreenName=fapushek, Created=Tue Nov 27 23:57:36 +0000 2018, Text='RT @metashot: 1918 год - издательство заказывает у Ньюта Скамандера книгу \"Фантастические твари\".\\n1918-1927 гг. - Ньют Скамандер проебывает…'),\n",
              " Status(ID=1067567933826703360, ScreenName=destrfmfcr, Created=Tue Nov 27 23:56:44 +0000 2018, Text='Чувствую себя неловко из-за того, что мне и зв новые заходят, и фантастические твари. Все такие контркультурные, а я - нет('),\n",
              " Status(ID=1067565247433768960, ScreenName=SolutionOfTea, Created=Tue Nov 27 23:46:04 +0000 2018, Text='RT @metashot: 1918 год - издательство заказывает у Ньюта Скамандера книгу \"Фантастические твари\".\\n1918-1927 гг. - Ньют Скамандер проебывает…')]"
            ]
          },
          "execution_count": 3,
          "metadata": {},
          "output_type": "execute_result"
        }
      ],
      "source": [
        "terms = 'фантастические твари'\n",
        "\n",
        "tweets = api.GetSearch(term=terms, lang='ru', result_type='recent', count=3, max_id='')\n",
        "tweets"
      ]
    },
    {
      "cell_type": "markdown",
      "metadata": {
        "id": "0nW8sQM8EBnL"
      },
      "source": [
        "Каждый твит довольно сложно устроен. Давайте посмотрим какие у него есть методы и объекты. Попутно отберём только ту информацию, которая нам может быть потенциально интересна."
      ]
    },
    {
      "cell_type": "code",
      "execution_count": null,
      "metadata": {
        "id": "1mwQtl7SEBnL",
        "outputId": "ea39262b-335f-4255-822c-8c164a388291"
      },
      "outputs": [
        {
          "name": "stdout",
          "output_type": "stream",
          "text": [
            "['AsDict', 'AsJsonString', 'NewFromJsonDict', '__class__', '__delattr__', '__dict__', '__dir__', '__doc__', '__eq__', '__format__', '__ge__', '__getattribute__', '__gt__', '__hash__', '__init__', '__init_subclass__', '__le__', '__lt__', '__module__', '__ne__', '__new__', '__reduce__', '__reduce_ex__', '__repr__', '__setattr__', '__sizeof__', '__str__', '__subclasshook__', '__weakref__', '_json', 'contributors', 'coordinates', 'created_at', 'created_at_in_seconds', 'current_user_retweet', 'favorite_count', 'favorited', 'full_text', 'geo', 'hashtags', 'id', 'id_str', 'in_reply_to_screen_name', 'in_reply_to_status_id', 'in_reply_to_user_id', 'lang', 'location', 'media', 'param_defaults', 'place', 'possibly_sensitive', 'quoted_status', 'quoted_status_id', 'quoted_status_id_str', 'retweet_count', 'retweeted', 'retweeted_status', 'scopes', 'source', 'text', 'truncated', 'tweet_mode', 'urls', 'user', 'user_mentions', 'withheld_copyright', 'withheld_in_countries', 'withheld_scope']\n"
          ]
        }
      ],
      "source": [
        "print(dir(tweets[-1]))"
      ]
    },
    {
      "cell_type": "code",
      "execution_count": null,
      "metadata": {
        "id": "nsAajan_EBnL",
        "outputId": "412a1c8c-247f-43be-fb98-47f601482c46"
      },
      "outputs": [
        {
          "name": "stdout",
          "output_type": "stream",
          "text": [
            "SolutionOfTea\n",
            "Tue Nov 27 23:46:04 +0000 2018\n",
            "RT @metashot: 1918 год - издательство заказывает у Ньюта Скамандера книгу \"Фантастические твари\".\n",
            "1918-1927 гг. - Ньют Скамандер проебывает…\n",
            "None\n",
            "[]\n",
            "1067565247433768960\n",
            "<a href=\"http://twitter.com/download/iphone\" rel=\"nofollow\">Twitter for iPhone</a>\n",
            "None\n",
            "1543362364\n",
            "None\n",
            "0\n",
            "162\n",
            "False\n"
          ]
        }
      ],
      "source": [
        "print(tweets[-1].user.screen_name)\n",
        "print(tweets[-1].created_at)\n",
        "print(tweets[-1].text)\n",
        "print(tweets[-1].full_text)\n",
        "print(tweets[-1].hashtags)\n",
        "print(tweets[-1].id)\n",
        "print(tweets[-1].source)\n",
        "print(tweets[-1].coordinates)\n",
        "print(tweets[-1].created_at_in_seconds)\n",
        "print(tweets[-1].geo)\n",
        "print(tweets[-1].favorite_count)\n",
        "print(tweets[-1].retweet_count)\n",
        "print(tweets[-1].retweeted)"
      ]
    },
    {
      "cell_type": "code",
      "execution_count": null,
      "metadata": {
        "id": "tKkC51HuEBnM"
      },
      "outputs": [],
      "source": [
        "tweets[-1].full_text # Почему-то не работает, многие твиты усечены до 140 символов:( "
      ]
    },
    {
      "cell_type": "markdown",
      "metadata": {
        "id": "EvthI9zDEBnM"
      },
      "source": [
        "Завернём всё это добро в удобную функцию, запиливающую таблицу."
      ]
    },
    {
      "cell_type": "code",
      "execution_count": null,
      "metadata": {
        "scrolled": true,
        "id": "2XApXqgrEBnN",
        "outputId": "8b1fce49-1deb-45a5-adcb-998bed1cb2bf"
      },
      "outputs": [
        {
          "data": {
            "text/html": [
              "<div>\n",
              "<style scoped>\n",
              "    .dataframe tbody tr th:only-of-type {\n",
              "        vertical-align: middle;\n",
              "    }\n",
              "\n",
              "    .dataframe tbody tr th {\n",
              "        vertical-align: top;\n",
              "    }\n",
              "\n",
              "    .dataframe thead th {\n",
              "        text-align: right;\n",
              "    }\n",
              "</style>\n",
              "<table border=\"1\" class=\"dataframe\">\n",
              "  <thead>\n",
              "    <tr style=\"text-align: right;\">\n",
              "      <th></th>\n",
              "      <th>Tweets</th>\n",
              "      <th>full_tweet</th>\n",
              "      <th>ID</th>\n",
              "      <th>Username</th>\n",
              "      <th>Date</th>\n",
              "      <th>Hashtags</th>\n",
              "      <th>Retweeted</th>\n",
              "      <th>Source</th>\n",
              "      <th>Likes</th>\n",
              "      <th>Retweets</th>\n",
              "      <th>Date_in_seconds</th>\n",
              "      <th>Geo</th>\n",
              "      <th>Coordinates</th>\n",
              "    </tr>\n",
              "  </thead>\n",
              "  <tbody>\n",
              "    <tr>\n",
              "      <th>0</th>\n",
              "      <td>RT @metashot: 1918 год - издательство заказыва...</td>\n",
              "      <td>None</td>\n",
              "      <td>1067568152316469249</td>\n",
              "      <td>fapushek</td>\n",
              "      <td>Tue Nov 27 23:57:36 +0000 2018</td>\n",
              "      <td>[]</td>\n",
              "      <td>False</td>\n",
              "      <td>&lt;a href=\"http://twitter.com/download/android\" ...</td>\n",
              "      <td>0</td>\n",
              "      <td>162</td>\n",
              "      <td>1543363056</td>\n",
              "      <td>None</td>\n",
              "      <td>None</td>\n",
              "    </tr>\n",
              "    <tr>\n",
              "      <th>1</th>\n",
              "      <td>Чувствую себя неловко из-за того, что мне и зв...</td>\n",
              "      <td>None</td>\n",
              "      <td>1067567933826703360</td>\n",
              "      <td>destrfmfcr</td>\n",
              "      <td>Tue Nov 27 23:56:44 +0000 2018</td>\n",
              "      <td>[]</td>\n",
              "      <td>False</td>\n",
              "      <td>&lt;a href=\"http://twitter.com/download/android\" ...</td>\n",
              "      <td>0</td>\n",
              "      <td>0</td>\n",
              "      <td>1543363004</td>\n",
              "      <td>None</td>\n",
              "      <td>None</td>\n",
              "    </tr>\n",
              "    <tr>\n",
              "      <th>2</th>\n",
              "      <td>RT @metashot: 1918 год - издательство заказыва...</td>\n",
              "      <td>None</td>\n",
              "      <td>1067565247433768960</td>\n",
              "      <td>SolutionOfTea</td>\n",
              "      <td>Tue Nov 27 23:46:04 +0000 2018</td>\n",
              "      <td>[]</td>\n",
              "      <td>False</td>\n",
              "      <td>&lt;a href=\"http://twitter.com/download/iphone\" r...</td>\n",
              "      <td>0</td>\n",
              "      <td>162</td>\n",
              "      <td>1543362364</td>\n",
              "      <td>None</td>\n",
              "      <td>None</td>\n",
              "    </tr>\n",
              "  </tbody>\n",
              "</table>\n",
              "</div>"
            ],
            "text/plain": [
              "                                              Tweets full_tweet  \\\n",
              "0  RT @metashot: 1918 год - издательство заказыва...       None   \n",
              "1  Чувствую себя неловко из-за того, что мне и зв...       None   \n",
              "2  RT @metashot: 1918 год - издательство заказыва...       None   \n",
              "\n",
              "                    ID       Username                            Date  \\\n",
              "0  1067568152316469249       fapushek  Tue Nov 27 23:57:36 +0000 2018   \n",
              "1  1067567933826703360     destrfmfcr  Tue Nov 27 23:56:44 +0000 2018   \n",
              "2  1067565247433768960  SolutionOfTea  Tue Nov 27 23:46:04 +0000 2018   \n",
              "\n",
              "  Hashtags  Retweeted                                             Source  \\\n",
              "0       []      False  <a href=\"http://twitter.com/download/android\" ...   \n",
              "1       []      False  <a href=\"http://twitter.com/download/android\" ...   \n",
              "2       []      False  <a href=\"http://twitter.com/download/iphone\" r...   \n",
              "\n",
              "   Likes  Retweets  Date_in_seconds   Geo Coordinates  \n",
              "0      0       162       1543363056  None        None  \n",
              "1      0         0       1543363004  None        None  \n",
              "2      0       162       1543362364  None        None  "
            ]
          },
          "execution_count": 7,
          "metadata": {},
          "output_type": "execute_result"
        }
      ],
      "source": [
        "def create_twdf(tweets):\n",
        "    \"\"\"\n",
        "        Создаёт по твиттам таблицу с данными\n",
        "    \"\"\"\n",
        "    \n",
        "    df = pd.DataFrame(data=[tweet.text for tweet in tweets], columns=['Tweets'])\n",
        "\n",
        "    df['full_tweet'] = [tweet.full_text for tweet in tweets]\n",
        "    df['ID'] = [tweet.id for tweet in tweets]\n",
        "    df['Username'] = [tweet.user.screen_name for tweet in tweets]\n",
        "    df['Date'] = [tweet.created_at for tweet in tweets]\n",
        "    df['Hashtags']  = [tweet.hashtags for tweet in tweets]\n",
        "    df['Retweeted']  = [tweet.retweeted for tweet in tweets]\n",
        "    df['Source']  = [tweet.source for tweet in tweets]\n",
        "    df['Likes'] = [tweet.favorite_count for tweet in tweets]\n",
        "    df['Retweets'] = [tweet.retweet_count for tweet in tweets]\n",
        "    df['Date_in_seconds'] = [tweet.created_at_in_seconds for tweet in tweets]\n",
        "    df['Geo'] = [tweet.geo for tweet in tweets]\n",
        "    df['Coordinates'] = [tweet.coordinates for tweet in tweets]\n",
        "    return df\n",
        "\n",
        "df = create_twdf(tweets)\n",
        "df.head()  "
      ]
    },
    {
      "cell_type": "markdown",
      "metadata": {
        "id": "0C3hxSSAEBnN"
      },
      "source": [
        "Выводим на промышленные рельсы. Тестим отмотку по id публикации и смотрим на лимиты"
      ]
    },
    {
      "cell_type": "code",
      "execution_count": null,
      "metadata": {
        "id": "NJjnSeLlEBnN",
        "outputId": "b8a92513-e1fe-4c99-e4f1-af47ea00c6d7"
      },
      "outputs": [
        {
          "data": {
            "text/html": [
              "<div>\n",
              "<style scoped>\n",
              "    .dataframe tbody tr th:only-of-type {\n",
              "        vertical-align: middle;\n",
              "    }\n",
              "\n",
              "    .dataframe tbody tr th {\n",
              "        vertical-align: top;\n",
              "    }\n",
              "\n",
              "    .dataframe thead th {\n",
              "        text-align: right;\n",
              "    }\n",
              "</style>\n",
              "<table border=\"1\" class=\"dataframe\">\n",
              "  <thead>\n",
              "    <tr style=\"text-align: right;\">\n",
              "      <th></th>\n",
              "      <th>Tweets</th>\n",
              "      <th>full_tweet</th>\n",
              "      <th>ID</th>\n",
              "      <th>Username</th>\n",
              "      <th>Date</th>\n",
              "      <th>Hashtags</th>\n",
              "      <th>Retweeted</th>\n",
              "      <th>Source</th>\n",
              "      <th>Likes</th>\n",
              "      <th>Retweets</th>\n",
              "      <th>Date_in_seconds</th>\n",
              "      <th>Geo</th>\n",
              "      <th>Coordinates</th>\n",
              "    </tr>\n",
              "  </thead>\n",
              "  <tbody>\n",
              "    <tr>\n",
              "      <th>0</th>\n",
              "      <td>#ВечернийУргант. Богемская рапсодия 🔥 https://...</td>\n",
              "      <td>None</td>\n",
              "      <td>1066086262724063233</td>\n",
              "      <td>Urgant_Show</td>\n",
              "      <td>Fri Nov 23 21:49:06 +0000 2018</td>\n",
              "      <td>[{\"text\": \"\\u0412\\u0435\\u0447\\u0435\\u0440\\u043...</td>\n",
              "      <td>False</td>\n",
              "      <td>&lt;a href=\"https://studio.twitter.com\" rel=\"nofo...</td>\n",
              "      <td>245</td>\n",
              "      <td>36</td>\n",
              "      <td>1543009746</td>\n",
              "      <td>None</td>\n",
              "      <td>None</td>\n",
              "    </tr>\n",
              "    <tr>\n",
              "      <th>1</th>\n",
              "      <td>@thnksmom_ Богемская рапсодия</td>\n",
              "      <td>None</td>\n",
              "      <td>1067566814044004353</td>\n",
              "      <td>mrNiputu</td>\n",
              "      <td>Tue Nov 27 23:52:17 +0000 2018</td>\n",
              "      <td>[]</td>\n",
              "      <td>False</td>\n",
              "      <td>&lt;a href=\"http://twitter.com/download/android\" ...</td>\n",
              "      <td>0</td>\n",
              "      <td>0</td>\n",
              "      <td>1543362737</td>\n",
              "      <td>None</td>\n",
              "      <td>None</td>\n",
              "    </tr>\n",
              "  </tbody>\n",
              "</table>\n",
              "</div>"
            ],
            "text/plain": [
              "                                              Tweets full_tweet  \\\n",
              "0  #ВечернийУргант. Богемская рапсодия 🔥 https://...       None   \n",
              "1                      @thnksmom_ Богемская рапсодия       None   \n",
              "\n",
              "                    ID     Username                            Date  \\\n",
              "0  1066086262724063233  Urgant_Show  Fri Nov 23 21:49:06 +0000 2018   \n",
              "1  1067566814044004353     mrNiputu  Tue Nov 27 23:52:17 +0000 2018   \n",
              "\n",
              "                                            Hashtags  Retweeted  \\\n",
              "0  [{\"text\": \"\\u0412\\u0435\\u0447\\u0435\\u0440\\u043...      False   \n",
              "1                                                 []      False   \n",
              "\n",
              "                                              Source  Likes  Retweets  \\\n",
              "0  <a href=\"https://studio.twitter.com\" rel=\"nofo...    245        36   \n",
              "1  <a href=\"http://twitter.com/download/android\" ...      0         0   \n",
              "\n",
              "   Date_in_seconds   Geo Coordinates  \n",
              "0       1543009746  None        None  \n",
              "1       1543362737  None        None  "
            ]
          },
          "execution_count": 8,
          "metadata": {},
          "output_type": "execute_result"
        }
      ],
      "source": [
        "# Способы проходов: \n",
        "# подставлять в since_id и max_id ID твтов\n",
        "# since и untill то же самое, но по датам\n",
        "\n",
        "terms = 'богемская рапсодия'\n",
        "\n",
        "tweets = api.GetSearch(term=terms, lang='ru', result_type='mixed', count=2, max_id='')\n",
        "\n",
        "df = create_twdf(tweets)\n",
        "df.head()"
      ]
    },
    {
      "cell_type": "markdown",
      "metadata": {
        "id": "vUnyQYTCEBnO"
      },
      "source": [
        "Команда ниже позволяет понять сколько запросов у нас осталось в текущую пятнадцатиминутку."
      ]
    },
    {
      "cell_type": "code",
      "execution_count": null,
      "metadata": {
        "id": "SBGvyhu0EBnO",
        "outputId": "4a175321-2159-4d6f-83ce-0665da01de00"
      },
      "outputs": [
        {
          "data": {
            "text/plain": [
              "{'search': {'/search/tweets': {'limit': 180,\n",
              "   'remaining': 162,\n",
              "   'reset': 1543363852}}}"
            ]
          },
          "execution_count": 9,
          "metadata": {},
          "output_type": "execute_result"
        }
      ],
      "source": [
        "api.rate_limit.resources"
      ]
    },
    {
      "cell_type": "markdown",
      "metadata": {
        "id": "2B2KQNg9EBnO"
      },
      "source": [
        "Пишем цикл для сбора по запросу в историю."
      ]
    },
    {
      "cell_type": "code",
      "execution_count": null,
      "metadata": {
        "id": "qSPQclQLEBnO"
      },
      "outputs": [],
      "source": [
        "dfs = [ ] # сюда пишем новые таблички"
      ]
    },
    {
      "cell_type": "code",
      "execution_count": null,
      "metadata": {
        "id": "2bsxr9HWEBnO"
      },
      "outputs": [],
      "source": [
        "terms = 'баста'  # термин для поиска"
      ]
    },
    {
      "cell_type": "code",
      "execution_count": null,
      "metadata": {
        "scrolled": true,
        "id": "45WVjrTzEBnO",
        "outputId": "0a34fe66-5b07-412b-fad1-33c79fd63e06"
      },
      "outputs": [
        {
          "name": "stdout",
          "output_type": "stream",
          "text": [
            "1067488810559303679\n",
            "{'search': {'/search/tweets': {'limit': 180, 'remaining': 161, 'reset': 1543363852}}} \n",
            "\n",
            "1067452019714207743\n",
            "{'search': {'/search/tweets': {'limit': 180, 'remaining': 160, 'reset': 1543363852}}} \n",
            "\n",
            "1067415955893030912\n",
            "{'search': {'/search/tweets': {'limit': 180, 'remaining': 159, 'reset': 1543363852}}} \n",
            "\n"
          ]
        }
      ],
      "source": [
        "cur_max_id = ''\n",
        "\n",
        "for i in range(3):\n",
        "    try:\n",
        "        tweets = api.GetSearch(term=terms, lang='ru', result_type='mixed', \n",
        "                               count=100,\n",
        "                               max_id=cur_max_id)\n",
        "        df = create_twdf(tweets)\n",
        "        dfs.append(df)\n",
        "        cur_max_id = str(int(df.ID.iloc[-1]) - 1)\n",
        "        print(cur_max_id)\n",
        "        print(api.rate_limit.resources, '\\n')\n",
        "    except:\n",
        "        break"
      ]
    },
    {
      "cell_type": "code",
      "execution_count": null,
      "metadata": {
        "id": "JLE6JQpnEBnP",
        "outputId": "fa91cda1-e1dc-4325-994f-85d5595c5c1e"
      },
      "outputs": [
        {
          "data": {
            "text/plain": [
              "((300, 13), 141)"
            ]
          },
          "execution_count": 13,
          "metadata": {},
          "output_type": "execute_result"
        }
      ],
      "source": [
        "dff = pd.concat(dfs).reset_index(drop=True)\n",
        "dff.shape, len(set(dff.Tweets.values))"
      ]
    },
    {
      "cell_type": "code",
      "execution_count": null,
      "metadata": {
        "id": "PwWYxt8yEBnP",
        "outputId": "3bc6d5a2-49c1-4ef4-bb1d-8571f1fbed9c"
      },
      "outputs": [
        {
          "data": {
            "text/plain": [
              "298"
            ]
          },
          "execution_count": 14,
          "metadata": {},
          "output_type": "execute_result"
        }
      ],
      "source": [
        "len(dff.Date.unique())"
      ]
    },
    {
      "cell_type": "code",
      "execution_count": null,
      "metadata": {
        "id": "hB30CiQ3EBnP",
        "outputId": "2803f0b0-67a2-4efd-c142-be1f9aca9744"
      },
      "outputs": [
        {
          "data": {
            "text/plain": [
              "141"
            ]
          },
          "execution_count": 15,
          "metadata": {},
          "output_type": "execute_result"
        }
      ],
      "source": [
        "len(set(dff.Tweets))"
      ]
    },
    {
      "cell_type": "code",
      "execution_count": null,
      "metadata": {
        "id": "n_OLKpUgEBnP",
        "outputId": "56423b1c-5d25-420a-8dc2-1a7353461acc"
      },
      "outputs": [
        {
          "data": {
            "text/plain": [
              "array(['26 Nov 2018', '24 Nov 2018', '27 Nov 2018'], dtype=object)"
            ]
          },
          "execution_count": 16,
          "metadata": {},
          "output_type": "execute_result"
        }
      ],
      "source": [
        "dff.Date.apply(lambda x: x.split(' ')[2] + ' ' + x.split(' ')[1] + ' ' + x.split(' ')[-1]).unique()"
      ]
    },
    {
      "cell_type": "code",
      "execution_count": null,
      "metadata": {
        "id": "7EsPn9bZEBnP",
        "outputId": "7f354eb9-17e2-43fb-ea5c-5a52837f9364"
      },
      "outputs": [
        {
          "name": "stdout",
          "output_type": "stream",
          "text": [
            "RT @meduzaproject: В конце концерта «Мою игру» хором пели все — Баста, Нойз, Мирон, Фейс, Андрей Бледный из группы 25/17 и даже Рома Жиган…\n"
          ]
        }
      ],
      "source": [
        "index = np.random.randint(0,100)\n",
        "\n",
        "print(dff.Tweets.values[index])"
      ]
    },
    {
      "cell_type": "code",
      "execution_count": null,
      "metadata": {
        "id": "doM-x_tdEBnP",
        "outputId": "7f0eb349-236b-4f61-ace3-6f0f932a09e3"
      },
      "outputs": [
        {
          "data": {
            "text/html": [
              "<div>\n",
              "<style scoped>\n",
              "    .dataframe tbody tr th:only-of-type {\n",
              "        vertical-align: middle;\n",
              "    }\n",
              "\n",
              "    .dataframe tbody tr th {\n",
              "        vertical-align: top;\n",
              "    }\n",
              "\n",
              "    .dataframe thead th {\n",
              "        text-align: right;\n",
              "    }\n",
              "</style>\n",
              "<table border=\"1\" class=\"dataframe\">\n",
              "  <thead>\n",
              "    <tr style=\"text-align: right;\">\n",
              "      <th></th>\n",
              "      <th>Tweets</th>\n",
              "      <th>full_tweet</th>\n",
              "      <th>ID</th>\n",
              "      <th>Username</th>\n",
              "      <th>Date</th>\n",
              "      <th>Hashtags</th>\n",
              "      <th>Retweeted</th>\n",
              "      <th>Source</th>\n",
              "      <th>Likes</th>\n",
              "      <th>Retweets</th>\n",
              "      <th>Date_in_seconds</th>\n",
              "      <th>Geo</th>\n",
              "      <th>Coordinates</th>\n",
              "    </tr>\n",
              "  </thead>\n",
              "  <tbody>\n",
              "    <tr>\n",
              "      <th>0</th>\n",
              "      <td>Oxxxymiron / Баста / Noize MC. Мы будем целико...</td>\n",
              "      <td>None</td>\n",
              "      <td>1067067136651288576</td>\n",
              "      <td>tvrain</td>\n",
              "      <td>Mon Nov 26 14:46:45 +0000 2018</td>\n",
              "      <td>[{\"text\": \"\\u044f\\u0431\\u0443\\u0434\\u0443\\u043...</td>\n",
              "      <td>False</td>\n",
              "      <td>&lt;a href=\"https://about.twitter.com/products/tw...</td>\n",
              "      <td>114</td>\n",
              "      <td>38</td>\n",
              "      <td>1543243605</td>\n",
              "      <td>None</td>\n",
              "      <td>None</td>\n",
              "    </tr>\n",
              "    <tr>\n",
              "      <th>1</th>\n",
              "      <td>#ябудупетьсвоюмузыку\\nААААА Баста, Нойз и Окси...</td>\n",
              "      <td>None</td>\n",
              "      <td>1067150377324347392</td>\n",
              "      <td>tvrain</td>\n",
              "      <td>Mon Nov 26 20:17:31 +0000 2018</td>\n",
              "      <td>[{\"text\": \"\\u044f\\u0431\\u0443\\u0434\\u0443\\u043...</td>\n",
              "      <td>False</td>\n",
              "      <td>&lt;a href=\"https://about.twitter.com/products/tw...</td>\n",
              "      <td>185</td>\n",
              "      <td>33</td>\n",
              "      <td>1543263451</td>\n",
              "      <td>None</td>\n",
              "      <td>None</td>\n",
              "    </tr>\n",
              "    <tr>\n",
              "      <th>2</th>\n",
              "      <td>Я БУДУ ПЕТЬ СВОЮ МУЗЫКУ: \\nБаста, Oxxxymiron, ...</td>\n",
              "      <td>None</td>\n",
              "      <td>1066372820794556417</td>\n",
              "      <td>norimyxxxo</td>\n",
              "      <td>Sat Nov 24 16:47:47 +0000 2018</td>\n",
              "      <td>[]</td>\n",
              "      <td>False</td>\n",
              "      <td>&lt;a href=\"http://twitter.com/download/iphone\" r...</td>\n",
              "      <td>19151</td>\n",
              "      <td>4071</td>\n",
              "      <td>1543078067</td>\n",
              "      <td>None</td>\n",
              "      <td>None</td>\n",
              "    </tr>\n",
              "    <tr>\n",
              "      <th>3</th>\n",
              "      <td>I liked a @YouTube video https://t.co/278NZEuA...</td>\n",
              "      <td>None</td>\n",
              "      <td>1067567835113754624</td>\n",
              "      <td>ZKapov</td>\n",
              "      <td>Tue Nov 27 23:56:20 +0000 2018</td>\n",
              "      <td>[]</td>\n",
              "      <td>False</td>\n",
              "      <td>&lt;a href=\"https://www.google.com/\" rel=\"nofollo...</td>\n",
              "      <td>0</td>\n",
              "      <td>0</td>\n",
              "      <td>1543362980</td>\n",
              "      <td>None</td>\n",
              "      <td>None</td>\n",
              "    </tr>\n",
              "    <tr>\n",
              "      <th>4</th>\n",
              "      <td>RT @Rhymeslive: Сегодня на концерте в поддержк...</td>\n",
              "      <td>None</td>\n",
              "      <td>1067567184392658944</td>\n",
              "      <td>krisspiro</td>\n",
              "      <td>Tue Nov 27 23:53:45 +0000 2018</td>\n",
              "      <td>[]</td>\n",
              "      <td>False</td>\n",
              "      <td>&lt;a href=\"http://twitter.com/download/android\" ...</td>\n",
              "      <td>0</td>\n",
              "      <td>685</td>\n",
              "      <td>1543362825</td>\n",
              "      <td>None</td>\n",
              "      <td>None</td>\n",
              "    </tr>\n",
              "  </tbody>\n",
              "</table>\n",
              "</div>"
            ],
            "text/plain": [
              "                                              Tweets full_tweet  \\\n",
              "0  Oxxxymiron / Баста / Noize MC. Мы будем целико...       None   \n",
              "1  #ябудупетьсвоюмузыку\\nААААА Баста, Нойз и Окси...       None   \n",
              "2  Я БУДУ ПЕТЬ СВОЮ МУЗЫКУ: \\nБаста, Oxxxymiron, ...       None   \n",
              "3  I liked a @YouTube video https://t.co/278NZEuA...       None   \n",
              "4  RT @Rhymeslive: Сегодня на концерте в поддержк...       None   \n",
              "\n",
              "                    ID    Username                            Date  \\\n",
              "0  1067067136651288576      tvrain  Mon Nov 26 14:46:45 +0000 2018   \n",
              "1  1067150377324347392      tvrain  Mon Nov 26 20:17:31 +0000 2018   \n",
              "2  1066372820794556417  norimyxxxo  Sat Nov 24 16:47:47 +0000 2018   \n",
              "3  1067567835113754624      ZKapov  Tue Nov 27 23:56:20 +0000 2018   \n",
              "4  1067567184392658944   krisspiro  Tue Nov 27 23:53:45 +0000 2018   \n",
              "\n",
              "                                            Hashtags  Retweeted  \\\n",
              "0  [{\"text\": \"\\u044f\\u0431\\u0443\\u0434\\u0443\\u043...      False   \n",
              "1  [{\"text\": \"\\u044f\\u0431\\u0443\\u0434\\u0443\\u043...      False   \n",
              "2                                                 []      False   \n",
              "3                                                 []      False   \n",
              "4                                                 []      False   \n",
              "\n",
              "                                              Source  Likes  Retweets  \\\n",
              "0  <a href=\"https://about.twitter.com/products/tw...    114        38   \n",
              "1  <a href=\"https://about.twitter.com/products/tw...    185        33   \n",
              "2  <a href=\"http://twitter.com/download/iphone\" r...  19151      4071   \n",
              "3  <a href=\"https://www.google.com/\" rel=\"nofollo...      0         0   \n",
              "4  <a href=\"http://twitter.com/download/android\" ...      0       685   \n",
              "\n",
              "   Date_in_seconds   Geo Coordinates  \n",
              "0       1543243605  None        None  \n",
              "1       1543263451  None        None  \n",
              "2       1543078067  None        None  \n",
              "3       1543362980  None        None  \n",
              "4       1543362825  None        None  "
            ]
          },
          "execution_count": 19,
          "metadata": {},
          "output_type": "execute_result"
        }
      ],
      "source": [
        "dff.head()"
      ]
    },
    {
      "cell_type": "code",
      "execution_count": null,
      "metadata": {
        "id": "XugqRjGoEBnP",
        "outputId": "9e02d19e-ab0e-42f6-fdbb-1fe920161dbe"
      },
      "outputs": [
        {
          "data": {
            "text/plain": [
              "290    RT @KoleNikita: Чтобы вы понимали!\\n\\nНа одной...\n",
              "291    RT @Rhymeslive: Сегодня на концерте в поддержк...\n",
              "292               @mudakoff Вырасту – не буду, как Баста\n",
              "293    RT @studio21ru: Баста, Окси и Нойз исполнили «...\n",
              "294    RT @Aid_Rostov: #ростов \\nБаста\\n\\nhttps://t.c...\n",
              "295    RT @KoleNikita: Чтобы вы понимали!\\n\\nНа одной...\n",
              "296           @rentvchannel Баста, хаски, собаки что ли?\n",
              "297    RT @meduzaproject: В конце концерта «Мою игру»...\n",
              "298    RT @meduzaproject: В конце концерта «Мою игру»...\n",
              "299           #ростов \\nБаста\\n\\nhttps://t.co/DiHSQCzSkV\n",
              "Name: Tweets, dtype: object"
            ]
          },
          "execution_count": 20,
          "metadata": {},
          "output_type": "execute_result"
        }
      ],
      "source": [
        "dff.Tweets[-10:]"
      ]
    },
    {
      "cell_type": "code",
      "execution_count": null,
      "metadata": {
        "id": "QbCs4t_aEBnP"
      },
      "outputs": [],
      "source": [
        "dff.to_csv('df_basta.csv', sep='\\t')"
      ]
    },
    {
      "cell_type": "markdown",
      "metadata": {
        "id": "HUg2RChJEBnQ"
      },
      "source": [
        "## 2. Сбор в прошлое по аккаунтам\n",
        "\n",
        "Второй вариант: собирать в прошлое по аккаунтам."
      ]
    },
    {
      "cell_type": "markdown",
      "metadata": {
        "id": "ALPQ1XA1EBnQ"
      },
      "source": [
        "```\n",
        "GetUserTimeline(user_id=None, \n",
        "                screen_name=None, \n",
        "                since_id=None, \n",
        "                max_id=None, \n",
        "                count=None, \n",
        "                include_rts=True, \n",
        "                trim_user=False, \n",
        "                exclude_replies=False)\n",
        "```"
      ]
    },
    {
      "cell_type": "code",
      "execution_count": null,
      "metadata": {
        "id": "cuZS9Y9nEBnQ"
      },
      "outputs": [],
      "source": [
        "name = \"realDonaldTrump\"\n",
        "dfs = [ ]"
      ]
    },
    {
      "cell_type": "code",
      "execution_count": null,
      "metadata": {
        "id": "aengkU5BEBnQ",
        "outputId": "a5c79a37-a52a-44ee-9591-0f5c5c74ba4f"
      },
      "outputs": [
        {
          "name": "stdout",
          "output_type": "stream",
          "text": [
            "1067488810559303679\n",
            "{'search': {'/search/tweets': {'limit': 180, 'remaining': 158, 'reset': 1543363852}}} \n",
            "\n",
            "1067452019714207743\n",
            "{'search': {'/search/tweets': {'limit': 180, 'remaining': 157, 'reset': 1543363852}}} \n",
            "\n",
            "1067415955893030912\n",
            "{'search': {'/search/tweets': {'limit': 180, 'remaining': 156, 'reset': 1543363852}}} \n",
            "\n"
          ]
        }
      ],
      "source": [
        "cur_max_id = ''\n",
        "\n",
        "for i in range(3):\n",
        "    try:\n",
        "        tweets = api.GetSearch(term=terms, lang='ru', result_type='mixed', count=100, max_id=cur_max_id)\n",
        "        df = create_twdf(tweets)\n",
        "        dfs.append(df)\n",
        "        cur_max_id = str(int(df.ID.iloc[-1]) - 1)\n",
        "        print(cur_max_id)\n",
        "        print(api.rate_limit.resources, '\\n')\n",
        "    except:\n",
        "        break"
      ]
    },
    {
      "cell_type": "markdown",
      "metadata": {
        "id": "FKg-DE0pEBnQ"
      },
      "source": [
        "## Ссылки да почиташки\n",
        "\n",
        "* Код для потокового сбора твитов на промышленной основе:  http://adilmoujahid.com/posts/2014/07/twitter-analytics/\n",
        "* Сентимент-анализ твиттера Трампа: https://dev.to/rodolfoferro/sentiment-analysis-on-trumpss-tweets-using-python-"
      ]
    }
  ],
  "metadata": {
    "kernelspec": {
      "display_name": "Python 3",
      "language": "python",
      "name": "python3"
    },
    "language_info": {
      "codemirror_mode": {
        "name": "ipython",
        "version": 3
      },
      "file_extension": ".py",
      "mimetype": "text/x-python",
      "name": "python",
      "nbconvert_exporter": "python",
      "pygments_lexer": "ipython3",
      "version": "3.6.4"
    },
    "colab": {
      "name": "Twitter parser.ipynb",
      "provenance": []
    }
  },
  "nbformat": 4,
  "nbformat_minor": 0
}