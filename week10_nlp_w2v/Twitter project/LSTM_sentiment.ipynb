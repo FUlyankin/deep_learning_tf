{
 "cells": [
  {
   "cell_type": "markdown",
   "metadata": {},
   "source": [
    "# Как научить компьютер читать? \n",
    "\n",
    "Это третья, заключительная, часть большой открытой лекции \"Как научить компьютер читать?\" В ней мы обучим на твиттах нейросетку, которая умеет отличать позитив от негатива. А также немного поглазеем на новости."
   ]
  },
  {
   "cell_type": "markdown",
   "metadata": {},
   "source": [
    "# 1. Анализ тональности общественного мнения\n",
    "\n",
    "Давайте попробуем сделать что-нибудь прикольное! Например, проанализировать общественное мнение по поводу чего-нибудь. Одним из способов анализа общественного мнения является анализ тональности Twitter по нескольким релевантным хэштегам. Например, вот в [этой статье на Хабре](https://habr.com/company/dca/blog/274027/) пацаны пытались проанализировать динамику общественного мнения о новом эпизоде звёздных войн. \n",
    "\n",
    "Попробуем сделать что-то похожее. Для этого возьмём из интернета [готовую разметку твиттера](http://study.mokoron.com) на положительный и отрицательный сентимент-окрас твиттов. Свой анализатор тональности будем пилить с помощью простенькой рекурентной нейронной сетки. На самом деле обычная логистическая регрессия даст на выходе точно такой же результат в плане точности из-за того, что данных для обучения у нас не так уж и много. Тем не менее, тема лекции: нейронные сети. Поэтому именно их мы и будем пилить. \n",
    "\n",
    "Для начала подгрузим кучу пакетов и немного предобработаем данные.\n",
    "\n",
    "## 1.1 Предобработка данных"
   ]
  },
  {
   "cell_type": "code",
   "execution_count": 2,
   "metadata": {},
   "outputs": [
    {
     "name": "stderr",
     "output_type": "stream",
     "text": [
      "Using TensorFlow backend.\n"
     ]
    }
   ],
   "source": [
    "import pandas as pd  # для таблиц\n",
    "import numpy as np   # для матриц\n",
    "\n",
    "# визуализация \n",
    "import matplotlib.pyplot as plt\n",
    "import seaborn as sns\n",
    "plt.style.use('ggplot')\n",
    "%matplotlib inline\n",
    "\n",
    "import re # библиотека для регулярных выражений\n",
    "\n",
    "# лемматизатор\n",
    "import pymorphy2\n",
    "morph = pymorphy2.MorphAnalyzer()\n",
    "\n",
    "# список стоп-слов\n",
    "import nltk.corpus\n",
    "stopwords = set([word for word in nltk.corpus.stopwords.words('russian') if word != 'не'])\n",
    "\n",
    "# удобный словарь\n",
    "from collections import defaultdict\n",
    "\n",
    "# слои для нейронок, которые нам пригодятся \n",
    "from keras.models import Sequential\n",
    "from keras.layers import Dense, LSTM, Dropout, Conv1D, MaxPooling1D\n",
    "from keras.layers.embeddings import Embedding\n",
    "from keras.preprocessing import sequence"
   ]
  },
  {
   "cell_type": "code",
   "execution_count": 3,
   "metadata": {},
   "outputs": [
    {
     "ename": "FileNotFoundError",
     "evalue": "File b'negative.csv' does not exist",
     "output_type": "error",
     "traceback": [
      "\u001b[0;31m---------------------------------------------------------------------------\u001b[0m",
      "\u001b[0;31mFileNotFoundError\u001b[0m                         Traceback (most recent call last)",
      "\u001b[0;32m<ipython-input-3-a2db1f9f4041>\u001b[0m in \u001b[0;36m<module>\u001b[0;34m()\u001b[0m\n\u001b[0;32m----> 1\u001b[0;31m \u001b[0mdf_neg\u001b[0m \u001b[0;34m=\u001b[0m \u001b[0mpd\u001b[0m\u001b[0;34m.\u001b[0m\u001b[0mread_csv\u001b[0m\u001b[0;34m(\u001b[0m\u001b[0;34m'negative.csv'\u001b[0m\u001b[0;34m,\u001b[0m \u001b[0msep\u001b[0m\u001b[0;34m=\u001b[0m\u001b[0;34m';'\u001b[0m\u001b[0;34m,\u001b[0m\u001b[0mheader\u001b[0m\u001b[0;34m=\u001b[0m\u001b[0;34m-\u001b[0m\u001b[0;36m1\u001b[0m\u001b[0;34m)\u001b[0m\u001b[0;34m\u001b[0m\u001b[0m\n\u001b[0m\u001b[1;32m      2\u001b[0m \u001b[0mdf_pos\u001b[0m \u001b[0;34m=\u001b[0m \u001b[0mpd\u001b[0m\u001b[0;34m.\u001b[0m\u001b[0mread_csv\u001b[0m\u001b[0;34m(\u001b[0m\u001b[0;34m'positive.csv'\u001b[0m\u001b[0;34m,\u001b[0m \u001b[0msep\u001b[0m\u001b[0;34m=\u001b[0m\u001b[0;34m';'\u001b[0m\u001b[0;34m,\u001b[0m\u001b[0mheader\u001b[0m\u001b[0;34m=\u001b[0m\u001b[0;34m-\u001b[0m\u001b[0;36m1\u001b[0m\u001b[0;34m)\u001b[0m\u001b[0;34m\u001b[0m\u001b[0m\n\u001b[1;32m      3\u001b[0m \u001b[0;34m\u001b[0m\u001b[0m\n\u001b[1;32m      4\u001b[0m \u001b[0mdf\u001b[0m \u001b[0;34m=\u001b[0m \u001b[0mdf_pos\u001b[0m\u001b[0;34m[\u001b[0m\u001b[0;34m[\u001b[0m\u001b[0;36m3\u001b[0m\u001b[0;34m,\u001b[0m\u001b[0;36m4\u001b[0m\u001b[0;34m]\u001b[0m\u001b[0;34m]\u001b[0m\u001b[0;34m.\u001b[0m\u001b[0mappend\u001b[0m\u001b[0;34m(\u001b[0m\u001b[0mdf_neg\u001b[0m\u001b[0;34m[\u001b[0m\u001b[0;34m[\u001b[0m\u001b[0;36m3\u001b[0m\u001b[0;34m,\u001b[0m\u001b[0;36m4\u001b[0m\u001b[0;34m]\u001b[0m\u001b[0;34m]\u001b[0m\u001b[0;34m)\u001b[0m\u001b[0;34m\u001b[0m\u001b[0m\n\u001b[1;32m      5\u001b[0m \u001b[0mdf\u001b[0m\u001b[0;34m.\u001b[0m\u001b[0mcolumns\u001b[0m \u001b[0;34m=\u001b[0m \u001b[0;34m[\u001b[0m\u001b[0;34m'text'\u001b[0m\u001b[0;34m,\u001b[0m \u001b[0;34m'target'\u001b[0m\u001b[0;34m]\u001b[0m\u001b[0;34m\u001b[0m\u001b[0m\n",
      "\u001b[0;32m/usr/local/lib/python3.6/site-packages/pandas/io/parsers.py\u001b[0m in \u001b[0;36mparser_f\u001b[0;34m(filepath_or_buffer, sep, delimiter, header, names, index_col, usecols, squeeze, prefix, mangle_dupe_cols, dtype, engine, converters, true_values, false_values, skipinitialspace, skiprows, nrows, na_values, keep_default_na, na_filter, verbose, skip_blank_lines, parse_dates, infer_datetime_format, keep_date_col, date_parser, dayfirst, iterator, chunksize, compression, thousands, decimal, lineterminator, quotechar, quoting, escapechar, comment, encoding, dialect, tupleize_cols, error_bad_lines, warn_bad_lines, skipfooter, skip_footer, doublequote, delim_whitespace, as_recarray, compact_ints, use_unsigned, low_memory, buffer_lines, memory_map, float_precision)\u001b[0m\n\u001b[1;32m    707\u001b[0m                     skip_blank_lines=skip_blank_lines)\n\u001b[1;32m    708\u001b[0m \u001b[0;34m\u001b[0m\u001b[0m\n\u001b[0;32m--> 709\u001b[0;31m         \u001b[0;32mreturn\u001b[0m \u001b[0m_read\u001b[0m\u001b[0;34m(\u001b[0m\u001b[0mfilepath_or_buffer\u001b[0m\u001b[0;34m,\u001b[0m \u001b[0mkwds\u001b[0m\u001b[0;34m)\u001b[0m\u001b[0;34m\u001b[0m\u001b[0m\n\u001b[0m\u001b[1;32m    710\u001b[0m \u001b[0;34m\u001b[0m\u001b[0m\n\u001b[1;32m    711\u001b[0m     \u001b[0mparser_f\u001b[0m\u001b[0;34m.\u001b[0m\u001b[0m__name__\u001b[0m \u001b[0;34m=\u001b[0m \u001b[0mname\u001b[0m\u001b[0;34m\u001b[0m\u001b[0m\n",
      "\u001b[0;32m/usr/local/lib/python3.6/site-packages/pandas/io/parsers.py\u001b[0m in \u001b[0;36m_read\u001b[0;34m(filepath_or_buffer, kwds)\u001b[0m\n\u001b[1;32m    447\u001b[0m \u001b[0;34m\u001b[0m\u001b[0m\n\u001b[1;32m    448\u001b[0m     \u001b[0;31m# Create the parser.\u001b[0m\u001b[0;34m\u001b[0m\u001b[0;34m\u001b[0m\u001b[0m\n\u001b[0;32m--> 449\u001b[0;31m     \u001b[0mparser\u001b[0m \u001b[0;34m=\u001b[0m \u001b[0mTextFileReader\u001b[0m\u001b[0;34m(\u001b[0m\u001b[0mfilepath_or_buffer\u001b[0m\u001b[0;34m,\u001b[0m \u001b[0;34m**\u001b[0m\u001b[0mkwds\u001b[0m\u001b[0;34m)\u001b[0m\u001b[0;34m\u001b[0m\u001b[0m\n\u001b[0m\u001b[1;32m    450\u001b[0m \u001b[0;34m\u001b[0m\u001b[0m\n\u001b[1;32m    451\u001b[0m     \u001b[0;32mif\u001b[0m \u001b[0mchunksize\u001b[0m \u001b[0;32mor\u001b[0m \u001b[0miterator\u001b[0m\u001b[0;34m:\u001b[0m\u001b[0;34m\u001b[0m\u001b[0m\n",
      "\u001b[0;32m/usr/local/lib/python3.6/site-packages/pandas/io/parsers.py\u001b[0m in \u001b[0;36m__init__\u001b[0;34m(self, f, engine, **kwds)\u001b[0m\n\u001b[1;32m    816\u001b[0m             \u001b[0mself\u001b[0m\u001b[0;34m.\u001b[0m\u001b[0moptions\u001b[0m\u001b[0;34m[\u001b[0m\u001b[0;34m'has_index_names'\u001b[0m\u001b[0;34m]\u001b[0m \u001b[0;34m=\u001b[0m \u001b[0mkwds\u001b[0m\u001b[0;34m[\u001b[0m\u001b[0;34m'has_index_names'\u001b[0m\u001b[0;34m]\u001b[0m\u001b[0;34m\u001b[0m\u001b[0m\n\u001b[1;32m    817\u001b[0m \u001b[0;34m\u001b[0m\u001b[0m\n\u001b[0;32m--> 818\u001b[0;31m         \u001b[0mself\u001b[0m\u001b[0;34m.\u001b[0m\u001b[0m_make_engine\u001b[0m\u001b[0;34m(\u001b[0m\u001b[0mself\u001b[0m\u001b[0;34m.\u001b[0m\u001b[0mengine\u001b[0m\u001b[0;34m)\u001b[0m\u001b[0;34m\u001b[0m\u001b[0m\n\u001b[0m\u001b[1;32m    819\u001b[0m \u001b[0;34m\u001b[0m\u001b[0m\n\u001b[1;32m    820\u001b[0m     \u001b[0;32mdef\u001b[0m \u001b[0mclose\u001b[0m\u001b[0;34m(\u001b[0m\u001b[0mself\u001b[0m\u001b[0;34m)\u001b[0m\u001b[0;34m:\u001b[0m\u001b[0;34m\u001b[0m\u001b[0m\n",
      "\u001b[0;32m/usr/local/lib/python3.6/site-packages/pandas/io/parsers.py\u001b[0m in \u001b[0;36m_make_engine\u001b[0;34m(self, engine)\u001b[0m\n\u001b[1;32m   1047\u001b[0m     \u001b[0;32mdef\u001b[0m \u001b[0m_make_engine\u001b[0m\u001b[0;34m(\u001b[0m\u001b[0mself\u001b[0m\u001b[0;34m,\u001b[0m \u001b[0mengine\u001b[0m\u001b[0;34m=\u001b[0m\u001b[0;34m'c'\u001b[0m\u001b[0;34m)\u001b[0m\u001b[0;34m:\u001b[0m\u001b[0;34m\u001b[0m\u001b[0m\n\u001b[1;32m   1048\u001b[0m         \u001b[0;32mif\u001b[0m \u001b[0mengine\u001b[0m \u001b[0;34m==\u001b[0m \u001b[0;34m'c'\u001b[0m\u001b[0;34m:\u001b[0m\u001b[0;34m\u001b[0m\u001b[0m\n\u001b[0;32m-> 1049\u001b[0;31m             \u001b[0mself\u001b[0m\u001b[0;34m.\u001b[0m\u001b[0m_engine\u001b[0m \u001b[0;34m=\u001b[0m \u001b[0mCParserWrapper\u001b[0m\u001b[0;34m(\u001b[0m\u001b[0mself\u001b[0m\u001b[0;34m.\u001b[0m\u001b[0mf\u001b[0m\u001b[0;34m,\u001b[0m \u001b[0;34m**\u001b[0m\u001b[0mself\u001b[0m\u001b[0;34m.\u001b[0m\u001b[0moptions\u001b[0m\u001b[0;34m)\u001b[0m\u001b[0;34m\u001b[0m\u001b[0m\n\u001b[0m\u001b[1;32m   1050\u001b[0m         \u001b[0;32melse\u001b[0m\u001b[0;34m:\u001b[0m\u001b[0;34m\u001b[0m\u001b[0m\n\u001b[1;32m   1051\u001b[0m             \u001b[0;32mif\u001b[0m \u001b[0mengine\u001b[0m \u001b[0;34m==\u001b[0m \u001b[0;34m'python'\u001b[0m\u001b[0;34m:\u001b[0m\u001b[0;34m\u001b[0m\u001b[0m\n",
      "\u001b[0;32m/usr/local/lib/python3.6/site-packages/pandas/io/parsers.py\u001b[0m in \u001b[0;36m__init__\u001b[0;34m(self, src, **kwds)\u001b[0m\n\u001b[1;32m   1693\u001b[0m         \u001b[0mkwds\u001b[0m\u001b[0;34m[\u001b[0m\u001b[0;34m'allow_leading_cols'\u001b[0m\u001b[0;34m]\u001b[0m \u001b[0;34m=\u001b[0m \u001b[0mself\u001b[0m\u001b[0;34m.\u001b[0m\u001b[0mindex_col\u001b[0m \u001b[0;32mis\u001b[0m \u001b[0;32mnot\u001b[0m \u001b[0;32mFalse\u001b[0m\u001b[0;34m\u001b[0m\u001b[0m\n\u001b[1;32m   1694\u001b[0m \u001b[0;34m\u001b[0m\u001b[0m\n\u001b[0;32m-> 1695\u001b[0;31m         \u001b[0mself\u001b[0m\u001b[0;34m.\u001b[0m\u001b[0m_reader\u001b[0m \u001b[0;34m=\u001b[0m \u001b[0mparsers\u001b[0m\u001b[0;34m.\u001b[0m\u001b[0mTextReader\u001b[0m\u001b[0;34m(\u001b[0m\u001b[0msrc\u001b[0m\u001b[0;34m,\u001b[0m \u001b[0;34m**\u001b[0m\u001b[0mkwds\u001b[0m\u001b[0;34m)\u001b[0m\u001b[0;34m\u001b[0m\u001b[0m\n\u001b[0m\u001b[1;32m   1696\u001b[0m \u001b[0;34m\u001b[0m\u001b[0m\n\u001b[1;32m   1697\u001b[0m         \u001b[0;31m# XXX\u001b[0m\u001b[0;34m\u001b[0m\u001b[0;34m\u001b[0m\u001b[0m\n",
      "\u001b[0;32mpandas/_libs/parsers.pyx\u001b[0m in \u001b[0;36mpandas._libs.parsers.TextReader.__cinit__\u001b[0;34m()\u001b[0m\n",
      "\u001b[0;32mpandas/_libs/parsers.pyx\u001b[0m in \u001b[0;36mpandas._libs.parsers.TextReader._setup_parser_source\u001b[0;34m()\u001b[0m\n",
      "\u001b[0;31mFileNotFoundError\u001b[0m: File b'negative.csv' does not exist"
     ]
    }
   ],
   "source": [
    "df_neg = pd.read_csv('negative.csv', sep=';',header=-1)\n",
    "df_pos = pd.read_csv('positive.csv', sep=';',header=-1)\n",
    "\n",
    "df = df_pos[[3,4]].append(df_neg[[3,4]])\n",
    "df.columns = ['text', 'target']\n",
    "df.reset_index(drop=True, inplace=True)\n",
    "df.target = df.target.replace({-1:0})\n",
    "\n",
    "print(df.shape)\n",
    "df.head()"
   ]
  },
  {
   "cell_type": "markdown",
   "metadata": {},
   "source": [
    "В первом столбце тексты твиттов. Во втором столбце две метки: либо $1$, если твит позитивный, либо $0$, если твит негативный."
   ]
  },
  {
   "cell_type": "code",
   "execution_count": 1,
   "metadata": {},
   "outputs": [
    {
     "ename": "NameError",
     "evalue": "name 'df' is not defined",
     "output_type": "error",
     "traceback": [
      "\u001b[0;31m---------------------------------------------------------------------------\u001b[0m",
      "\u001b[0;31mNameError\u001b[0m                                 Traceback (most recent call last)",
      "\u001b[0;32m<ipython-input-1-cdea8ef0a6d7>\u001b[0m in \u001b[0;36m<module>\u001b[0;34m()\u001b[0m\n\u001b[0;32m----> 1\u001b[0;31m \u001b[0mdf\u001b[0m\u001b[0;34m.\u001b[0m\u001b[0mtext\u001b[0m\u001b[0;34m.\u001b[0m\u001b[0miloc\u001b[0m\u001b[0;34m[\u001b[0m\u001b[0;36m0\u001b[0m\u001b[0;34m]\u001b[0m  \u001b[0;31m# пример позитива\u001b[0m\u001b[0;34m\u001b[0m\u001b[0m\n\u001b[0m",
      "\u001b[0;31mNameError\u001b[0m: name 'df' is not defined"
     ]
    }
   ],
   "source": [
    "df.text.iloc[10]  # пример позитива"
   ]
  },
  {
   "cell_type": "code",
   "execution_count": 4,
   "metadata": {},
   "outputs": [
    {
     "data": {
      "text/plain": [
       "'@ivanenko14 и у меня также, только будильник еще и не выключался.. папу разбудила ('"
      ]
     },
     "execution_count": 4,
     "metadata": {},
     "output_type": "execute_result"
    }
   ],
   "source": [
    "df.text.iloc[-10] # пример негатива"
   ]
  },
  {
   "cell_type": "markdown",
   "metadata": {},
   "source": [
    "Займёмся предобработкой текстов. \n",
    "\n",
    "* очистим их от мусорных символов\n",
    "* лемматиизируем\n",
    "* выбросим стоп-слова "
   ]
  },
  {
   "cell_type": "code",
   "execution_count": 5,
   "metadata": {},
   "outputs": [
    {
     "data": {
      "text/plain": [
       "'first timee школотый поверь самый общество профилировать предмет тип'"
      ]
     },
     "execution_count": 5,
     "metadata": {},
     "output_type": "execute_result"
    }
   ],
   "source": [
    "text = df.text[0] \n",
    "words = [morph.normal_forms(word)[0] for word in \n",
    "             re.sub('[^a-zа-я0-9]', ' ', text.lower()).split(' ') if (len(word) >= 2) and (word not in stopwords)]\n",
    "\n",
    "' '.join(words)"
   ]
  },
  {
   "cell_type": "markdown",
   "metadata": {},
   "source": [
    "Оборачиваем предобработчик в приятную функцию и применяем его ко всей таблице."
   ]
  },
  {
   "cell_type": "code",
   "execution_count": 6,
   "metadata": {},
   "outputs": [],
   "source": [
    "def prepare_text(text):  \n",
    "    words = [morph.normal_forms(word)[0] for word in \n",
    "             re.sub('[^a-zа-я0-9]', ' ', text.lower()).split(' ') if (len(word) >= 2) and (word not in stopwords)]\n",
    "    return words"
   ]
  },
  {
   "cell_type": "code",
   "execution_count": 7,
   "metadata": {},
   "outputs": [
    {
     "name": "stdout",
     "output_type": "stream",
     "text": [
      "CPU times: user 6min 12s, sys: 2.73 s, total: 6min 14s\n",
      "Wall time: 6min 17s\n"
     ]
    }
   ],
   "source": [
    "%%time\n",
    "df['prepare_text'] = df.text.apply(prepare_text)"
   ]
  },
  {
   "cell_type": "code",
   "execution_count": 8,
   "metadata": {},
   "outputs": [
    {
     "data": {
      "text/html": [
       "<div>\n",
       "<style scoped>\n",
       "    .dataframe tbody tr th:only-of-type {\n",
       "        vertical-align: middle;\n",
       "    }\n",
       "\n",
       "    .dataframe tbody tr th {\n",
       "        vertical-align: top;\n",
       "    }\n",
       "\n",
       "    .dataframe thead th {\n",
       "        text-align: right;\n",
       "    }\n",
       "</style>\n",
       "<table border=\"1\" class=\"dataframe\">\n",
       "  <thead>\n",
       "    <tr style=\"text-align: right;\">\n",
       "      <th></th>\n",
       "      <th>text</th>\n",
       "      <th>target</th>\n",
       "      <th>prepare_text</th>\n",
       "    </tr>\n",
       "  </thead>\n",
       "  <tbody>\n",
       "    <tr>\n",
       "      <th>0</th>\n",
       "      <td>@first_timee хоть я и школота, но поверь, у на...</td>\n",
       "      <td>1</td>\n",
       "      <td>[first, timee, школотый, поверь, самый, общест...</td>\n",
       "    </tr>\n",
       "    <tr>\n",
       "      <th>1</th>\n",
       "      <td>Да, все-таки он немного похож на него. Но мой ...</td>\n",
       "      <td>1</td>\n",
       "      <td>[таки, немного, похожий, мальчик, равно]</td>\n",
       "    </tr>\n",
       "    <tr>\n",
       "      <th>2</th>\n",
       "      <td>RT @KatiaCheh: Ну ты идиотка) я испугалась за ...</td>\n",
       "      <td>1</td>\n",
       "      <td>[rt, katiacheh, идиотка, испугаться]</td>\n",
       "    </tr>\n",
       "    <tr>\n",
       "      <th>3</th>\n",
       "      <td>RT @digger2912: \"Кто то в углу сидит и погибае...</td>\n",
       "      <td>1</td>\n",
       "      <td>[rt, digger2912, угол, сидеть, погибать, голод...</td>\n",
       "    </tr>\n",
       "    <tr>\n",
       "      <th>4</th>\n",
       "      <td>@irina_dyshkant Вот что значит страшилка :D\\nН...</td>\n",
       "      <td>1</td>\n",
       "      <td>[irina, dyshkant, значит, страшилка, блин, пос...</td>\n",
       "    </tr>\n",
       "  </tbody>\n",
       "</table>\n",
       "</div>"
      ],
      "text/plain": [
       "                                                text  target  \\\n",
       "0  @first_timee хоть я и школота, но поверь, у на...       1   \n",
       "1  Да, все-таки он немного похож на него. Но мой ...       1   \n",
       "2  RT @KatiaCheh: Ну ты идиотка) я испугалась за ...       1   \n",
       "3  RT @digger2912: \"Кто то в углу сидит и погибае...       1   \n",
       "4  @irina_dyshkant Вот что значит страшилка :D\\nН...       1   \n",
       "\n",
       "                                        prepare_text  \n",
       "0  [first, timee, школотый, поверь, самый, общест...  \n",
       "1           [таки, немного, похожий, мальчик, равно]  \n",
       "2               [rt, katiacheh, идиотка, испугаться]  \n",
       "3  [rt, digger2912, угол, сидеть, погибать, голод...  \n",
       "4  [irina, dyshkant, значит, страшилка, блин, пос...  "
      ]
     },
     "execution_count": 8,
     "metadata": {},
     "output_type": "execute_result"
    }
   ],
   "source": [
    "df.head()"
   ]
  },
  {
   "cell_type": "markdown",
   "metadata": {},
   "source": [
    "Найдём самые часто встречающиеся слова. Заменим все одинаковые слова на числовые коды. "
   ]
  },
  {
   "cell_type": "code",
   "execution_count": 9,
   "metadata": {},
   "outputs": [
    {
     "data": {
      "text/plain": [
       "211494"
      ]
     },
     "execution_count": 9,
     "metadata": {},
     "output_type": "execute_result"
    }
   ],
   "source": [
    "words_count = defaultdict(lambda: 0)\n",
    "\n",
    "for text in df.prepare_text:\n",
    "    for word in text:\n",
    "        words_count[word] +=1\n",
    "        \n",
    "len(words_count)"
   ]
  },
  {
   "cell_type": "code",
   "execution_count": 10,
   "metadata": {},
   "outputs": [
    {
     "data": {
      "text/html": [
       "<div>\n",
       "<style scoped>\n",
       "    .dataframe tbody tr th:only-of-type {\n",
       "        vertical-align: middle;\n",
       "    }\n",
       "\n",
       "    .dataframe tbody tr th {\n",
       "        vertical-align: top;\n",
       "    }\n",
       "\n",
       "    .dataframe thead th {\n",
       "        text-align: right;\n",
       "    }\n",
       "</style>\n",
       "<table border=\"1\" class=\"dataframe\">\n",
       "  <thead>\n",
       "    <tr style=\"text-align: right;\">\n",
       "      <th></th>\n",
       "      <th>text</th>\n",
       "      <th>target</th>\n",
       "      <th>prepare_text</th>\n",
       "      <th>freq_text</th>\n",
       "    </tr>\n",
       "  </thead>\n",
       "  <tbody>\n",
       "    <tr>\n",
       "      <th>0</th>\n",
       "      <td>@first_timee хоть я и школота, но поверь, у на...</td>\n",
       "      <td>1</td>\n",
       "      <td>[first, timee, школотый, поверь, самый, общест...</td>\n",
       "      <td>[19125, 24222, 9648, 3030, 7768, 5413, 5567]</td>\n",
       "    </tr>\n",
       "    <tr>\n",
       "      <th>1</th>\n",
       "      <td>Да, все-таки он немного похож на него. Но мой ...</td>\n",
       "      <td>1</td>\n",
       "      <td>[таки, немного, похожий, мальчик, равно]</td>\n",
       "      <td>[16540, 16329, 2898, 17312, 10337]</td>\n",
       "    </tr>\n",
       "    <tr>\n",
       "      <th>2</th>\n",
       "      <td>RT @KatiaCheh: Ну ты идиотка) я испугалась за ...</td>\n",
       "      <td>1</td>\n",
       "      <td>[rt, katiacheh, идиотка, испугаться]</td>\n",
       "      <td>[11078, 6465, 237]</td>\n",
       "    </tr>\n",
       "    <tr>\n",
       "      <th>3</th>\n",
       "      <td>RT @digger2912: \"Кто то в углу сидит и погибае...</td>\n",
       "      <td>1</td>\n",
       "      <td>[rt, digger2912, угол, сидеть, погибать, голод...</td>\n",
       "      <td>[11078, 3028, 16154, 1258, 12744, 7456, 19116,...</td>\n",
       "    </tr>\n",
       "    <tr>\n",
       "      <th>4</th>\n",
       "      <td>@irina_dyshkant Вот что значит страшилка :D\\nН...</td>\n",
       "      <td>1</td>\n",
       "      <td>[irina, dyshkant, значит, страшилка, блин, пос...</td>\n",
       "      <td>[10572, 20859, 4576, 8448, 8857, 17521, 15998,...</td>\n",
       "    </tr>\n",
       "  </tbody>\n",
       "</table>\n",
       "</div>"
      ],
      "text/plain": [
       "                                                text  target  \\\n",
       "0  @first_timee хоть я и школота, но поверь, у на...       1   \n",
       "1  Да, все-таки он немного похож на него. Но мой ...       1   \n",
       "2  RT @KatiaCheh: Ну ты идиотка) я испугалась за ...       1   \n",
       "3  RT @digger2912: \"Кто то в углу сидит и погибае...       1   \n",
       "4  @irina_dyshkant Вот что значит страшилка :D\\nН...       1   \n",
       "\n",
       "                                        prepare_text  \\\n",
       "0  [first, timee, школотый, поверь, самый, общест...   \n",
       "1           [таки, немного, похожий, мальчик, равно]   \n",
       "2               [rt, katiacheh, идиотка, испугаться]   \n",
       "3  [rt, digger2912, угол, сидеть, погибать, голод...   \n",
       "4  [irina, dyshkant, значит, страшилка, блин, пос...   \n",
       "\n",
       "                                           freq_text  \n",
       "0       [19125, 24222, 9648, 3030, 7768, 5413, 5567]  \n",
       "1                 [16540, 16329, 2898, 17312, 10337]  \n",
       "2                                 [11078, 6465, 237]  \n",
       "3  [11078, 3028, 16154, 1258, 12744, 7456, 19116,...  \n",
       "4  [10572, 20859, 4576, 8448, 8857, 17521, 15998,...  "
      ]
     },
     "execution_count": 10,
     "metadata": {},
     "output_type": "execute_result"
    }
   ],
   "source": [
    "top_words = 24999    # ограниичимся словарём из 25000 самых частых слов\n",
    "\n",
    "sorted_words = sorted(words_count.items(), key=lambda w:w[1], reverse=True)\n",
    "freq_words = {item[0] for item in sorted_words[:top_words]}\n",
    "\n",
    "encoder = dict(zip(freq_words, list(range(1,len(freq_words) + 1))))\n",
    "\n",
    "# функция-фильтр\n",
    "def freq_filter(text):\n",
    "    return np.array([encoder[word] for word in text if word in freq_words])\n",
    "\n",
    "df['freq_text'] = df.prepare_text.apply(freq_filter)\n",
    "df.head()"
   ]
  },
  {
   "cell_type": "code",
   "execution_count": 11,
   "metadata": {},
   "outputs": [
    {
     "data": {
      "text/plain": [
       "<matplotlib.axes._subplots.AxesSubplot at 0x12a86da90>"
      ]
     },
     "execution_count": 11,
     "metadata": {},
     "output_type": "execute_result"
    }
   ],
   "source": [
    "df.freq_text.apply(len).hist()"
   ]
  },
  {
   "cell_type": "code",
   "execution_count": 12,
   "metadata": {},
   "outputs": [],
   "source": [
    "dff = df[df.freq_text.apply(len) > 2] # Выбрасываем из обучения все посты короче 3-х слов."
   ]
  },
  {
   "cell_type": "code",
   "execution_count": 13,
   "metadata": {},
   "outputs": [
    {
     "name": "stderr",
     "output_type": "stream",
     "text": [
      "/usr/local/lib/python3.6/site-packages/sklearn/cross_validation.py:41: DeprecationWarning: This module was deprecated in version 0.18 in favor of the model_selection module into which all the refactored classes and functions are moved. Also note that the interface of the new CV iterators are different from that of this module. This module will be removed in 0.20.\n",
      "  \"This module will be removed in 0.20.\", DeprecationWarning)\n"
     ]
    }
   ],
   "source": [
    "from sklearn.cross_validation import train_test_split\n",
    "\n",
    "X_train, X_test, y_train, y_test = train_test_split(df.freq_text.get_values(), df.target.get_values(), test_size=0.2)"
   ]
  },
  {
   "cell_type": "code",
   "execution_count": 14,
   "metadata": {},
   "outputs": [
    {
     "name": "stdout",
     "output_type": "stream",
     "text": [
      "181467 train sequences\n",
      "45367 test sequences\n"
     ]
    },
    {
     "data": {
      "text/plain": [
       "array([ 7265,  2012, 24257, 18975, 14927,  6751,  9281, 10952,  3059,\n",
       "       16338,  5053,  5790, 20550])"
      ]
     },
     "execution_count": 14,
     "metadata": {},
     "output_type": "execute_result"
    }
   ],
   "source": [
    "print(len(X_train), 'train sequences')\n",
    "print(len(X_test), 'test sequences')\n",
    "\n",
    "# как выглядит вектор\n",
    "X_train[0][:20]"
   ]
  },
  {
   "cell_type": "markdown",
   "metadata": {},
   "source": [
    "Разные тексты - разной длины. Нам в нашу сетку хотелось бы посылать последовательности одинаковой длины. Обрежем все длиные посты до $20$ слов. Если в посте меньше $20$ слов, дополним его слева нулями."
   ]
  },
  {
   "cell_type": "code",
   "execution_count": 15,
   "metadata": {},
   "outputs": [],
   "source": [
    "max_twitter_length = 20         # обрежем все посты до 20 слов\n",
    "\n",
    "X_train = sequence.pad_sequences(X_train, maxlen=max_twitter_length)\n",
    "X_test = sequence.pad_sequences(X_test, maxlen=max_twitter_length)"
   ]
  },
  {
   "cell_type": "code",
   "execution_count": 16,
   "metadata": {},
   "outputs": [
    {
     "data": {
      "text/plain": [
       "array([    0,     0,     0,     0,     0,     0,     0,  7265,  2012,\n",
       "       24257, 18975, 14927,  6751,  9281, 10952,  3059, 16338,  5053,\n",
       "        5790, 20550], dtype=int32)"
      ]
     },
     "execution_count": 16,
     "metadata": {},
     "output_type": "execute_result"
    }
   ],
   "source": [
    "X_train[0][:20]"
   ]
  },
  {
   "cell_type": "markdown",
   "metadata": {},
   "source": [
    "## 1.2 Собираем нейросети\n",
    "\n",
    "Попробуем обучить несколько разных малокалиберных нейросеток. \n",
    "\n",
    "\n",
    "<img align=\"center\" src=\"arh_1.png\" width=\"400\">\n"
   ]
  },
  {
   "cell_type": "code",
   "execution_count": 17,
   "metadata": {},
   "outputs": [],
   "source": [
    "embedding_vector_length = 64    # размерность эмбендинга\n",
    "top = top_words + 1             # на вход идут слова и нулевой элемент"
   ]
  },
  {
   "cell_type": "code",
   "execution_count": 18,
   "metadata": {},
   "outputs": [],
   "source": [
    "model = Sequential()\n",
    "model.add(Embedding(top, embedding_vector_length, input_length=max_twitter_length))\n",
    "model.add(Conv1D(filters=8, kernel_size=3, padding='same', activation='relu'))\n",
    "model.add(MaxPooling1D(pool_size=2))\n",
    "model.add(Dropout(0.5))\n",
    "model.add(LSTM(32))\n",
    "model.add(Dense(1, activation='sigmoid'))\n",
    "\n",
    "# собираем сетку и выбираем оптимизатор для обучения\n",
    "model.compile(loss='binary_crossentropy', optimizer='adam', metrics=['accuracy'])"
   ]
  },
  {
   "cell_type": "code",
   "execution_count": 19,
   "metadata": {
    "scrolled": false
   },
   "outputs": [
    {
     "name": "stdout",
     "output_type": "stream",
     "text": [
      "Train on 154246 samples, validate on 27221 samples\n",
      "Epoch 1/3\n",
      "154246/154246 [==============================] - 112s 725us/step - loss: 0.5578 - acc: 0.7111 - val_loss: 0.5231 - val_acc: 0.7370\n",
      "Epoch 2/3\n",
      "154246/154246 [==============================] - 114s 739us/step - loss: 0.4758 - acc: 0.7723 - val_loss: 0.5217 - val_acc: 0.7433\n",
      "Epoch 3/3\n",
      "154246/154246 [==============================] - 111s 722us/step - loss: 0.4330 - acc: 0.7977 - val_loss: 0.5338 - val_acc: 0.7263\n",
      "CPU times: user 14min 23s, sys: 5min 32s, total: 19min 55s\n",
      "Wall time: 5min 38s\n"
     ]
    }
   ],
   "source": [
    "%%time \n",
    "# гоняем сетку три эпохи\n",
    "hist = model.fit(X_train, y_train, validation_split=0.15, epochs=3, batch_size=32)"
   ]
  },
  {
   "cell_type": "code",
   "execution_count": 20,
   "metadata": {},
   "outputs": [
    {
     "name": "stdout",
     "output_type": "stream",
     "text": [
      "Accuracy: 0.7304\n"
     ]
    }
   ],
   "source": [
    "# качество на тесте\n",
    "scores = model.evaluate(X_test, y_test, verbose=0)\n",
    "print('Accuracy: %.4f'%(scores[1]))"
   ]
  },
  {
   "cell_type": "code",
   "execution_count": 24,
   "metadata": {},
   "outputs": [
    {
     "data": {
      "text/plain": [
       "<matplotlib.legend.Legend at 0x119659e80>"
      ]
     },
     "execution_count": 24,
     "metadata": {},
     "output_type": "execute_result"
    },
    {
     "data": {
      "image/png": "[encoded data removed]",
      "text/plain": [
       "<matplotlib.figure.Figure at 0x132f6d2e8>"
      ]
     },
     "metadata": {},
     "output_type": "display_data"
    }
   ],
   "source": [
    "# когда начали переобучаться\n",
    "plt.plot(hist.history['loss'])\n",
    "plt.plot(hist.history['val_loss'])\n",
    "plt.legend(['Train loss', 'Validation loss'])"
   ]
  },
  {
   "cell_type": "code",
   "execution_count": 25,
   "metadata": {},
   "outputs": [
    {
     "name": "stdout",
     "output_type": "stream",
     "text": [
      "_________________________________________________________________\n",
      "Layer (type)                 Output Shape              Param #   \n",
      "=================================================================\n",
      "embedding_1 (Embedding)      (None, 20, 64)            1600000   \n",
      "_________________________________________________________________\n",
      "conv1d_1 (Conv1D)            (None, 20, 8)             1544      \n",
      "_________________________________________________________________\n",
      "max_pooling1d_1 (MaxPooling1 (None, 10, 8)             0         \n",
      "_________________________________________________________________\n",
      "dropout_1 (Dropout)          (None, 10, 8)             0         \n",
      "_________________________________________________________________\n",
      "lstm_1 (LSTM)                (None, 32)                5248      \n",
      "_________________________________________________________________\n",
      "dense_1 (Dense)              (None, 1)                 33        \n",
      "=================================================================\n",
      "Total params: 1,606,825\n",
      "Trainable params: 1,606,825\n",
      "Non-trainable params: 0\n",
      "_________________________________________________________________\n"
     ]
    }
   ],
   "source": [
    "model.summary()"
   ]
  },
  {
   "cell_type": "markdown",
   "metadata": {},
   "source": [
    "Видим, что почти сразу мы начинаем переобучаться. Оно и не удивительно. Выборка довольно маленькая. Попробуем ввести дополнительный слой дропаута для регуляризации, а также немного облечим архитектуру.\n",
    "\n",
    "\n",
    "<img align=\"center\" src=\"arh_2.png\" width=\"400\">"
   ]
  },
  {
   "cell_type": "code",
   "execution_count": 26,
   "metadata": {},
   "outputs": [],
   "source": [
    "model = Sequential()\n",
    "model.add(Embedding(top, embedding_vector_length, input_length=max_twitter_length))\n",
    "model.add(LSTM(1, return_sequences=True))\n",
    "model.add(Dropout(0.5))\n",
    "model.add(LSTM(1))\n",
    "model.add(Dropout(0.5))\n",
    "model.add(Dense(1, activation='sigmoid'))\n",
    "\n",
    "model.compile(loss='binary_crossentropy', optimizer='adam', metrics=['accuracy'])"
   ]
  },
  {
   "cell_type": "code",
   "execution_count": 27,
   "metadata": {},
   "outputs": [
    {
     "name": "stdout",
     "output_type": "stream",
     "text": [
      "_________________________________________________________________\n",
      "Layer (type)                 Output Shape              Param #   \n",
      "=================================================================\n",
      "embedding_2 (Embedding)      (None, 20, 64)            1600000   \n",
      "_________________________________________________________________\n",
      "lstm_2 (LSTM)                (None, 20, 1)             264       \n",
      "_________________________________________________________________\n",
      "dropout_2 (Dropout)          (None, 20, 1)             0         \n",
      "_________________________________________________________________\n",
      "lstm_3 (LSTM)                (None, 1)                 12        \n",
      "_________________________________________________________________\n",
      "dropout_3 (Dropout)          (None, 1)                 0         \n",
      "_________________________________________________________________\n",
      "dense_2 (Dense)              (None, 1)                 2         \n",
      "=================================================================\n",
      "Total params: 1,600,278\n",
      "Trainable params: 1,600,278\n",
      "Non-trainable params: 0\n",
      "_________________________________________________________________\n"
     ]
    }
   ],
   "source": [
    "model.summary()"
   ]
  },
  {
   "cell_type": "code",
   "execution_count": 30,
   "metadata": {},
   "outputs": [
    {
     "name": "stdout",
     "output_type": "stream",
     "text": [
      "Train on 145173 samples, validate on 36294 samples\n",
      "Epoch 1/3\n",
      "145173/145173 [==============================] - 109s 750us/step - loss: 0.5627 - acc: 0.7089 - val_loss: 0.5223 - val_acc: 0.7419\n",
      "Epoch 2/3\n",
      "145173/145173 [==============================] - 105s 722us/step - loss: 0.4801 - acc: 0.7705 - val_loss: 0.5191 - val_acc: 0.7427\n",
      "Epoch 3/3\n",
      "145173/145173 [==============================] - 105s 721us/step - loss: 0.4379 - acc: 0.7975 - val_loss: 0.5169 - val_acc: 0.7439\n",
      "CPU times: user 13min 47s, sys: 4min 16s, total: 18min 4s\n",
      "Wall time: 5min 19s\n"
     ]
    }
   ],
   "source": [
    "%%time\n",
    "hist = model.fit(X_train, y_train, validation_split=0.2, epochs=3, batch_size=32)"
   ]
  },
  {
   "cell_type": "code",
   "execution_count": 31,
   "metadata": {},
   "outputs": [
    {
     "name": "stdout",
     "output_type": "stream",
     "text": [
      "Accuracy: 0.7444\n"
     ]
    }
   ],
   "source": [
    "scores = model.evaluate(X_test, y_test, verbose=0)\n",
    "print('Accuracy: %.4f'%(scores[1]))"
   ]
  },
  {
   "cell_type": "code",
   "execution_count": 32,
   "metadata": {},
   "outputs": [
    {
     "data": {
      "text/plain": [
       "<matplotlib.legend.Legend at 0x1303ab7b8>"
      ]
     },
     "execution_count": 32,
     "metadata": {},
     "output_type": "execute_result"
    },
    {
     "data": {
      "image/png": "[encoded data removed]",
      "text/plain": [
       "<matplotlib.figure.Figure at 0x10a7f8b38>"
      ]
     },
     "metadata": {},
     "output_type": "display_data"
    }
   ],
   "source": [
    "plt.plot(hist.history['loss'])\n",
    "plt.plot(hist.history['val_loss'])\n",
    "plt.legend(['Train loss', 'Validation loss'])"
   ]
  },
  {
   "cell_type": "markdown",
   "metadata": {},
   "source": [
    "Мы немного уронили качество. Вернёмся к первой архитектуре. Будем учить сетку ровно одну эпоху."
   ]
  },
  {
   "cell_type": "code",
   "execution_count": 33,
   "metadata": {},
   "outputs": [
    {
     "name": "stdout",
     "output_type": "stream",
     "text": [
      "_________________________________________________________________\n",
      "Layer (type)                 Output Shape              Param #   \n",
      "=================================================================\n",
      "embedding_4 (Embedding)      (None, 20, 64)            1600000   \n",
      "_________________________________________________________________\n",
      "conv1d_3 (Conv1D)            (None, 20, 8)             1544      \n",
      "_________________________________________________________________\n",
      "max_pooling1d_3 (MaxPooling1 (None, 10, 8)             0         \n",
      "_________________________________________________________________\n",
      "dropout_5 (Dropout)          (None, 10, 8)             0         \n",
      "_________________________________________________________________\n",
      "lstm_5 (LSTM)                (None, 8)                 544       \n",
      "_________________________________________________________________\n",
      "dense_4 (Dense)              (None, 1)                 9         \n",
      "=================================================================\n",
      "Total params: 1,602,097\n",
      "Trainable params: 1,602,097\n",
      "Non-trainable params: 0\n",
      "_________________________________________________________________\n"
     ]
    }
   ],
   "source": [
    "model = Sequential()\n",
    "model.add(Embedding(top, embedding_vector_length, input_length=max_twitter_length))\n",
    "model.add(Conv1D(filters=8, kernel_size=3, padding='same', activation='relu'))\n",
    "model.add(MaxPooling1D(pool_size=2))\n",
    "model.add(Dropout(0.5))\n",
    "model.add(LSTM(8))\n",
    "model.add(Dense(1, activation='sigmoid'))\n",
    "\n",
    "model.compile(loss='binary_crossentropy', optimizer='adam', metrics=['accuracy'])\n",
    "\n",
    "model.summary()"
   ]
  },
  {
   "cell_type": "code",
   "execution_count": 34,
   "metadata": {},
   "outputs": [
    {
     "name": "stdout",
     "output_type": "stream",
     "text": [
      "Train on 145173 samples, validate on 36294 samples\n",
      "Epoch 1/1\n",
      "145173/145173 [==============================] - 99s 680us/step - loss: 0.5637 - acc: 0.7054 - val_loss: 0.5248 - val_acc: 0.7364\n",
      "CPU times: user 4min 36s, sys: 1min 14s, total: 5min 50s\n",
      "Wall time: 1min 40s\n"
     ]
    }
   ],
   "source": [
    "%%time\n",
    "hist = model.fit(X_train, y_train, validation_split=0.2, epochs=1, batch_size=32)"
   ]
  },
  {
   "cell_type": "code",
   "execution_count": 35,
   "metadata": {},
   "outputs": [
    {
     "name": "stdout",
     "output_type": "stream",
     "text": [
      "Accuracy: 0.7388\n"
     ]
    }
   ],
   "source": [
    "scores = model.evaluate(X_test, y_test, verbose=0)\n",
    "print('Accuracy: %.4f'%(scores[1]))"
   ]
  },
  {
   "cell_type": "markdown",
   "metadata": {},
   "source": [
    "В принципе эксперименты можно ставить довольно долго. К сущесвенному улучшению качества это не приведёт. Для этого нужно растить выборку. Остановимся на последней архитектуре и перейдём к выбору порогов. Подберём два порога: для детекции позитива и детекции негатива. Всё, что между ними будем относить к нейтральному классу."
   ]
  },
  {
   "cell_type": "code",
   "execution_count": 36,
   "metadata": {},
   "outputs": [
    {
     "name": "stdout",
     "output_type": "stream",
     "text": [
      "             precision    recall  f1-score   support\n",
      "\n",
      "          0       0.68      0.86      0.76     22476\n",
      "          1       0.81      0.59      0.69     22891\n",
      "\n",
      "avg / total       0.75      0.73      0.72     45367\n",
      "\n"
     ]
    }
   ],
   "source": [
    "from sklearn.metrics import classification_report\n",
    "\n",
    "cutoff = 0.65  # выбрали погог\n",
    "\n",
    "# говорим, что все клиенты с вероятностью оттока больше 0.5 уйдут\n",
    "y_hat = model.predict_proba(X_test) > cutoff\n",
    "\n",
    "# выводим на экран отчёт, в которым посчитаются метрики по всем классам\n",
    "report = classification_report(y_test, y_hat)\n",
    "print(report)"
   ]
  },
  {
   "cell_type": "markdown",
   "metadata": {},
   "source": [
    "В принципе, если мы подберём в качестве порога для негатива $0.65$, на тесте мы найдём $65\\%$ позитивных коментов с точностью $80\\%$."
   ]
  },
  {
   "cell_type": "code",
   "execution_count": 37,
   "metadata": {},
   "outputs": [
    {
     "name": "stdout",
     "output_type": "stream",
     "text": [
      "             precision    recall  f1-score   support\n",
      "\n",
      "          0       0.77      0.66      0.71     22476\n",
      "          1       0.71      0.81      0.75     22891\n",
      "\n",
      "avg / total       0.74      0.73      0.73     45367\n",
      "\n"
     ]
    }
   ],
   "source": [
    "cutoff = 0.45  # выбрали погог\n",
    "\n",
    "# говорим, что все клиенты с вероятностью оттока больше 0.5 уйдут\n",
    "y_hat = model.predict_proba(X_test) > cutoff\n",
    "\n",
    "# выводим на экран отчёт, в которым посчитаются метрики по всем классам\n",
    "report = classification_report(y_test, y_hat)\n",
    "print(report)"
   ]
  },
  {
   "cell_type": "markdown",
   "metadata": {},
   "source": [
    "Для негатива поставим порог $0.45$. По аналогии это поможет нам детектировать $61\\%$ негатива с $80\\%$ точностью. Всё, что находится между $0.45$ и $0.65$ будем считать нейтральным."
   ]
  },
  {
   "cell_type": "markdown",
   "metadata": {},
   "source": [
    "Можно было бы добавить в выборку нейтральные комментарии, которые нельзя по своей окраске отнести ни к одному из классов. Тогда бы мы учили сетку с несколькими выходами и решали бы к какому классу относится комментарии по самой большой вероятности. Перейдём к применению обученной сетки."
   ]
  },
  {
   "cell_type": "markdown",
   "metadata": {},
   "source": [
    "# 2. Применение на твиттере\n",
    "\n",
    "Напишем функцию, которая будет считывать данные по твиттам на определённую тематику и строить для них прогнозы. Все твиты мы заблаговременно спарсили."
   ]
  },
  {
   "cell_type": "code",
   "execution_count": 38,
   "metadata": {},
   "outputs": [],
   "source": [
    "def table_prepare(path):\n",
    "\n",
    "    df = pd.read_csv(path, sep='\\t')\n",
    "    df = df[['Tweets', 'Date']]\n",
    "\n",
    "    # предобработали дату\n",
    "    df.Date = df.Date.apply(lambda x: x.split(' ')[2] + ' ' \n",
    "                        + x.split(' ')[1] + ' ' + x.split(' ')[-1])\n",
    "\n",
    "    # по очереди применяем все предобрабатывающие функции\n",
    "    df['prepareTweets'] = df.Tweets.apply(prepare_text).apply(freq_filter)\n",
    "\n",
    "    df = df[df.prepareTweets.apply(len) > 2] # Выбрасываем все посты короче 3-х слов.\n",
    "    print(\"Размер таблицы: \", df.shape)\n",
    "    # финальная предобработка (добавление нулей)\n",
    "    X = sequence.pad_sequences(df.prepareTweets.values, maxlen=max_twitter_length)\n",
    "\n",
    "    # предсказываем вероятность негатива\n",
    "    prob = model.predict_proba(X)\n",
    "    df['prob'] = prob\n",
    "    return df[['Date', 'Tweets', 'prob']]"
   ]
  },
  {
   "cell_type": "markdown",
   "metadata": {},
   "source": [
    "Также напишем небольшую функцию, которая будет наши данные агрегировать по дням и визуализировать."
   ]
  },
  {
   "cell_type": "code",
   "execution_count": 85,
   "metadata": {},
   "outputs": [],
   "source": [
    "def negative_plot(df):\n",
    "    df['Negative'] = df.prob < 0.45\n",
    "    df['Positive'] = df.prob > 0.65\n",
    "    df['Neutral'] = (df.prob <= 0.65) | (df.prob >= 0.45)\n",
    "\n",
    "    df_abs = df[['Date', 'Positive', 'Neutral','Negative']].groupby('Date').sum()\n",
    "    df_perc = df_abs.divide(df_abs.sum(axis=1), axis=0)\n",
    "    \n",
    "    # строим красивую картинку \n",
    "    plt.figure(figsize=(14,6))\n",
    "\n",
    "    # colors: https://www.color-hex.com/color/2ecc71\n",
    "    pal = [\"#e74c3c\", \"#f1c40f\", \"#2ecc71\"]\n",
    "\n",
    "    plt.stackplot(df_perc.index, df_perc['Negative'],  df_perc['Neutral'], df_perc['Positive'], \n",
    "                        labels=['Negative','Neutral','Positive'],  colors=pal)\n",
    "\n",
    "    plt.legend(loc='lower right')\n",
    "    plt.margins(0,0)\n",
    "    plt.title('Доли твитов определённой тональности',size=18)\n",
    "    plt.show()\n",
    "    pass "
   ]
  },
  {
   "cell_type": "markdown",
   "metadata": {},
   "source": [
    "## 2.1 Что люди пишут в твиттере о кино?"
   ]
  },
  {
   "cell_type": "code",
   "execution_count": 86,
   "metadata": {},
   "outputs": [
    {
     "name": "stdout",
     "output_type": "stream",
     "text": [
      "Размер таблицы:  (3996, 3)\n"
     ]
    },
    {
     "data": {
      "text/html": [
       "<div>\n",
       "<style scoped>\n",
       "    .dataframe tbody tr th:only-of-type {\n",
       "        vertical-align: middle;\n",
       "    }\n",
       "\n",
       "    .dataframe tbody tr th {\n",
       "        vertical-align: top;\n",
       "    }\n",
       "\n",
       "    .dataframe thead th {\n",
       "        text-align: right;\n",
       "    }\n",
       "</style>\n",
       "<table border=\"1\" class=\"dataframe\">\n",
       "  <thead>\n",
       "    <tr style=\"text-align: right;\">\n",
       "      <th></th>\n",
       "      <th>Date</th>\n",
       "      <th>Tweets</th>\n",
       "      <th>prob</th>\n",
       "    </tr>\n",
       "  </thead>\n",
       "  <tbody>\n",
       "    <tr>\n",
       "      <th>0</th>\n",
       "      <td>23 Nov 2018</td>\n",
       "      <td>#ВечернийУргант. Богемская рапсодия 🔥 https://...</td>\n",
       "      <td>0.847609</td>\n",
       "    </tr>\n",
       "    <tr>\n",
       "      <th>3</th>\n",
       "      <td>27 Nov 2018</td>\n",
       "      <td>\"Богемская рапсодия\"-прекрасный подбор актеров...</td>\n",
       "      <td>0.916440</td>\n",
       "    </tr>\n",
       "    <tr>\n",
       "      <th>4</th>\n",
       "      <td>27 Nov 2018</td>\n",
       "      <td>RT @assambleya: богемская рапсодия би лайк htt...</td>\n",
       "      <td>0.796588</td>\n",
       "    </tr>\n",
       "    <tr>\n",
       "      <th>5</th>\n",
       "      <td>27 Nov 2018</td>\n",
       "      <td>RT @drsy10WSbjZ3Sho: девочка: ой Богемская Рап...</td>\n",
       "      <td>0.635965</td>\n",
       "    </tr>\n",
       "    <tr>\n",
       "      <th>9</th>\n",
       "      <td>27 Nov 2018</td>\n",
       "      <td>Фух единственный тип который не ходил на фильм...</td>\n",
       "      <td>0.662984</td>\n",
       "    </tr>\n",
       "  </tbody>\n",
       "</table>\n",
       "</div>"
      ],
      "text/plain": [
       "          Date                                             Tweets      prob\n",
       "0  23 Nov 2018  #ВечернийУргант. Богемская рапсодия 🔥 https://...  0.847609\n",
       "3  27 Nov 2018  \"Богемская рапсодия\"-прекрасный подбор актеров...  0.916440\n",
       "4  27 Nov 2018  RT @assambleya: богемская рапсодия би лайк htt...  0.796588\n",
       "5  27 Nov 2018  RT @drsy10WSbjZ3Sho: девочка: ой Богемская Рап...  0.635965\n",
       "9  27 Nov 2018  Фух единственный тип который не ходил на фильм...  0.662984"
      ]
     },
     "execution_count": 86,
     "metadata": {},
     "output_type": "execute_result"
    }
   ],
   "source": [
    "df_rapsodia = table_prepare('df_film_rapsodia.csv')\n",
    "df_rapsodia.head()"
   ]
  },
  {
   "cell_type": "code",
   "execution_count": 87,
   "metadata": {},
   "outputs": [
    {
     "data": {
      "image/png": "[encoded data removed]",
      "text/plain": [
       "<matplotlib.figure.Figure at 0x12fe0acc0>"
      ]
     },
     "metadata": {},
     "output_type": "display_data"
    }
   ],
   "source": [
    "negative_plot(df_rapsodia)"
   ]
  },
  {
   "cell_type": "code",
   "execution_count": 88,
   "metadata": {
    "scrolled": false
   },
   "outputs": [
    {
     "name": "stdout",
     "output_type": "stream",
     "text": [
      "Размер таблицы:  (11755, 3)\n"
     ]
    },
    {
     "data": {
      "text/html": [
       "<div>\n",
       "<style scoped>\n",
       "    .dataframe tbody tr th:only-of-type {\n",
       "        vertical-align: middle;\n",
       "    }\n",
       "\n",
       "    .dataframe tbody tr th {\n",
       "        vertical-align: top;\n",
       "    }\n",
       "\n",
       "    .dataframe thead th {\n",
       "        text-align: right;\n",
       "    }\n",
       "</style>\n",
       "<table border=\"1\" class=\"dataframe\">\n",
       "  <thead>\n",
       "    <tr style=\"text-align: right;\">\n",
       "      <th></th>\n",
       "      <th>Date</th>\n",
       "      <th>Tweets</th>\n",
       "      <th>prob</th>\n",
       "    </tr>\n",
       "  </thead>\n",
       "  <tbody>\n",
       "    <tr>\n",
       "      <th>0</th>\n",
       "      <td>18 Nov 2018</td>\n",
       "      <td>Интересно, включены ли в тест фантастические т...</td>\n",
       "      <td>0.575234</td>\n",
       "    </tr>\n",
       "    <tr>\n",
       "      <th>1</th>\n",
       "      <td>22 Nov 2018</td>\n",
       "      <td>Фантастические твари и сколько ещё они будут т...</td>\n",
       "      <td>0.376139</td>\n",
       "    </tr>\n",
       "    <tr>\n",
       "      <th>2</th>\n",
       "      <td>27 Nov 2018</td>\n",
       "      <td>RT @Chehovskyi: Фантастические твари и как они...</td>\n",
       "      <td>0.282820</td>\n",
       "    </tr>\n",
       "    <tr>\n",
       "      <th>3</th>\n",
       "      <td>27 Nov 2018</td>\n",
       "      <td>15 ноября при поддержке Европы Плюс в прокат в...</td>\n",
       "      <td>0.776797</td>\n",
       "    </tr>\n",
       "    <tr>\n",
       "      <th>4</th>\n",
       "      <td>27 Nov 2018</td>\n",
       "      <td>RT @metashot: 1918 год - издательство заказыва...</td>\n",
       "      <td>0.314818</td>\n",
       "    </tr>\n",
       "  </tbody>\n",
       "</table>\n",
       "</div>"
      ],
      "text/plain": [
       "          Date                                             Tweets      prob\n",
       "0  18 Nov 2018  Интересно, включены ли в тест фантастические т...  0.575234\n",
       "1  22 Nov 2018  Фантастические твари и сколько ещё они будут т...  0.376139\n",
       "2  27 Nov 2018  RT @Chehovskyi: Фантастические твари и как они...  0.282820\n",
       "3  27 Nov 2018  15 ноября при поддержке Европы Плюс в прокат в...  0.776797\n",
       "4  27 Nov 2018  RT @metashot: 1918 год - издательство заказыва...  0.314818"
      ]
     },
     "execution_count": 88,
     "metadata": {},
     "output_type": "execute_result"
    }
   ],
   "source": [
    "df_fantastic = table_prepare('df_film_fantastic.csv')\n",
    "df_fantastic.head()"
   ]
  },
  {
   "cell_type": "code",
   "execution_count": 89,
   "metadata": {},
   "outputs": [
    {
     "data": {
      "image/png": "[encoded data removed]",
      "text/plain": [
       "<matplotlib.figure.Figure at 0x1396abd68>"
      ]
     },
     "metadata": {},
     "output_type": "display_data"
    }
   ],
   "source": [
    "negative_plot(df_fantastic)"
   ]
  },
  {
   "cell_type": "code",
   "execution_count": 129,
   "metadata": {},
   "outputs": [
    {
     "data": {
      "text/plain": [
       "'Фантастические твари и места их обитания. \\nКак я ржу, боже, спасибо 😂😂 https://t.co/k2HYKW1Aln'"
      ]
     },
     "execution_count": 129,
     "metadata": {},
     "output_type": "execute_result"
    }
   ],
   "source": [
    "# пример позитива\n",
    "df_fantastic[df_fantastic.prob > 0.9].Tweets.iloc[0]"
   ]
  },
  {
   "cell_type": "code",
   "execution_count": 130,
   "metadata": {},
   "outputs": [
    {
     "data": {
      "text/plain": [
       "'@odnostrochniki “Фантастические твари, и как же они сука заебали”'"
      ]
     },
     "execution_count": 130,
     "metadata": {},
     "output_type": "execute_result"
    }
   ],
   "source": [
    "# пример негатива\n",
    "df_fantastic[df_fantastic.prob < 0.1].Tweets.iloc[0]"
   ]
  },
  {
   "cell_type": "markdown",
   "metadata": {},
   "source": [
    "## 2.2 Что люди пишут в твиттере о банках?"
   ]
  },
  {
   "cell_type": "code",
   "execution_count": 90,
   "metadata": {},
   "outputs": [
    {
     "name": "stdout",
     "output_type": "stream",
     "text": [
      "Размер таблицы:  (6980, 3)\n"
     ]
    },
    {
     "data": {
      "text/html": [
       "<div>\n",
       "<style scoped>\n",
       "    .dataframe tbody tr th:only-of-type {\n",
       "        vertical-align: middle;\n",
       "    }\n",
       "\n",
       "    .dataframe tbody tr th {\n",
       "        vertical-align: top;\n",
       "    }\n",
       "\n",
       "    .dataframe thead th {\n",
       "        text-align: right;\n",
       "    }\n",
       "</style>\n",
       "<table border=\"1\" class=\"dataframe\">\n",
       "  <thead>\n",
       "    <tr style=\"text-align: right;\">\n",
       "      <th></th>\n",
       "      <th>Date</th>\n",
       "      <th>Tweets</th>\n",
       "      <th>prob</th>\n",
       "    </tr>\n",
       "  </thead>\n",
       "  <tbody>\n",
       "    <tr>\n",
       "      <th>0</th>\n",
       "      <td>27 Nov 2018</td>\n",
       "      <td>Сбербанк прокомментировал сообщения о блокиров...</td>\n",
       "      <td>0.690241</td>\n",
       "    </tr>\n",
       "    <tr>\n",
       "      <th>1</th>\n",
       "      <td>27 Nov 2018</td>\n",
       "      <td>Сбербанк уведомил Еврокомиссию об утечке персо...</td>\n",
       "      <td>0.820485</td>\n",
       "    </tr>\n",
       "    <tr>\n",
       "      <th>2</th>\n",
       "      <td>27 Nov 2018</td>\n",
       "      <td>RT @bloginmydreams: Сбербанк - рабовладелец му...</td>\n",
       "      <td>0.899656</td>\n",
       "    </tr>\n",
       "    <tr>\n",
       "      <th>3</th>\n",
       "      <td>27 Nov 2018</td>\n",
       "      <td>RT @bloginmydreams: Сбербанк - рабовладелец му...</td>\n",
       "      <td>0.899656</td>\n",
       "    </tr>\n",
       "    <tr>\n",
       "      <th>4</th>\n",
       "      <td>27 Nov 2018</td>\n",
       "      <td>бля читал \"север против юга(Жюль Верн)\",про гр...</td>\n",
       "      <td>0.445979</td>\n",
       "    </tr>\n",
       "  </tbody>\n",
       "</table>\n",
       "</div>"
      ],
      "text/plain": [
       "          Date                                             Tweets      prob\n",
       "0  27 Nov 2018  Сбербанк прокомментировал сообщения о блокиров...  0.690241\n",
       "1  27 Nov 2018  Сбербанк уведомил Еврокомиссию об утечке персо...  0.820485\n",
       "2  27 Nov 2018  RT @bloginmydreams: Сбербанк - рабовладелец му...  0.899656\n",
       "3  27 Nov 2018  RT @bloginmydreams: Сбербанк - рабовладелец му...  0.899656\n",
       "4  27 Nov 2018  бля читал \"север против юга(Жюль Верн)\",про гр...  0.445979"
      ]
     },
     "execution_count": 90,
     "metadata": {},
     "output_type": "execute_result"
    }
   ],
   "source": [
    "df_sber = table_prepare('df_sber.csv')\n",
    "df_sber.head()"
   ]
  },
  {
   "cell_type": "code",
   "execution_count": 91,
   "metadata": {},
   "outputs": [
    {
     "data": {
      "image/png": "[encoded data removed]",
      "text/plain": [
       "<matplotlib.figure.Figure at 0x1319ba940>"
      ]
     },
     "metadata": {},
     "output_type": "display_data"
    }
   ],
   "source": [
    "negative_plot(df_sber)"
   ]
  },
  {
   "cell_type": "code",
   "execution_count": 94,
   "metadata": {},
   "outputs": [
    {
     "name": "stdout",
     "output_type": "stream",
     "text": [
      "Размер таблицы:  (2637, 3)\n"
     ]
    },
    {
     "data": {
      "text/html": [
       "<div>\n",
       "<style scoped>\n",
       "    .dataframe tbody tr th:only-of-type {\n",
       "        vertical-align: middle;\n",
       "    }\n",
       "\n",
       "    .dataframe tbody tr th {\n",
       "        vertical-align: top;\n",
       "    }\n",
       "\n",
       "    .dataframe thead th {\n",
       "        text-align: right;\n",
       "    }\n",
       "</style>\n",
       "<table border=\"1\" class=\"dataframe\">\n",
       "  <thead>\n",
       "    <tr style=\"text-align: right;\">\n",
       "      <th></th>\n",
       "      <th>Date</th>\n",
       "      <th>Tweets</th>\n",
       "      <th>prob</th>\n",
       "    </tr>\n",
       "  </thead>\n",
       "  <tbody>\n",
       "    <tr>\n",
       "      <th>0</th>\n",
       "      <td>27 Nov 2018</td>\n",
       "      <td>RT @ru_thebell: Лучшими мобильными приложениям...</td>\n",
       "      <td>0.902840</td>\n",
       "    </tr>\n",
       "    <tr>\n",
       "      <th>1</th>\n",
       "      <td>27 Nov 2018</td>\n",
       "      <td>хочу помочь финансово хоть как-то но тинькофф ...</td>\n",
       "      <td>0.310151</td>\n",
       "    </tr>\n",
       "    <tr>\n",
       "      <th>2</th>\n",
       "      <td>27 Nov 2018</td>\n",
       "      <td>RT @_U_R_I_c: Догадайтесь, у кого все хорошо?\\...</td>\n",
       "      <td>0.898706</td>\n",
       "    </tr>\n",
       "    <tr>\n",
       "      <th>3</th>\n",
       "      <td>27 Nov 2018</td>\n",
       "      <td>Подравнять шмоньку в Бест Клиник можно было за...</td>\n",
       "      <td>0.849772</td>\n",
       "    </tr>\n",
       "    <tr>\n",
       "      <th>4</th>\n",
       "      <td>27 Nov 2018</td>\n",
       "      <td>@n_fonok @yoshkinkrot Враньё. Тинькофф и Сбер ...</td>\n",
       "      <td>0.603183</td>\n",
       "    </tr>\n",
       "  </tbody>\n",
       "</table>\n",
       "</div>"
      ],
      "text/plain": [
       "          Date                                             Tweets      prob\n",
       "0  27 Nov 2018  RT @ru_thebell: Лучшими мобильными приложениям...  0.902840\n",
       "1  27 Nov 2018  хочу помочь финансово хоть как-то но тинькофф ...  0.310151\n",
       "2  27 Nov 2018  RT @_U_R_I_c: Догадайтесь, у кого все хорошо?\\...  0.898706\n",
       "3  27 Nov 2018  Подравнять шмоньку в Бест Клиник можно было за...  0.849772\n",
       "4  27 Nov 2018  @n_fonok @yoshkinkrot Враньё. Тинькофф и Сбер ...  0.603183"
      ]
     },
     "execution_count": 94,
     "metadata": {},
     "output_type": "execute_result"
    }
   ],
   "source": [
    "df_tinkoff = table_prepare('df_tinkoff.csv')\n",
    "df_tinkoff.head()"
   ]
  },
  {
   "cell_type": "code",
   "execution_count": 95,
   "metadata": {},
   "outputs": [
    {
     "data": {
      "image/png": "[encoded data removed]",
      "text/plain": [
       "<matplotlib.figure.Figure at 0x1352e0748>"
      ]
     },
     "metadata": {},
     "output_type": "display_data"
    }
   ],
   "source": [
    "negative_plot(df_tinkoff)"
   ]
  },
  {
   "cell_type": "markdown",
   "metadata": {},
   "source": [
    "## 2.3 Что люди думают о рэпе?"
   ]
  },
  {
   "cell_type": "code",
   "execution_count": 96,
   "metadata": {},
   "outputs": [
    {
     "name": "stdout",
     "output_type": "stream",
     "text": [
      "Размер таблицы:  (8142, 3)\n"
     ]
    },
    {
     "data": {
      "text/html": [
       "<div>\n",
       "<style scoped>\n",
       "    .dataframe tbody tr th:only-of-type {\n",
       "        vertical-align: middle;\n",
       "    }\n",
       "\n",
       "    .dataframe tbody tr th {\n",
       "        vertical-align: top;\n",
       "    }\n",
       "\n",
       "    .dataframe thead th {\n",
       "        text-align: right;\n",
       "    }\n",
       "</style>\n",
       "<table border=\"1\" class=\"dataframe\">\n",
       "  <thead>\n",
       "    <tr style=\"text-align: right;\">\n",
       "      <th></th>\n",
       "      <th>Date</th>\n",
       "      <th>Tweets</th>\n",
       "      <th>prob</th>\n",
       "    </tr>\n",
       "  </thead>\n",
       "  <tbody>\n",
       "    <tr>\n",
       "      <th>0</th>\n",
       "      <td>26 Nov 2018</td>\n",
       "      <td>Oxxxymiron / Баста / Noize MC. Мы будем целико...</td>\n",
       "      <td>0.940015</td>\n",
       "    </tr>\n",
       "    <tr>\n",
       "      <th>1</th>\n",
       "      <td>26 Nov 2018</td>\n",
       "      <td>#ябудупетьсвоюмузыку\\nААААА Баста, Нойз и Окси...</td>\n",
       "      <td>0.803054</td>\n",
       "    </tr>\n",
       "    <tr>\n",
       "      <th>2</th>\n",
       "      <td>24 Nov 2018</td>\n",
       "      <td>Я БУДУ ПЕТЬ СВОЮ МУЗЫКУ: \\nБаста, Oxxxymiron, ...</td>\n",
       "      <td>0.745014</td>\n",
       "    </tr>\n",
       "    <tr>\n",
       "      <th>3</th>\n",
       "      <td>27 Nov 2018</td>\n",
       "      <td>Мне понравилось видео \"Баста feat. Noize MC и ...</td>\n",
       "      <td>0.788779</td>\n",
       "    </tr>\n",
       "    <tr>\n",
       "      <th>4</th>\n",
       "      <td>27 Nov 2018</td>\n",
       "      <td>RT @norimyxxxo: Я БУДУ ПЕТЬ СВОЮ МУЗЫКУ: \\nБас...</td>\n",
       "      <td>0.677200</td>\n",
       "    </tr>\n",
       "  </tbody>\n",
       "</table>\n",
       "</div>"
      ],
      "text/plain": [
       "          Date                                             Tweets      prob\n",
       "0  26 Nov 2018  Oxxxymiron / Баста / Noize MC. Мы будем целико...  0.940015\n",
       "1  26 Nov 2018  #ябудупетьсвоюмузыку\\nААААА Баста, Нойз и Окси...  0.803054\n",
       "2  24 Nov 2018  Я БУДУ ПЕТЬ СВОЮ МУЗЫКУ: \\nБаста, Oxxxymiron, ...  0.745014\n",
       "3  27 Nov 2018  Мне понравилось видео \"Баста feat. Noize MC и ...  0.788779\n",
       "4  27 Nov 2018  RT @norimyxxxo: Я БУДУ ПЕТЬ СВОЮ МУЗЫКУ: \\nБас...  0.677200"
      ]
     },
     "execution_count": 96,
     "metadata": {},
     "output_type": "execute_result"
    }
   ],
   "source": [
    "df_basta = table_prepare('df_basta.csv')\n",
    "df_basta.head()"
   ]
  },
  {
   "cell_type": "code",
   "execution_count": 97,
   "metadata": {},
   "outputs": [
    {
     "data": {
      "image/png": "[encoded data removed]",
      "text/plain": [
       "<matplotlib.figure.Figure at 0x138b5c7f0>"
      ]
     },
     "metadata": {},
     "output_type": "display_data"
    }
   ],
   "source": [
    "negative_plot(df_basta)"
   ]
  },
  {
   "cell_type": "code",
   "execution_count": 98,
   "metadata": {},
   "outputs": [
    {
     "name": "stdout",
     "output_type": "stream",
     "text": [
      "Размер таблицы:  (6856, 3)\n"
     ]
    },
    {
     "data": {
      "text/html": [
       "<div>\n",
       "<style scoped>\n",
       "    .dataframe tbody tr th:only-of-type {\n",
       "        vertical-align: middle;\n",
       "    }\n",
       "\n",
       "    .dataframe tbody tr th {\n",
       "        vertical-align: top;\n",
       "    }\n",
       "\n",
       "    .dataframe thead th {\n",
       "        text-align: right;\n",
       "    }\n",
       "</style>\n",
       "<table border=\"1\" class=\"dataframe\">\n",
       "  <thead>\n",
       "    <tr style=\"text-align: right;\">\n",
       "      <th></th>\n",
       "      <th>Date</th>\n",
       "      <th>Tweets</th>\n",
       "      <th>prob</th>\n",
       "    </tr>\n",
       "  </thead>\n",
       "  <tbody>\n",
       "    <tr>\n",
       "      <th>0</th>\n",
       "      <td>26 Nov 2018</td>\n",
       "      <td>Oxxxymiron / Баста / Noize MC. Мы будем целико...</td>\n",
       "      <td>0.940015</td>\n",
       "    </tr>\n",
       "    <tr>\n",
       "      <th>1</th>\n",
       "      <td>24 Nov 2018</td>\n",
       "      <td>Я БУДУ ПЕТЬ СВОЮ МУЗЫКУ: \\nБаста, Oxxxymiron, ...</td>\n",
       "      <td>0.745014</td>\n",
       "    </tr>\n",
       "    <tr>\n",
       "      <th>2</th>\n",
       "      <td>24 Nov 2018</td>\n",
       "      <td>Оксимирон, Баста и Noize MC проведут концерт в...</td>\n",
       "      <td>0.914421</td>\n",
       "    </tr>\n",
       "    <tr>\n",
       "      <th>3</th>\n",
       "      <td>27 Nov 2018</td>\n",
       "      <td>RT @KoleNikita: Чтобы вы понимали!\\n\\nНа одной...</td>\n",
       "      <td>0.443647</td>\n",
       "    </tr>\n",
       "    <tr>\n",
       "      <th>4</th>\n",
       "      <td>27 Nov 2018</td>\n",
       "      <td>Музыка WG Fest 2018: Sabaton, «Звери» и Noize ...</td>\n",
       "      <td>0.924838</td>\n",
       "    </tr>\n",
       "  </tbody>\n",
       "</table>\n",
       "</div>"
      ],
      "text/plain": [
       "          Date                                             Tweets      prob\n",
       "0  26 Nov 2018  Oxxxymiron / Баста / Noize MC. Мы будем целико...  0.940015\n",
       "1  24 Nov 2018  Я БУДУ ПЕТЬ СВОЮ МУЗЫКУ: \\nБаста, Oxxxymiron, ...  0.745014\n",
       "2  24 Nov 2018  Оксимирон, Баста и Noize MC проведут концерт в...  0.914421\n",
       "3  27 Nov 2018  RT @KoleNikita: Чтобы вы понимали!\\n\\nНа одной...  0.443647\n",
       "4  27 Nov 2018  Музыка WG Fest 2018: Sabaton, «Звери» и Noize ...  0.924838"
      ]
     },
     "execution_count": 98,
     "metadata": {},
     "output_type": "execute_result"
    }
   ],
   "source": [
    "df_noize = table_prepare('df_noize.csv')\n",
    "df_noize.head()"
   ]
  },
  {
   "cell_type": "code",
   "execution_count": 99,
   "metadata": {},
   "outputs": [
    {
     "data": {
      "image/png": "[encoded data removed]",
      "text/plain": [
       "<matplotlib.figure.Figure at 0x130392390>"
      ]
     },
     "metadata": {},
     "output_type": "display_data"
    }
   ],
   "source": [
    "negative_plot(df_noize)"
   ]
  },
  {
   "cell_type": "code",
   "execution_count": 100,
   "metadata": {},
   "outputs": [
    {
     "name": "stdout",
     "output_type": "stream",
     "text": [
      "Размер таблицы:  (5379, 3)\n"
     ]
    },
    {
     "data": {
      "text/html": [
       "<div>\n",
       "<style scoped>\n",
       "    .dataframe tbody tr th:only-of-type {\n",
       "        vertical-align: middle;\n",
       "    }\n",
       "\n",
       "    .dataframe tbody tr th {\n",
       "        vertical-align: top;\n",
       "    }\n",
       "\n",
       "    .dataframe thead th {\n",
       "        text-align: right;\n",
       "    }\n",
       "</style>\n",
       "<table border=\"1\" class=\"dataframe\">\n",
       "  <thead>\n",
       "    <tr style=\"text-align: right;\">\n",
       "      <th></th>\n",
       "      <th>Date</th>\n",
       "      <th>Tweets</th>\n",
       "      <th>prob</th>\n",
       "    </tr>\n",
       "  </thead>\n",
       "  <tbody>\n",
       "    <tr>\n",
       "      <th>0</th>\n",
       "      <td>26 Nov 2018</td>\n",
       "      <td>Oxxxymiron / Баста / Noize MC. Мы будем целико...</td>\n",
       "      <td>0.940015</td>\n",
       "    </tr>\n",
       "    <tr>\n",
       "      <th>1</th>\n",
       "      <td>24 Nov 2018</td>\n",
       "      <td>Я БУДУ ПЕТЬ СВОЮ МУЗЫКУ: \\nБаста, Oxxxymiron, ...</td>\n",
       "      <td>0.745014</td>\n",
       "    </tr>\n",
       "    <tr>\n",
       "      <th>2</th>\n",
       "      <td>24 Nov 2018</td>\n",
       "      <td>#ябудупетьсвоюмузыку\\nКупил два билета на конц...</td>\n",
       "      <td>0.905536</td>\n",
       "    </tr>\n",
       "    <tr>\n",
       "      <th>3</th>\n",
       "      <td>27 Nov 2018</td>\n",
       "      <td>Мне понравилось видео \"Баста feat. Noize MC и ...</td>\n",
       "      <td>0.788779</td>\n",
       "    </tr>\n",
       "    <tr>\n",
       "      <th>4</th>\n",
       "      <td>27 Nov 2018</td>\n",
       "      <td>RT @norimyxxxo: Я БУДУ ПЕТЬ СВОЮ МУЗЫКУ: \\nБас...</td>\n",
       "      <td>0.677200</td>\n",
       "    </tr>\n",
       "  </tbody>\n",
       "</table>\n",
       "</div>"
      ],
      "text/plain": [
       "          Date                                             Tweets      prob\n",
       "0  26 Nov 2018  Oxxxymiron / Баста / Noize MC. Мы будем целико...  0.940015\n",
       "1  24 Nov 2018  Я БУДУ ПЕТЬ СВОЮ МУЗЫКУ: \\nБаста, Oxxxymiron, ...  0.745014\n",
       "2  24 Nov 2018  #ябудупетьсвоюмузыку\\nКупил два билета на конц...  0.905536\n",
       "3  27 Nov 2018  Мне понравилось видео \"Баста feat. Noize MC и ...  0.788779\n",
       "4  27 Nov 2018  RT @norimyxxxo: Я БУДУ ПЕТЬ СВОЮ МУЗЫКУ: \\nБас...  0.677200"
      ]
     },
     "execution_count": 100,
     "metadata": {},
     "output_type": "execute_result"
    }
   ],
   "source": [
    "df_oxxy = table_prepare('df_oxxy.csv')\n",
    "df_oxxy.head()"
   ]
  },
  {
   "cell_type": "code",
   "execution_count": 101,
   "metadata": {},
   "outputs": [
    {
     "data": {
      "image/png": "[encoded data removed]",
      "text/plain": [
       "<matplotlib.figure.Figure at 0x138dcfb38>"
      ]
     },
     "metadata": {},
     "output_type": "display_data"
    }
   ],
   "source": [
    "negative_plot(df_oxxy)"
   ]
  },
  {
   "cell_type": "markdown",
   "metadata": {},
   "source": [
    "## 2.4 Ваши идеи"
   ]
  },
  {
   "cell_type": "markdown",
   "metadata": {},
   "source": []
  },
  {
   "cell_type": "code",
   "execution_count": null,
   "metadata": {},
   "outputs": [],
   "source": [
    "df_you = table_prepare(' ')\n",
    "df_you.head()"
   ]
  },
  {
   "cell_type": "code",
   "execution_count": null,
   "metadata": {},
   "outputs": [],
   "source": [
    "negative_plot(df_you)"
   ]
  },
  {
   "cell_type": "markdown",
   "metadata": {},
   "source": []
  },
  {
   "cell_type": "code",
   "execution_count": null,
   "metadata": {},
   "outputs": [],
   "source": [
    "df_you = table_prepare(' ')\n",
    "df_you.head()"
   ]
  },
  {
   "cell_type": "code",
   "execution_count": null,
   "metadata": {},
   "outputs": [],
   "source": [
    "negative_plot(df_you)"
   ]
  },
  {
   "cell_type": "markdown",
   "metadata": {},
   "source": [
    "# 3 Применяем модель к новостным заголовкам\n",
    "\n",
    "Давайте возьмём поток новостей за 2017 год и пройдёмся по его заголовкам нашим классификатором негатива и позитива. Интересно было бы узнать, что из себя представляют СМИ. На самом деле так делать нечестно, потому что мы учили нашу сетку на совершенно другой вид контента. Но ради интереса можно попробовать.\n",
    "\n",
    "Выборка новостей собрана с сайта Тасс лично мной :) "
   ]
  },
  {
   "cell_type": "code",
   "execution_count": 133,
   "metadata": {},
   "outputs": [],
   "source": [
    "import pickle\n",
    "with open('tass_news_2017.pickle', 'rb') as f:\n",
    "     tass_news = pickle.load(f)"
   ]
  },
  {
   "cell_type": "code",
   "execution_count": 134,
   "metadata": {},
   "outputs": [
    {
     "data": {
      "text/plain": [
       "{'category': 'Спорт',\n",
       " 'date': '2017-11-22 10:01:52',\n",
       " 'href': '/sport/4748419',\n",
       " 'text': 'тасс 22 ноябрь тасс международный олимпийский комитет мокнуть несправедливый наказать шестеро российский лыжник пожизненный отстранение олимпиада подозрение нарушение антидопинговый правило игра 2014 год сочи такой мнение высказать врач расмуса дамсгаард сотрудничать международный федерация лыжный спорт fis слово который приводить газета aftenposten ноябрь мокнуть пожизненно отстранить александр легкова евгений белов максим вылегжанин алексей петухов юлий иванов евгений шаповалов участие олимпиада аннулировать результат показать игра 2014 сочи нарушение антидопинговый правило допинг проба спортсмен найти запретить субстанция основание дисквалификация послужить царапина пробирка анализ лыжник олимпиада сочи однако отстранение спортсмен распространяться соревнование эгида fis организация принять отдельный решение дело россиянин поздний это грустно спортсмен отстранить быть виновный сказать дамсгаард видеть никакой конкретный доказательство вина российский лыжник это волновать менее утверждаться равно какой доказательство также эксперт подвергнуть критика доклад независимый комиссия всемирный антидопинговый агентство wada руководство ричард макларен допинг российский спорт выход доклад макларен стать печальный днём антидопинговый работа сказать дамсгаард содержание отсутствие доказательство увидеть свой имя такой отчёт хотеть получить факт говорить россиянин нарушать видеть поцарапать пробирка должный следовать основный принцип право человек кроме дамсгаард обратить внимание чрезмерный давление который оказываться российский спорт весь мир против россия антидопинговый работа вестись неправильный направление wada приостановить аккредитация кенийский антидопинговый агентство никто оказывать давление кенийский спортсмен побеждать соревнование весь мир сосредоточить россия это ребячество июль 2016 год мокнуть создать два комиссия который изучать дать расследование комиссия макларен один заниматься перепроверка допинг проба участник игра 2014 возглавлять денис освальд два специальный комиссия мокнуть руководство самуэль шмид расследовать причастность сотрудник министерство спорт рф возможный сокрытие допинговый нарушение российский спортсмен именно итог решение дать комиссия вынести вердикт относительно участие сборный россия зимний олимпийский игра 2018 год',\n",
       " 'title': 'эксперт пожизненный отстранение российский лыжник олимпиада несправедливый',\n",
       " 'uci_time': 1511334112}"
      ]
     },
     "execution_count": 134,
     "metadata": {},
     "output_type": "execute_result"
    }
   ],
   "source": [
    "tass_news[0]"
   ]
  },
  {
   "cell_type": "markdown",
   "metadata": {},
   "source": [
    "Вытащим даты и заголовки."
   ]
  },
  {
   "cell_type": "code",
   "execution_count": 137,
   "metadata": {},
   "outputs": [
    {
     "data": {
      "text/plain": [
       "112445"
      ]
     },
     "execution_count": 137,
     "metadata": {},
     "output_type": "execute_result"
    }
   ],
   "source": [
    "titles = [news['title'] for news in tass_news]\n",
    "dates = [news['date'].split(' ')[0] for news in tass_news]\n",
    "len(titles)"
   ]
  },
  {
   "cell_type": "markdown",
   "metadata": {},
   "source": [
    "Провернём над ними ровно тот же процесс предобработки, что и раньше."
   ]
  },
  {
   "cell_type": "code",
   "execution_count": 140,
   "metadata": {},
   "outputs": [
    {
     "name": "stdout",
     "output_type": "stream",
     "text": [
      "Размер таблицы:  (110726, 3)\n"
     ]
    },
    {
     "data": {
      "text/html": [
       "<div>\n",
       "<style scoped>\n",
       "    .dataframe tbody tr th:only-of-type {\n",
       "        vertical-align: middle;\n",
       "    }\n",
       "\n",
       "    .dataframe tbody tr th {\n",
       "        vertical-align: top;\n",
       "    }\n",
       "\n",
       "    .dataframe thead th {\n",
       "        text-align: right;\n",
       "    }\n",
       "</style>\n",
       "<table border=\"1\" class=\"dataframe\">\n",
       "  <thead>\n",
       "    <tr style=\"text-align: right;\">\n",
       "      <th></th>\n",
       "      <th>Date</th>\n",
       "      <th>Titles</th>\n",
       "      <th>prepareTitles</th>\n",
       "    </tr>\n",
       "  </thead>\n",
       "  <tbody>\n",
       "    <tr>\n",
       "      <th>0</th>\n",
       "      <td>2017-11-22</td>\n",
       "      <td>эксперт пожизненный отстранение российский лыж...</td>\n",
       "      <td>[18654, 904, 20027, 23062, 14768, 13068]</td>\n",
       "    </tr>\n",
       "    <tr>\n",
       "      <th>1</th>\n",
       "      <td>2017-03-31</td>\n",
       "      <td>источник володин направить половина свой доход...</td>\n",
       "      <td>[3438, 17283, 21171, 21393, 764, 23898, 15695,...</td>\n",
       "    </tr>\n",
       "    <tr>\n",
       "      <th>2</th>\n",
       "      <td>2017-07-17</td>\n",
       "      <td>лондонский страховщик оценить потенциальный ущ...</td>\n",
       "      <td>[23322, 24906, 18743, 18927, 2419]</td>\n",
       "    </tr>\n",
       "    <tr>\n",
       "      <th>3</th>\n",
       "      <td>2017-03-13</td>\n",
       "      <td>россиянин 2016 год оплатить карта товар услуга...</td>\n",
       "      <td>[5103, 15695, 15956, 16551, 310, 12568, 7593, ...</td>\n",
       "    </tr>\n",
       "    <tr>\n",
       "      <th>4</th>\n",
       "      <td>2017-11-13</td>\n",
       "      <td>комитет госдума одобрить увеличение финансиров...</td>\n",
       "      <td>[6066, 16954, 12330, 12632, 9356, 4775, 13530,...</td>\n",
       "    </tr>\n",
       "  </tbody>\n",
       "</table>\n",
       "</div>"
      ],
      "text/plain": [
       "         Date                                             Titles  \\\n",
       "0  2017-11-22  эксперт пожизненный отстранение российский лыж...   \n",
       "1  2017-03-31  источник володин направить половина свой доход...   \n",
       "2  2017-07-17  лондонский страховщик оценить потенциальный ущ...   \n",
       "3  2017-03-13  россиянин 2016 год оплатить карта товар услуга...   \n",
       "4  2017-11-13  комитет госдума одобрить увеличение финансиров...   \n",
       "\n",
       "                                       prepareTitles  \n",
       "0           [18654, 904, 20027, 23062, 14768, 13068]  \n",
       "1  [3438, 17283, 21171, 21393, 764, 23898, 15695,...  \n",
       "2                 [23322, 24906, 18743, 18927, 2419]  \n",
       "3  [5103, 15695, 15956, 16551, 310, 12568, 7593, ...  \n",
       "4  [6066, 16954, 12330, 12632, 9356, 4775, 13530,...  "
      ]
     },
     "execution_count": 140,
     "metadata": {},
     "output_type": "execute_result"
    }
   ],
   "source": [
    "df = pd.DataFrame( )\n",
    "df['Date'] = dates\n",
    "df['Titles'] = titles\n",
    "\n",
    "# по очереди применяем все предобрабатывающие функции\n",
    "df['prepareTitles'] = df.Titles.apply(prepare_text).apply(freq_filter)\n",
    "\n",
    "# Выбрасываем все титулы короче 3-х слов.\n",
    "df = df[df.prepareTitles.apply(len) > 2]\n",
    "\n",
    "print(\"Размер таблицы: \", df.shape)\n",
    "df.head()"
   ]
  },
  {
   "cell_type": "code",
   "execution_count": 141,
   "metadata": {},
   "outputs": [],
   "source": [
    "# финальная предобработка (добавление нулей)\n",
    "X = sequence.pad_sequences(df.prepareTitles.values, maxlen=max_twitter_length)\n",
    "\n",
    "# предсказываем вероятность\n",
    "prob = model.predict_proba(X)\n",
    "df['prob'] = prob"
   ]
  },
  {
   "cell_type": "code",
   "execution_count": 142,
   "metadata": {
    "scrolled": false
   },
   "outputs": [
    {
     "data": {
      "image/png": "[encoded data removed]",
      "text/plain": [
       "<matplotlib.figure.Figure at 0x14980ee10>"
      ]
     },
     "metadata": {},
     "output_type": "display_data"
    }
   ],
   "source": [
    "negative_plot(df)"
   ]
  },
  {
   "cell_type": "code",
   "execution_count": 159,
   "metadata": {},
   "outputs": [
    {
     "data": {
      "text/plain": [
       "'депутат госдума представитель европа пора посетить крым говорить препятствие'"
      ]
     },
     "execution_count": 159,
     "metadata": {},
     "output_type": "execute_result"
    }
   ],
   "source": [
    "df[df['prob'] > 0.95].Titles.iloc[0]"
   ]
  },
  {
   "cell_type": "code",
   "execution_count": 158,
   "metadata": {},
   "outputs": [
    {
     "data": {
      "text/plain": [
       "'сми йемен 35 человек погибнуть результат удар ввс аравийский коалиция'"
      ]
     },
     "execution_count": 158,
     "metadata": {},
     "output_type": "execute_result"
    }
   ],
   "source": [
    "df[df['prob'] < 0.1].Titles.iloc[0]"
   ]
  },
  {
   "cell_type": "markdown",
   "metadata": {},
   "source": [
    "## Дополнительное чтиво: \n",
    "\n",
    "* [Статья про LSTM и звёздные войны.](https://habr.com/company/dca/blog/274027/) Пацаны сделали то же самое, что и мы, и их опубликовали в Известиях. А нас нет. Хочу, чтобы меня опубликовали в какой-нибудь крутой газете. Если вы журналист и хотите опубликовать меня, напишите мне. Да. \n",
    "\n",
    "* [Статья с хабра про w2v.](https://habr.com/company/ods/blog/329410/) Там есть пример работы с переходами по сайтам, по аналогии можно работать с транзакциями. \n",
    "\n",
    "* [Очень большой и неструктурированный код с рисёрчем по новостям с ленты.](https://github.com/Myonin/silentio.su/blob/master/topic_model_texts_lenta_ru.ipynb)\n"
   ]
  }
 ],
 "metadata": {
  "kernelspec": {
   "display_name": "Python 3",
   "language": "python",
   "name": "python3"
  },
  "language_info": {
   "codemirror_mode": {
    "name": "ipython",
    "version": 3
   },
   "file_extension": ".py",
   "mimetype": "text/x-python",
   "name": "python",
   "nbconvert_exporter": "python",
   "pygments_lexer": "ipython3",
   "version": "3.6.4"
  }
 },
 "nbformat": 4,
 "nbformat_minor": 2
}
