{
 "cells": [
  {
   "cell_type": "markdown",
   "metadata": {},
   "source": [
    "# ELMO - задание\n",
    "\n",
    "В этой части домашки мы немного попробуем поиграться с эмбедингами, обученными на твиттере. Будте аккуратны! Мы в какой-то степени будем сейчас насиловать оперативную память компьютера. Иногда ядро может умирать. Если оно постоянно умирает, это весомый повод не делать это задание.  "
   ]
  },
  {
   "cell_type": "markdown",
   "metadata": {},
   "source": [
    "# 1. Твиттер\n",
    "\n",
    "[План будет прост](https://www.youtube.com/watch?v=gmaDsK2Ehzc) потому и красив. Если план сложен, всё может пойти наперекосяк.\n",
    "\n",
    "* Заберём у IPavlov [ELMO-эмбединги для твиттера](http://docs.deeppavlov.ai/en/master/intro/pretrained_vectors.html) с помощью tensorflow hub\n",
    "* Немного посмотрим на их свойства"
   ]
  },
  {
   "cell_type": "markdown",
   "metadata": {},
   "source": [
    "Подгружаем нашу выборку. "
   ]
  },
  {
   "cell_type": "code",
   "execution_count": null,
   "metadata": {},
   "outputs": [],
   "source": [
    "import pandas as pd  # для таблиц\n",
    "import numpy as np   # для матриц\n",
    "\n",
    "# визуализация \n",
    "import matplotlib.pyplot as plt\n",
    "import seaborn as sns\n",
    "plt.style.use('ggplot')\n",
    "%matplotlib inline\n",
    "\n",
    "# Подгружаем данные из твиттера\n",
    "df_neg = pd.read_csv('negative.csv', sep=';',header=-1)\n",
    "df_pos = pd.read_csv('positive.csv', sep=';',header=-1)\n",
    "\n",
    "df = df_pos[[3,4]].append(df_neg[[3,4]])\n",
    "df.columns = ['text', 'target']\n",
    "df.reset_index(drop=True, inplace=True)\n",
    "df.target = df.target.replace({-1:0})\n",
    "\n",
    "# Выбрасываем из обучения все посты короче 3-х слов.\n",
    "df = df[df.text.apply(lambda text: len(text.split())) > 2] \n",
    "\n",
    "print(df.shape)\n",
    "df.head()"
   ]
  },
  {
   "cell_type": "code",
   "execution_count": null,
   "metadata": {},
   "outputs": [],
   "source": [
    "df.text.iloc[10]  # пример позитива"
   ]
  },
  {
   "cell_type": "code",
   "execution_count": null,
   "metadata": {},
   "outputs": [],
   "source": [
    "df.text.iloc[-10] # пример негатива"
   ]
  },
  {
   "cell_type": "markdown",
   "metadata": {},
   "source": [
    "Заниматься чисткой текстов не будем. Судя по всему, эмбединги обучались на грязном корпусе текстов. Это довольно сильно упрощает нашу задачу."
   ]
  },
  {
   "cell_type": "code",
   "execution_count": null,
   "metadata": {},
   "outputs": [],
   "source": [
    "X = df.text.get_values()\n",
    "y = df.target.get_values()\n",
    "\n",
    "X[0]"
   ]
  },
  {
   "cell_type": "markdown",
   "metadata": {},
   "source": [
    "Библиотеки."
   ]
  },
  {
   "cell_type": "code",
   "execution_count": null,
   "metadata": {},
   "outputs": [],
   "source": [
    "import tensorflow as tf\n",
    "import tensorflow_hub as hub\n",
    "\n",
    "print(tf.__version__)"
   ]
  },
  {
   "cell_type": "markdown",
   "metadata": {},
   "source": [
    "Забираем с помощью хаба у IPavlov модель.\n",
    "\n",
    "Обратите внимание, что нужна версия tensorflow выше 9. Нормально повышает версию tf до актуальной для python3 в случае проблем следущая команда, вбитая в терминал: \n",
    "\n",
    "```python3 -m pip install --upgrade https://storage.googleapis.com/tensorflow/mac/cpu/tensorflow-1.12.0-py3-none-any.whl```\n"
   ]
  },
  {
   "cell_type": "code",
   "execution_count": null,
   "metadata": {},
   "outputs": [],
   "source": [
    "# Ваш код "
   ]
  },
  {
   "cell_type": "markdown",
   "metadata": {},
   "source": [
    "Если у вас выскакивает ошибка \n",
    "\n",
    "```\n",
    "RuntimeError: Missing implementation that supports: \n",
    "loader(*('C:\\\\Users\\\\Alber\\\\AppData\\\\Local\\\\Temp\\\\tfhub_modules\\\\a7fe827a4e68369aab0fa6a65479cd37c499e0f4',), **{})\n",
    "```\n",
    "\n",
    "прочтите [трэд](https://github.com/tensorflow/hub/issues/212) с её решением.\n",
    "\n",
    "Проверяем работоспособность эмбедингов:"
   ]
  },
  {
   "cell_type": "code",
   "execution_count": null,
   "metadata": {},
   "outputs": [],
   "source": [
    "sess = tf.Session()\n",
    "sess.run(tf.global_variables_initializer())\n",
    "\n",
    "embeddings = elmo([X[0]], signature=\"default\", as_dict=True)[\"elmo\"]\n",
    "emb = sess.run(embeddings)"
   ]
  },
  {
   "cell_type": "code",
   "execution_count": null,
   "metadata": {},
   "outputs": [],
   "source": [
    "print(X[0])\n",
    "emb.shape"
   ]
  },
  {
   "cell_type": "markdown",
   "metadata": {},
   "source": [
    "Всё работает. На выходе у нас получился тензор, в котором 12 слов и для каждого есть вектор из эмбедингов размера 1024.  Есть даже эмбединг для `:D`."
   ]
  },
  {
   "cell_type": "code",
   "execution_count": null,
   "metadata": {},
   "outputs": [],
   "source": [
    "X[0].split(' ')[12]"
   ]
  },
  {
   "cell_type": "code",
   "execution_count": null,
   "metadata": {},
   "outputs": [],
   "source": [
    "emb[0][12][:10]"
   ]
  },
  {
   "cell_type": "markdown",
   "metadata": {},
   "source": [
    "__Упражнение:__  Попробуйте найти несколько радостных и несколько грустных смайликов. Посмотрите какое расстояние между ними. Попробуйте применить к ним \"найди лишнее\". "
   ]
  },
  {
   "cell_type": "code",
   "execution_count": null,
   "metadata": {},
   "outputs": [],
   "source": [
    "# ваш код "
   ]
  },
  {
   "cell_type": "markdown",
   "metadata": {},
   "source": [
    "__Упражнение:__ Попробуйте отобрать из корпуска текстов только ники людей. Никам обычно предшествует символ `@`. Перегоните ники в эмбэдинги. Случайно отберите какие-нибудь другие слова из корпуса. Перегоните их в эмбединги. Попробуйте поанализировать какие именно координаты в векторах отвечают за \"никовость\" слова. "
   ]
  },
  {
   "cell_type": "code",
   "execution_count": null,
   "metadata": {},
   "outputs": [],
   "source": [
    "# ваш код "
   ]
  },
  {
   "cell_type": "markdown",
   "metadata": {},
   "source": [
    "Возьмите выбоку их ников и не ников, примените к ней TSNE или PCA. В зависимости от того что вы знаете. Оба алгоритма вшиты в склёрн. Изобразите полученные точки, подпишите их."
   ]
  },
  {
   "cell_type": "code",
   "execution_count": null,
   "metadata": {},
   "outputs": [],
   "source": [
    "# ваш код"
   ]
  },
  {
   "cell_type": "markdown",
   "metadata": {},
   "source": [
    "__Ваши мысли и выводы о никовости:__"
   ]
  }
 ],
 "metadata": {
  "kernelspec": {
   "display_name": "Python 3",
   "language": "python",
   "name": "python3"
  },
  "language_info": {
   "codemirror_mode": {
    "name": "ipython",
    "version": 3
   },
   "file_extension": ".py",
   "mimetype": "text/x-python",
   "name": "python",
   "nbconvert_exporter": "python",
   "pygments_lexer": "ipython3",
   "version": "3.7.2"
  }
 },
 "nbformat": 4,
 "nbformat_minor": 2
}
