{
 "cells": [
  {
   "cell_type": "markdown",
   "metadata": {},
   "source": [
    "# Семинар 1: введение в Tensorflow"
   ]
  },
  {
   "cell_type": "markdown",
   "metadata": {},
   "source": [
    "Фрэймворком для обучения нейросеток на нашем курсе будет Tensorflow. Чтобы установить библиотеку, отправляйтесь в консоль и пропишите \n",
    "\n",
    "```\n",
    "pip install tensorflow \n",
    "```\n",
    "\n",
    "Мы будем использовать вторую версию. Если вы до этого сидели на старой версии tensorflow, на всякий случай снесите её. Иначе при установке могут возникнуть какие-нибудь несовместимости и ошибки."
   ]
  },
  {
   "cell_type": "code",
   "execution_count": null,
   "metadata": {},
   "outputs": [],
   "source": [
    "!pip install tensorflow"
   ]
  },
  {
   "cell_type": "code",
   "execution_count": 1,
   "metadata": {},
   "outputs": [
    {
     "data": {
      "text/plain": [
       "'1.19.4'"
      ]
     },
     "execution_count": 1,
     "metadata": {},
     "output_type": "execute_result"
    }
   ],
   "source": [
    "import numpy as np\n",
    "np.__version__"
   ]
  },
  {
   "cell_type": "code",
   "execution_count": 2,
   "metadata": {},
   "outputs": [
    {
     "data": {
      "text/plain": [
       "'2.5.0'"
      ]
     },
     "execution_count": 2,
     "metadata": {},
     "output_type": "execute_result"
    }
   ],
   "source": [
    "import tensorflow as tf\n",
    "tf.__version__ "
   ]
  },
  {
   "cell_type": "markdown",
   "metadata": {},
   "source": [
    "# 0. Tensoflow teaser\n",
    "\n",
    "Давайте реализуем на `numpy` и на `tensorflow` функцию для поиска суммы квадратов первых $N$ чисел и посмотрим насколько быстро эти функции работают."
   ]
  },
  {
   "cell_type": "code",
   "execution_count": 3,
   "metadata": {},
   "outputs": [
    {
     "data": {
      "text/plain": [
       "285"
      ]
     },
     "execution_count": 3,
     "metadata": {},
     "output_type": "execute_result"
    }
   ],
   "source": [
    "np.sum(np.arange(10)**2)"
   ]
  },
  {
   "cell_type": "code",
   "execution_count": 4,
   "metadata": {},
   "outputs": [],
   "source": [
    "def np_sum_squares(N):\n",
    "    return np.sum(np.arange(N)**2)"
   ]
  },
  {
   "cell_type": "code",
   "execution_count": 5,
   "metadata": {},
   "outputs": [
    {
     "name": "stdout",
     "output_type": "stream",
     "text": [
      "1.23 s ± 29.4 ms per loop (mean ± std. dev. of 7 runs, 1 loop each)\n"
     ]
    }
   ],
   "source": [
    "%%timeit\n",
    "N = 10**8\n",
    "np_sum_squares(N)"
   ]
  },
  {
   "cell_type": "markdown",
   "metadata": {},
   "source": [
    "Tensorflow из-за того, что мы сначала задаём структуру вычислений, а после осуществляем их, работает быстрее."
   ]
  },
  {
   "cell_type": "code",
   "execution_count": 6,
   "metadata": {},
   "outputs": [],
   "source": [
    "def tf_sum_squares(N):\n",
    "    N = tf.constant(N, dtype='int64')\n",
    "    return tf.reduce_sum((tf.range(N)**2))"
   ]
  },
  {
   "cell_type": "code",
   "execution_count": 7,
   "metadata": {},
   "outputs": [
    {
     "name": "stdout",
     "output_type": "stream",
     "text": [
      "824 ms ± 28.2 ms per loop (mean ± std. dev. of 7 runs, 1 loop each)\n"
     ]
    }
   ],
   "source": [
    "%%timeit\n",
    "N = 10**8\n",
    "tf_sum_squares(N)"
   ]
  },
  {
   "cell_type": "markdown",
   "metadata": {},
   "source": [
    "Более того, когда вы уже задали свой граф вычислений и убедились, что всё работает, можно вызвать декоратор `tf.function`. [Он сделает работу заданного графа](https://www.tensorflow.org/tutorials/customization/performance) более оптимальной и ещё сильнее ускорит код. "
   ]
  },
  {
   "cell_type": "code",
   "execution_count": 8,
   "metadata": {},
   "outputs": [],
   "source": [
    "@tf.function\n",
    "def tf_sum_squares(N):\n",
    "    N = tf.constant(N, dtype='int64')\n",
    "    return tf.reduce_sum((tf.range(N)**2))"
   ]
  },
  {
   "cell_type": "code",
   "execution_count": 9,
   "metadata": {},
   "outputs": [
    {
     "name": "stdout",
     "output_type": "stream",
     "text": [
      "247 µs ± 61.6 µs per loop (mean ± std. dev. of 7 runs, 1 loop each)\n"
     ]
    }
   ],
   "source": [
    "%%timeit\n",
    "N = 10**8\n",
    "tf_sum_squares(N)"
   ]
  },
  {
   "cell_type": "markdown",
   "metadata": {},
   "source": [
    "Если сравнивать время, то мы видим значительный прогресс в скорости вычислений даже для простой задачи. Данный прирост будет значительно большим для тяжелых рассчетов."
   ]
  },
  {
   "cell_type": "markdown",
   "metadata": {},
   "source": [
    "# 1. Тензоры и базовые операции над ними\n",
    "\n",
    "Основной объект в tensorflow - это **тензор.** Или многомерный массив чисел. Чтобы не нужно было учить кучу новых команд, tensorflow косплеит numpy. \n",
    "\n",
    "```\n",
    "    np.zeros -> tf.zeros\n",
    "    np.sin -> tf.sin\n",
    "    np.mean -> tf.reduce_mean\n",
    "    np.arange -> tf.range\n",
    "    np.cumsum -> tf.cumsum\n",
    "```\n",
    "\n",
    "Правда говоря, не совсем косплеит. Но чаще всего оказываетс довольно близок."
   ]
  },
  {
   "cell_type": "code",
   "execution_count": 10,
   "metadata": {},
   "outputs": [
    {
     "data": {
      "text/plain": [
       "<tf.Tensor: shape=(3, 4), dtype=float32, numpy=\n",
       "array([[0., 0., 0., 0.],\n",
       "       [0., 0., 0., 0.],\n",
       "       [0., 0., 0., 0.]], dtype=float32)>"
      ]
     },
     "execution_count": 10,
     "metadata": {},
     "output_type": "execute_result"
    }
   ],
   "source": [
    "# можно задать тензор из нулей\n",
    "tf.zeros([3, 4])"
   ]
  },
  {
   "cell_type": "code",
   "execution_count": 11,
   "metadata": {},
   "outputs": [
    {
     "data": {
      "text/plain": [
       "<tf.Tensor: shape=(3, 4, 2), dtype=float32, numpy=\n",
       "array([[[1., 1.],\n",
       "        [1., 1.],\n",
       "        [1., 1.],\n",
       "        [1., 1.]],\n",
       "\n",
       "       [[1., 1.],\n",
       "        [1., 1.],\n",
       "        [1., 1.],\n",
       "        [1., 1.]],\n",
       "\n",
       "       [[1., 1.],\n",
       "        [1., 1.],\n",
       "        [1., 1.],\n",
       "        [1., 1.]]], dtype=float32)>"
      ]
     },
     "execution_count": 11,
     "metadata": {},
     "output_type": "execute_result"
    }
   ],
   "source": [
    "# или из единиц, но уже более сложной размерности\n",
    "tf.ones([3, 4, 2])"
   ]
  },
  {
   "cell_type": "code",
   "execution_count": 12,
   "metadata": {},
   "outputs": [
    {
     "data": {
      "text/plain": [
       "<tf.Tensor: shape=(2, 2), dtype=float32, numpy=\n",
       "array([[ 0.5842428 , -0.32981437],\n",
       "       [-0.8551928 ,  0.24979615]], dtype=float32)>"
      ]
     },
     "execution_count": 12,
     "metadata": {},
     "output_type": "execute_result"
    }
   ],
   "source": [
    "# можно сгенерировать тензор из нормального распределения\n",
    "tf.random.normal([2,2])"
   ]
  },
  {
   "cell_type": "code",
   "execution_count": 13,
   "metadata": {},
   "outputs": [
    {
     "data": {
      "text/plain": [
       "<tf.Tensor: shape=(2, 2), dtype=float32, numpy=\n",
       "array([[0.5, 0.5],\n",
       "       [0.5, 0.5]], dtype=float32)>"
      ]
     },
     "execution_count": 13,
     "metadata": {},
     "output_type": "execute_result"
    }
   ],
   "source": [
    "# можно просто сделать залифку тензора какими-то числами\n",
    "tf.fill([2, 2], 0.5)"
   ]
  },
  {
   "cell_type": "code",
   "execution_count": 14,
   "metadata": {},
   "outputs": [
    {
     "data": {
      "text/plain": [
       "array([[1, 2, 3, 4],\n",
       "       [4, 3, 2, 1]])"
      ]
     },
     "execution_count": 14,
     "metadata": {},
     "output_type": "execute_result"
    }
   ],
   "source": [
    "# можно создать матрицу в numpy\n",
    "x = np.array([[1, 2, 3, 4],\n",
    "              [4, 3, 2, 1]])\n",
    "x"
   ]
  },
  {
   "cell_type": "code",
   "execution_count": 15,
   "metadata": {},
   "outputs": [
    {
     "data": {
      "text/plain": [
       "<tf.Tensor: shape=(2, 4), dtype=float32, numpy=\n",
       "array([[1., 2., 3., 4.],\n",
       "       [4., 3., 2., 1.]], dtype=float32)>"
      ]
     },
     "execution_count": 15,
     "metadata": {},
     "output_type": "execute_result"
    }
   ],
   "source": [
    "# а потом перевести её в тензор\n",
    "tf.convert_to_tensor(x, tf.float32) "
   ]
  },
  {
   "cell_type": "code",
   "execution_count": 16,
   "metadata": {},
   "outputs": [
    {
     "data": {
      "text/plain": [
       "<tf.Tensor: shape=(3, 4), dtype=int32, numpy=\n",
       "array([[ 1,  2,  3,  4],\n",
       "       [ 5,  6,  7,  8],\n",
       "       [ 9, 10, 11, 12]], dtype=int32)>"
      ]
     },
     "execution_count": 16,
     "metadata": {},
     "output_type": "execute_result"
    }
   ],
   "source": [
    "# или можно просто сразу создать тензор \n",
    "tf.constant([[1,  2,  3,  4],\n",
    "             [5,  6,  7,  8],\n",
    "             [9, 10, 11, 12]])"
   ]
  },
  {
   "cell_type": "code",
   "execution_count": 17,
   "metadata": {},
   "outputs": [],
   "source": [
    "# наверное, стоит уточнить тип данных в тензоре\n",
    "x = tf.constant([[1,  2,  3,  4],\n",
    "                 [5,  6,  7,  8],\n",
    "                 [9, 10, 11, 12]], dtype=tf.float32)"
   ]
  },
  {
   "cell_type": "markdown",
   "metadata": {},
   "source": [
    "Все срезы, операции, размерности работают как в numpy."
   ]
  },
  {
   "cell_type": "code",
   "execution_count": 18,
   "metadata": {},
   "outputs": [
    {
     "data": {
      "text/plain": [
       "tf.float32"
      ]
     },
     "execution_count": 18,
     "metadata": {},
     "output_type": "execute_result"
    }
   ],
   "source": [
    "x.dtype"
   ]
  },
  {
   "cell_type": "code",
   "execution_count": 19,
   "metadata": {},
   "outputs": [
    {
     "data": {
      "text/plain": [
       "TensorShape([3, 4])"
      ]
     },
     "execution_count": 19,
     "metadata": {},
     "output_type": "execute_result"
    }
   ],
   "source": [
    "x.shape"
   ]
  },
  {
   "cell_type": "code",
   "execution_count": 20,
   "metadata": {},
   "outputs": [
    {
     "data": {
      "text/plain": [
       "<tf.Tensor: shape=(4,), dtype=float32, numpy=array([1., 2., 3., 4.], dtype=float32)>"
      ]
     },
     "execution_count": 20,
     "metadata": {},
     "output_type": "execute_result"
    }
   ],
   "source": [
    "x[0]"
   ]
  },
  {
   "cell_type": "code",
   "execution_count": 21,
   "metadata": {},
   "outputs": [
    {
     "data": {
      "text/plain": [
       "<tf.Tensor: shape=(3,), dtype=float32, numpy=array([ 2.,  6., 10.], dtype=float32)>"
      ]
     },
     "execution_count": 21,
     "metadata": {},
     "output_type": "execute_result"
    }
   ],
   "source": [
    "x[:,1]"
   ]
  },
  {
   "cell_type": "code",
   "execution_count": 22,
   "metadata": {},
   "outputs": [
    {
     "data": {
      "text/plain": [
       "<tf.Tensor: shape=(3, 4), dtype=float32, numpy=\n",
       "array([[11., 12., 13., 14.],\n",
       "       [15., 16., 17., 18.],\n",
       "       [19., 20., 21., 22.]], dtype=float32)>"
      ]
     },
     "execution_count": 22,
     "metadata": {},
     "output_type": "execute_result"
    }
   ],
   "source": [
    "x + 10"
   ]
  },
  {
   "cell_type": "code",
   "execution_count": 23,
   "metadata": {},
   "outputs": [
    {
     "data": {
      "text/plain": [
       "<tf.Tensor: shape=(9,), dtype=float32, numpy=array([ 4.,  5.,  6.,  7.,  8.,  9., 10., 11., 12.], dtype=float32)>"
      ]
     },
     "execution_count": 23,
     "metadata": {},
     "output_type": "execute_result"
    }
   ],
   "source": [
    "x[x > 3]"
   ]
  },
  {
   "cell_type": "code",
   "execution_count": 24,
   "metadata": {},
   "outputs": [],
   "source": [
    "y = tf.constant([[12, 11, 10, 9],\n",
    "                  [8, 7, 6, 5],\n",
    "                  [4, 3, 2, 1]], dtype=tf.float32)"
   ]
  },
  {
   "cell_type": "code",
   "execution_count": 25,
   "metadata": {},
   "outputs": [
    {
     "data": {
      "text/plain": [
       "<tf.Tensor: shape=(3, 4), dtype=float32, numpy=\n",
       "array([[13., 13., 13., 13.],\n",
       "       [13., 13., 13., 13.],\n",
       "       [13., 13., 13., 13.]], dtype=float32)>"
      ]
     },
     "execution_count": 25,
     "metadata": {},
     "output_type": "execute_result"
    }
   ],
   "source": [
    "x + y"
   ]
  },
  {
   "cell_type": "code",
   "execution_count": 26,
   "metadata": {},
   "outputs": [
    {
     "data": {
      "text/plain": [
       "<tf.Tensor: shape=(3, 4), dtype=float32, numpy=\n",
       "array([[1.00000e+00, 2.04800e+03, 5.90490e+04, 2.62144e+05],\n",
       "       [3.90625e+05, 2.79936e+05, 1.17649e+05, 3.27680e+04],\n",
       "       [6.56100e+03, 1.00000e+03, 1.21000e+02, 1.20000e+01]],\n",
       "      dtype=float32)>"
      ]
     },
     "execution_count": 26,
     "metadata": {},
     "output_type": "execute_result"
    }
   ],
   "source": [
    "x**y"
   ]
  },
  {
   "cell_type": "code",
   "execution_count": 27,
   "metadata": {},
   "outputs": [
    {
     "data": {
      "text/plain": [
       "<tf.Tensor: shape=(3, 4), dtype=float32, numpy=\n",
       "array([[2.7182817e+00, 7.3890562e+00, 2.0085537e+01, 5.4598148e+01],\n",
       "       [1.4841316e+02, 4.0342877e+02, 1.0966332e+03, 2.9809580e+03],\n",
       "       [8.1030840e+03, 2.2026465e+04, 5.9874141e+04, 1.6275480e+05]],\n",
       "      dtype=float32)>"
      ]
     },
     "execution_count": 27,
     "metadata": {},
     "output_type": "execute_result"
    }
   ],
   "source": [
    "tf.math.exp(x)"
   ]
  },
  {
   "cell_type": "code",
   "execution_count": 28,
   "metadata": {},
   "outputs": [
    {
     "data": {
      "text/plain": [
       "array([[ 1.,  2.,  3.,  4.],\n",
       "       [ 5.,  6.,  7.,  8.],\n",
       "       [ 9., 10., 11., 12.]], dtype=float32)"
      ]
     },
     "execution_count": 28,
     "metadata": {},
     "output_type": "execute_result"
    }
   ],
   "source": [
    "# Когда надоело работать с тензором, можно вернуться назад в numpy формат\n",
    "x.numpy() "
   ]
  },
  {
   "cell_type": "code",
   "execution_count": 29,
   "metadata": {},
   "outputs": [
    {
     "data": {
      "text/plain": [
       "<tf.Tensor: shape=(), dtype=string, numpy=b'hello world'>"
      ]
     },
     "execution_count": 29,
     "metadata": {},
     "output_type": "execute_result"
    }
   ],
   "source": [
    "# тип у тензоров может быть разный, но всегда один\n",
    "tf.constant(\"hello world\")"
   ]
  },
  {
   "cell_type": "markdown",
   "metadata": {},
   "source": [
    "### Задание 1:\n",
    "\n",
    "Попробуйте реализовать на tensorflow сигмоиду. \n",
    "\n",
    "$$ \\sigma(x) = \\frac{1}{1 + e^{-x}} $$"
   ]
  },
  {
   "cell_type": "code",
   "execution_count": 39,
   "metadata": {},
   "outputs": [
    {
     "data": {
      "image/png": "[encoded data removed]",
      "text/plain": [
       "<Figure size 432x288 with 1 Axes>"
      ]
     },
     "metadata": {
      "needs_background": "light"
     },
     "output_type": "display_data"
    }
   ],
   "source": [
    "import matplotlib.pyplot as plt\n",
    "\n",
    "x = tf.linspace(-20, 20, 1000)\n",
    "\n",
    "@tf.function\n",
    "def sigm(x):\n",
    "    return 1/(1 + tf.exp(-x))\n",
    "\n",
    "y = sigm(x)\n",
    "\n",
    "plt.plot(x, y);"
   ]
  },
  {
   "cell_type": "code",
   "execution_count": 50,
   "metadata": {},
   "outputs": [
    {
     "data": {
      "text/plain": [
       "<tf.Tensor: shape=(5, 1), dtype=float64, numpy=\n",
       "array([[-1. ],\n",
       "       [-0.5],\n",
       "       [ 0. ],\n",
       "       [ 0.5],\n",
       "       [ 1. ]])>"
      ]
     },
     "execution_count": 50,
     "metadata": {},
     "output_type": "execute_result"
    }
   ],
   "source": [
    "x = tf.reshape(tf.linspace(-1, 1, 5), (5, 1))\n",
    "x"
   ]
  },
  {
   "cell_type": "code",
   "execution_count": 57,
   "metadata": {},
   "outputs": [
    {
     "data": {
      "text/plain": [
       "<tf.Tensor: shape=(5, 2), dtype=float64, numpy=\n",
       "array([[0.73105858, 0.26894142],\n",
       "       [0.62245933, 0.37754067],\n",
       "       [0.5       , 0.5       ],\n",
       "       [0.37754067, 0.62245933],\n",
       "       [0.26894142, 0.73105858]])>"
      ]
     },
     "execution_count": 57,
     "metadata": {},
     "output_type": "execute_result"
    }
   ],
   "source": [
    "# P(y = 0), P(y = 1)\n",
    "tf.concat((1 - sigm(x), sigm(x)), axis=1)"
   ]
  },
  {
   "cell_type": "code",
   "execution_count": 73,
   "metadata": {},
   "outputs": [
    {
     "data": {
      "text/plain": [
       "<tf.Tensor: shape=(5, 3), dtype=float32, numpy=\n",
       "array([[-0.79913163,  0.72022235,  1.8107333 ],\n",
       "       [ 1.66223   ,  5.8366947 ,  4.86984   ],\n",
       "       [ 6.807043  ,  7.6144543 , 10.044247  ],\n",
       "       [ 8.368908  ,  9.645565  , 12.189887  ],\n",
       "       [11.5396595 , 12.268789  , 12.931279  ]], dtype=float32)>"
      ]
     },
     "execution_count": 73,
     "metadata": {},
     "output_type": "execute_result"
    }
   ],
   "source": [
    "x = tf.reshape(tf.range(15, dtype=tf.float32), (5, 3))\n",
    "x = x + tf.random.normal((5,3))\n",
    "x"
   ]
  },
  {
   "cell_type": "code",
   "execution_count": 74,
   "metadata": {},
   "outputs": [
    {
     "data": {
      "text/plain": [
       "<tf.Tensor: shape=(5, 3), dtype=float32, numpy=\n",
       "array([[0.0521744 , 0.23839906, 0.7094266 ],\n",
       "       [0.01102232, 0.7165065 , 0.27247116],\n",
       "       [0.03483773, 0.07810953, 0.8870528 ],\n",
       "       [0.01990703, 0.07135946, 0.9087335 ],\n",
       "       [0.1409516 , 0.29223153, 0.56681687]], dtype=float32)>"
      ]
     },
     "execution_count": 74,
     "metadata": {},
     "output_type": "execute_result"
    }
   ],
   "source": [
    "#  P(y = 0), P(y = 1), P(y = 2)\n",
    "tf.nn.softmax(x)"
   ]
  },
  {
   "cell_type": "code",
   "execution_count": 75,
   "metadata": {},
   "outputs": [
    {
     "data": {
      "text/plain": [
       "<tf.Tensor: shape=(5, 1), dtype=float32, numpy=\n",
       "array([[8.6195393e+00],\n",
       "       [4.7821606e+02],\n",
       "       [2.5954428e+04],\n",
       "       [2.1655297e+05],\n",
       "       [7.2868600e+05]], dtype=float32)>"
      ]
     },
     "execution_count": 75,
     "metadata": {},
     "output_type": "execute_result"
    }
   ],
   "source": [
    "tf.reshape(tf.reduce_sum(tf.exp(x), axis=1), (5,1))"
   ]
  },
  {
   "cell_type": "code",
   "execution_count": 76,
   "metadata": {},
   "outputs": [
    {
     "data": {
      "text/plain": [
       "<tf.Tensor: shape=(5, 3), dtype=float32, numpy=\n",
       "array([[0.0521744 , 0.23839907, 0.7094266 ],\n",
       "       [0.01102232, 0.71650654, 0.27247116],\n",
       "       [0.03483772, 0.07810953, 0.8870528 ],\n",
       "       [0.01990703, 0.07135946, 0.9087335 ],\n",
       "       [0.1409516 , 0.29223153, 0.56681687]], dtype=float32)>"
      ]
     },
     "execution_count": 76,
     "metadata": {},
     "output_type": "execute_result"
    }
   ],
   "source": [
    "tf.exp(x)/tf.reshape(tf.reduce_sum(tf.exp(x), axis=1), (5,1))"
   ]
  },
  {
   "cell_type": "markdown",
   "metadata": {},
   "source": [
    "### Задание 2:\n",
    "\n",
    "Попробуйте реализовать на tensorflow среднюю квадратичную ошибку. \n",
    "\n",
    "$$ \n",
    "MSE(\\hat y, y) = \\frac{1}{n} \\cdot \\sum_{i=1}^n (\\hat y - y)^2\n",
    "$$"
   ]
  },
  {
   "cell_type": "code",
   "execution_count": 84,
   "metadata": {},
   "outputs": [
    {
     "data": {
      "text/plain": [
       "<tf.Tensor: shape=(), dtype=float32, numpy=22.0>"
      ]
     },
     "execution_count": 84,
     "metadata": {},
     "output_type": "execute_result"
    }
   ],
   "source": [
    "y_pred = tf.constant([1, 2, 3, 4, 5], dtype=tf.float32)\n",
    "y_test = np.array([-1, 3, 4, 6, -5])\n",
    "\n",
    "y_test = tf.convert_to_tensor(y_test, tf.float32) \n",
    "\n",
    "@tf.function\n",
    "def mse(y_true, y_predict):\n",
    "    return tf.reduce_mean((y_true - y_pred)**2)\n",
    "\n",
    "z = mse(y_test, y_pred)\n",
    "z"
   ]
  },
  {
   "cell_type": "code",
   "execution_count": 85,
   "metadata": {},
   "outputs": [
    {
     "data": {
      "text/plain": [
       "22.0"
      ]
     },
     "execution_count": 85,
     "metadata": {},
     "output_type": "execute_result"
    }
   ],
   "source": [
    "z.numpy()"
   ]
  },
  {
   "cell_type": "code",
   "execution_count": 87,
   "metadata": {},
   "outputs": [
    {
     "data": {
      "text/plain": [
       "9223372036854775808"
      ]
     },
     "execution_count": 87,
     "metadata": {},
     "output_type": "execute_result"
    }
   ],
   "source": [
    "# Uint64   2**64\n",
    "# Int64    2**63 - 1\n",
    "\n",
    "# 64 - 8 байт для хранения, в каждом байте 8 бит => 64 ячейки"
   ]
  },
  {
   "cell_type": "markdown",
   "metadata": {},
   "source": [
    "------------------------------------------"
   ]
  },
  {
   "cell_type": "markdown",
   "metadata": {},
   "source": [
    "# 2. Производные да градиенты\n",
    "\n",
    "Тензорфлоу может вычислять производные и градиенты автоматически. Для этого используется [`GradientTape.`](https://www.tensorflow.org/tutorials/customization/autodiff)\n",
    "\n",
    "Он проходит по всем операциям, которые фигурируют в графе, и применяет к ним chain rule:\n",
    "\n",
    "$$ {\\partial f(g(x)) \\over \\partial x} = {\\partial f(g(x)) \\over \\partial g(x)}\\cdot {\\partial g(x) \\over \\partial x} $$\n",
    "\n",
    "Мы можем посчитать производную по любому тензору, участвующему в вычислениях."
   ]
  },
  {
   "cell_type": "code",
   "execution_count": 89,
   "metadata": {},
   "outputs": [],
   "source": [
    "x = tf.constant([0.3, 1])\n",
    "\n",
    "# опция persistent=True позволяет искать производную много раз, а не один\n",
    "with tf.GradientTape(persistent=True) as t:\n",
    "    t.watch(x)\n",
    "    y = tf.reduce_sum(x)\n",
    "    z = y**2"
   ]
  },
  {
   "cell_type": "code",
   "execution_count": 90,
   "metadata": {},
   "outputs": [
    {
     "data": {
      "text/plain": [
       "<tf.Tensor: shape=(2,), dtype=float32, numpy=array([2.6, 2.6], dtype=float32)>"
      ]
     },
     "execution_count": 90,
     "metadata": {},
     "output_type": "execute_result"
    }
   ],
   "source": [
    "t.gradient(z, x)"
   ]
  },
  {
   "cell_type": "code",
   "execution_count": 91,
   "metadata": {},
   "outputs": [
    {
     "data": {
      "text/plain": [
       "<tf.Tensor: shape=(), dtype=float32, numpy=2.6>"
      ]
     },
     "execution_count": 91,
     "metadata": {},
     "output_type": "execute_result"
    }
   ],
   "source": [
    "t.gradient(z, y)"
   ]
  },
  {
   "cell_type": "markdown",
   "metadata": {},
   "source": [
    "Нарисуем функцию и её производную на картинке :) "
   ]
  },
  {
   "cell_type": "code",
   "execution_count": 92,
   "metadata": {},
   "outputs": [
    {
     "data": {
      "image/png": "[encoded data removed]",
      "text/plain": [
       "<Figure size 432x288 with 1 Axes>"
      ]
     },
     "metadata": {
      "needs_background": "light"
     },
     "output_type": "display_data"
    }
   ],
   "source": [
    "import matplotlib.pyplot as plt\n",
    "%matplotlib inline\n",
    "\n",
    "x = tf.linspace(-3., 3., 100)\n",
    "\n",
    "with tf.GradientTape(persistent=True) as t:\n",
    "    t.watch(x)\n",
    "    y = x**2\n",
    "\n",
    "dy_dx = t.gradient(y, x)\n",
    "\n",
    "plt.plot(x, y, label=\"$x^2$\")\n",
    "plt.plot(x, dy_dx, label=r\"$\\frac{dx^2}{dx}$\")\n",
    "plt.legend();"
   ]
  },
  {
   "cell_type": "markdown",
   "metadata": {},
   "source": [
    "### Задание 3:\n",
    "\n",
    "Реализуйте расчёт градиента для функции \n",
    "\n",
    "$$\n",
    "f(w) = \\prod_{i,j} \\ln(\\ln(w_{ij} + 7) \n",
    "$$\n",
    "\n",
    "в точке `w = [[5,10], [1,2]]`"
   ]
  },
  {
   "cell_type": "code",
   "execution_count": 103,
   "metadata": {},
   "outputs": [
    {
     "data": {
      "text/plain": [
       "<tf.Tensor: shape=(2, 2), dtype=float32, numpy=\n",
       "array([[0.0201272 , 0.01089125],\n",
       "       [0.04485611, 0.03509369]], dtype=float32)>"
      ]
     },
     "execution_count": 103,
     "metadata": {},
     "output_type": "execute_result"
    }
   ],
   "source": [
    "# ваш код\n",
    "w = tf.constant([[5.,10], [1,2]])\n",
    "\n",
    "with tf.GradientTape(persistent=False) as t:\n",
    "    t.watch(w)\n",
    "    f = tf.reduce_prod(tf.math.log(tf.math.log(w + 7)))\n",
    "    \n",
    "df_dw = t.gradient(f,w)\n",
    "df_dw"
   ]
  },
  {
   "cell_type": "code",
   "execution_count": 104,
   "metadata": {},
   "outputs": [
    {
     "ename": "RuntimeError",
     "evalue": "A non-persistent GradientTape can only be used to compute one set of gradients (or jacobians)",
     "output_type": "error",
     "traceback": [
      "\u001b[0;31m---------------------------------------------------------------------------\u001b[0m",
      "\u001b[0;31mRuntimeError\u001b[0m                              Traceback (most recent call last)",
      "\u001b[0;32m<ipython-input-104-1b3ff4381053>\u001b[0m in \u001b[0;36m<module>\u001b[0;34m\u001b[0m\n\u001b[0;32m----> 1\u001b[0;31m \u001b[0mt\u001b[0m\u001b[0;34m.\u001b[0m\u001b[0mgradient\u001b[0m\u001b[0;34m(\u001b[0m\u001b[0mf\u001b[0m\u001b[0;34m,\u001b[0m\u001b[0mw\u001b[0m\u001b[0;34m)\u001b[0m\u001b[0;34m\u001b[0m\u001b[0;34m\u001b[0m\u001b[0m\n\u001b[0m",
      "\u001b[0;32m/usr/local/lib/python3.9/site-packages/tensorflow/python/eager/backprop.py\u001b[0m in \u001b[0;36mgradient\u001b[0;34m(self, target, sources, output_gradients, unconnected_gradients)\u001b[0m\n\u001b[1;32m   1020\u001b[0m     \"\"\"\n\u001b[1;32m   1021\u001b[0m     \u001b[0;32mif\u001b[0m \u001b[0mself\u001b[0m\u001b[0;34m.\u001b[0m\u001b[0m_tape\u001b[0m \u001b[0;32mis\u001b[0m \u001b[0;32mNone\u001b[0m\u001b[0;34m:\u001b[0m\u001b[0;34m\u001b[0m\u001b[0;34m\u001b[0m\u001b[0m\n\u001b[0;32m-> 1022\u001b[0;31m       raise RuntimeError(\"A non-persistent GradientTape can only be used to \"\n\u001b[0m\u001b[1;32m   1023\u001b[0m                          \"compute one set of gradients (or jacobians)\")\n\u001b[1;32m   1024\u001b[0m     \u001b[0;32mif\u001b[0m \u001b[0mself\u001b[0m\u001b[0;34m.\u001b[0m\u001b[0m_recording\u001b[0m\u001b[0;34m:\u001b[0m\u001b[0;34m\u001b[0m\u001b[0;34m\u001b[0m\u001b[0m\n",
      "\u001b[0;31mRuntimeError\u001b[0m: A non-persistent GradientTape can only be used to compute one set of gradients (or jacobians)"
     ]
    }
   ],
   "source": [
    "t.gradient(f,w)"
   ]
  },
  {
   "cell_type": "markdown",
   "metadata": {},
   "source": [
    "# 3. Переменные\n",
    "\n",
    "Следущий важный объект в tensorflow это **переменная.** Она представляет из себя некоторый буфер в памяти, который содержит текущие тензоры. \n",
    "\n",
    "* Переменную можно вставить в любое место графа \n",
    "* Переменные можно использовать, чтобы описать какую-то трансформацию\n",
    "* В процессе расчётов их можно изменять\n",
    "* Обычно их используют для описания параметров модели"
   ]
  },
  {
   "cell_type": "code",
   "execution_count": 105,
   "metadata": {},
   "outputs": [
    {
     "data": {
      "text/plain": [
       "<tf.Variable 'Variable:0' shape=() dtype=float32, numpy=0.5>"
      ]
     },
     "execution_count": 105,
     "metadata": {},
     "output_type": "execute_result"
    }
   ],
   "source": [
    "w = tf.Variable(initial_value=0.5)\n",
    "w"
   ]
  },
  {
   "cell_type": "code",
   "execution_count": 106,
   "metadata": {},
   "outputs": [
    {
     "data": {
      "text/plain": [
       "array([1., 2., 3.])"
      ]
     },
     "execution_count": 106,
     "metadata": {},
     "output_type": "execute_result"
    }
   ],
   "source": [
    "x = np.array([1,2,3], dtype=float)\n",
    "x"
   ]
  },
  {
   "cell_type": "code",
   "execution_count": 107,
   "metadata": {},
   "outputs": [
    {
     "data": {
      "text/plain": [
       "<tf.Tensor: shape=(3,), dtype=float32, numpy=array([0.5, 1. , 1.5], dtype=float32)>"
      ]
     },
     "execution_count": 107,
     "metadata": {},
     "output_type": "execute_result"
    }
   ],
   "source": [
    "x*w"
   ]
  },
  {
   "cell_type": "markdown",
   "metadata": {},
   "source": [
    "Более того, переменные хороши тем, что Tensorflow сразу же следит за ними при вычислении производных. Ему не надо указывать с помощью команды `watch`, за каким тензором нужно приглядывать. "
   ]
  },
  {
   "cell_type": "markdown",
   "metadata": {},
   "source": [
    "### Задание 4:\n",
    "\n",
    "Реализуйте расчёт градиента для функции \n",
    "\n",
    "$$\n",
    "f(w) = \\prod_{i,j} \\ln(\\ln(w_{ij} + 7) \n",
    "$$\n",
    "\n",
    "в точке `w = [[5,10], [1,2]]`. Отличие от предыдущей задачки такое: надо задать $w$ не как тензор, а как переменную. "
   ]
  },
  {
   "cell_type": "code",
   "execution_count": 109,
   "metadata": {},
   "outputs": [
    {
     "data": {
      "text/plain": [
       "<tf.Tensor: shape=(2, 2), dtype=float32, numpy=\n",
       "array([[0.0201272 , 0.01089125],\n",
       "       [0.04485611, 0.03509369]], dtype=float32)>"
      ]
     },
     "execution_count": 109,
     "metadata": {},
     "output_type": "execute_result"
    }
   ],
   "source": [
    "# ваш код\n",
    "w = tf.Variable(initial_value = [[5.,10], [1,2]])\n",
    "\n",
    "with tf.GradientTape(persistent=False) as t:\n",
    "    f = tf.reduce_prod(tf.math.log(tf.math.log(w + 7)))\n",
    "    \n",
    "df_dw = t.gradient(f,w)\n",
    "df_dw"
   ]
  },
  {
   "cell_type": "code",
   "execution_count": 114,
   "metadata": {},
   "outputs": [
    {
     "data": {
      "text/plain": [
       "[<tf.Tensor: shape=(2, 2), dtype=float32, numpy=\n",
       " array([[0.00021705, 0.00011745],\n",
       "        [0.00048373, 0.00037845]], dtype=float32)>,\n",
       " <tf.Tensor: shape=(2, 2), dtype=float32, numpy=\n",
       " array([[0.02123523, 0.05350089],\n",
       "        [0.01262408, 0.00778829]], dtype=float32)>]"
      ]
     },
     "execution_count": 114,
     "metadata": {},
     "output_type": "execute_result"
    }
   ],
   "source": [
    "# ваш код\n",
    "w = tf.Variable(initial_value = [[5.,10], [1,2]])\n",
    "v = tf.Variable(initial_value = tf.random.uniform((2,2)))\n",
    "\n",
    "with tf.GradientTape(persistent=False) as t:\n",
    "    f = tf.reduce_prod(v * tf.math.log(tf.math.log(w + 7)))\n",
    "    \n",
    "df_dw = t.gradient(f, [w, v])\n",
    "df_dw"
   ]
  },
  {
   "cell_type": "markdown",
   "metadata": {},
   "source": [
    "------------------------------------------"
   ]
  },
  {
   "cell_type": "markdown",
   "metadata": {},
   "source": [
    "# 4. Оптимизация\n",
    "\n",
    "Итак, tf умеет искать производные, осталось научиться применять его для оптимизации. \n",
    "\n",
    "Попробуем решить глупую задачку по конвертации градусов по цельсию в градусы по фаренгейту. По данным будем пытаться восстановить формулу: \n",
    "\n",
    "$$ f = c \\times 1.8 + 32 $$"
   ]
  },
  {
   "cell_type": "code",
   "execution_count": 115,
   "metadata": {},
   "outputs": [
    {
     "name": "stdout",
     "output_type": "stream",
     "text": [
      "-40.0 degrees Celsius = -40.0 degrees Fahrenheit\n",
      "-10.0 degrees Celsius = 14.0 degrees Fahrenheit\n",
      "0.0 degrees Celsius = 32.0 degrees Fahrenheit\n",
      "8.0 degrees Celsius = 46.0 degrees Fahrenheit\n",
      "15.0 degrees Celsius = 59.0 degrees Fahrenheit\n",
      "22.0 degrees Celsius = 72.0 degrees Fahrenheit\n",
      "38.0 degrees Celsius = 100.0 degrees Fahrenheit\n"
     ]
    }
   ],
   "source": [
    "celsius    = np.array([-40, -10,  0,  8, 15, 22,  38],  dtype='float32')\n",
    "fahrenheit = np.array([-40,  14, 32, 46, 59, 72, 100],  dtype='float32')\n",
    "\n",
    "for i,c in enumerate(celsius):\n",
    "    print(\"{} degrees Celsius = {} degrees Fahrenheit\".format(c, fahrenheit[i]))"
   ]
  },
  {
   "cell_type": "code",
   "execution_count": 116,
   "metadata": {},
   "outputs": [
    {
     "data": {
      "text/plain": [
       "(array([1.2689415], dtype=float32), array([2.3463488], dtype=float32))"
      ]
     },
     "execution_count": 116,
     "metadata": {},
     "output_type": "execute_result"
    }
   ],
   "source": [
    "# параметры модели \n",
    "a = tf.Variable(tf.random.normal([1]), name='bias')\n",
    "b = tf.Variable(tf.random.normal([1]), name='k')\n",
    "\n",
    "a.numpy(), b.numpy()"
   ]
  },
  {
   "cell_type": "code",
   "execution_count": 117,
   "metadata": {},
   "outputs": [
    {
     "data": {
      "text/plain": [
       "(<tf.Variable 'bias:0' shape=(1,) dtype=float32, numpy=array([1.2689415], dtype=float32)>,\n",
       " <tf.Variable 'k:0' shape=(1,) dtype=float32, numpy=array([2.3463488], dtype=float32)>)"
      ]
     },
     "execution_count": 117,
     "metadata": {},
     "output_type": "execute_result"
    }
   ],
   "source": [
    "a, b"
   ]
  },
  {
   "cell_type": "code",
   "execution_count": 118,
   "metadata": {},
   "outputs": [],
   "source": [
    "# Наша модель\n",
    "def linear_regression(x):\n",
    "    return a + b*x\n",
    "\n",
    "# Ошибка для модели\n",
    "def mean_square(y_pred, y_true):\n",
    "    return tf.reduce_mean((y_pred-y_true)**2)"
   ]
  },
  {
   "cell_type": "code",
   "execution_count": 119,
   "metadata": {},
   "outputs": [
    {
     "data": {
      "text/plain": [
       "array([-92.58501  , -22.194546 ,   1.2689415,  20.039732 ,  36.464172 ,\n",
       "        52.888615 ,  90.4302   ], dtype=float32)"
      ]
     },
     "execution_count": 119,
     "metadata": {},
     "output_type": "execute_result"
    }
   ],
   "source": [
    "linear_regression(celsius).numpy()"
   ]
  },
  {
   "cell_type": "code",
   "execution_count": 120,
   "metadata": {},
   "outputs": [
    {
     "data": {
      "text/plain": [
       "951.1787"
      ]
     },
     "execution_count": 120,
     "metadata": {},
     "output_type": "execute_result"
    }
   ],
   "source": [
    "mean_square(linear_regression(celsius), fahrenheit).numpy()"
   ]
  },
  {
   "cell_type": "code",
   "execution_count": 121,
   "metadata": {},
   "outputs": [],
   "source": [
    "# оптимизатор \n",
    "optimizer = tf.optimizers.SGD(learning_rate=0.001)\n",
    "\n",
    "# процесс оптимизации\n",
    "def model_train(X, Y):\n",
    "\n",
    "    # находим loss и пробрасываем градиент\n",
    "    with tf.GradientTape() as g:\n",
    "        pred = linear_regression(X)\n",
    "        loss = mean_square(pred, Y)\n",
    "\n",
    "    # Вычисляем градиенты\n",
    "    gradients = g.gradient(loss, [a, b])\n",
    "    \n",
    "    # Обновляем веса a и b в ходе одной итерации спуска \n",
    "    optimizer.apply_gradients(zip(gradients, [a, b]))"
   ]
  },
  {
   "cell_type": "code",
   "execution_count": 122,
   "metadata": {},
   "outputs": [
    {
     "name": "stdout",
     "output_type": "stream",
     "text": [
      "step: 0, loss: 901.493347, a: 1.325138, b: 2.021914\n",
      "step: 100, loss: 613.322388, a: 6.681525, b: 2.011219\n",
      "step: 200, loss: 417.583405, a: 11.100938, b: 1.973922\n",
      "step: 300, loss: 284.319794, a: 14.747484, b: 1.943148\n",
      "step: 400, loss: 193.591171, a: 17.756315, b: 1.917755\n",
      "step: 500, loss: 131.820892, a: 20.238974, b: 1.896803\n",
      "step: 600, loss: 89.766548, a: 22.287453, b: 1.879516\n",
      "step: 700, loss: 61.135242, a: 23.977684, b: 1.865251\n",
      "step: 800, loss: 41.642242, a: 25.372335, b: 1.853481\n",
      "step: 900, loss: 28.371058, a: 26.523085, b: 1.843770\n",
      "step: 1000, loss: 19.335770, a: 27.472589, b: 1.835757\n",
      "step: 1100, loss: 13.184281, a: 28.256052, b: 1.829145\n",
      "step: 1200, loss: 8.996206, a: 28.902504, b: 1.823689\n",
      "step: 1300, loss: 6.144962, a: 29.435888, b: 1.819188\n",
      "step: 1400, loss: 4.203756, a: 29.875998, b: 1.815474\n",
      "step: 1500, loss: 2.882118, a: 30.239147, b: 1.812409\n",
      "step: 1600, loss: 1.982339, a: 30.538782, b: 1.809880\n",
      "step: 1700, loss: 1.369733, a: 30.786022, b: 1.807794\n",
      "step: 1800, loss: 0.952633, a: 30.990040, b: 1.806072\n",
      "step: 1900, loss: 0.668688, a: 31.158365, b: 1.804651\n"
     ]
    }
   ],
   "source": [
    "# Обучение\n",
    "epochs = 2000 # число эпох \n",
    "\n",
    "for i in range(epochs):\n",
    "    \n",
    "    # Делаем щаг градиентного спуска \n",
    "    model_train(celsius, fahrenheit)\n",
    "    \n",
    "    # Каждую сотую итерацию следим за тем, что произошло\n",
    "    if i%100 == 0:\n",
    "        y_pred = linear_regression(celsius)\n",
    "        loss_val = mean_square(y_pred, fahrenheit)\n",
    "        print(\"step: %i, loss: %f, a: %f, b: %f\" % (i, loss_val, a.numpy(), b.numpy()))"
   ]
  },
  {
   "cell_type": "markdown",
   "metadata": {},
   "source": [
    "Можно сделать то же самое, но с визуализацией. "
   ]
  },
  {
   "cell_type": "code",
   "execution_count": null,
   "metadata": {},
   "outputs": [],
   "source": [
    "from IPython.display import clear_output\n",
    "\n",
    "epochs = 2000 # число эпох \n",
    "\n",
    "ass = [a.numpy()[0]] # стартовые точки \n",
    "bss = [b.numpy()[0]] \n",
    "\n",
    "for i in range(epochs):\n",
    "    # Делаем щаг градиентного спуска \n",
    "    model_train(celsius, fahrenheit)\n",
    "    \n",
    "    if i%25 == 0:\n",
    "        # Пополняем запас точек \n",
    "        ass.append(a.numpy()[0])\n",
    "        bss.append(b.numpy()[0])\n",
    "\n",
    "        clear_output(True) # чтобы всё на одной картинке рисовалось, а не на милионе\n",
    "        plt.plot(ass, bss, marker='.')\n",
    "        plt.scatter(32, 1.8, c='red')\n",
    "        plt.show()"
   ]
  },
  {
   "cell_type": "markdown",
   "metadata": {},
   "source": [
    "### Задание 5:\n",
    "\n",
    "Реализуйте для функции \n",
    "\n",
    "$$\n",
    "f(w) = \\prod_{i,j} \\ln(\\ln(w_{ij} + 7) \n",
    "$$\n",
    "\n",
    "процедуру градиентного спуска. Каким получилось минимальное значение? "
   ]
  },
  {
   "cell_type": "code",
   "execution_count": 145,
   "metadata": {},
   "outputs": [],
   "source": [
    "# ваш код\n",
    "optimizer = tf.optimizers.SGD(learning_rate=0.1)\n",
    "\n",
    "w = tf.Variable(initial_value = [[5.,10], [1,2]])\n",
    "\n",
    "@tf.function\n",
    "def f(w):\n",
    "    y = tf.reduce_prod(tf.math.log(tf.math.log(w + 7)))\n",
    "    return y\n",
    "\n",
    "def optimization_step():\n",
    "    \n",
    "    with tf.GradientTape() as t:\n",
    "        y =f(w)\n",
    "    \n",
    "    dy_dw = t.gradient(y, [w])\n",
    "    optimizer.apply_gradients(zip(dy_dw, [w]))"
   ]
  },
  {
   "cell_type": "code",
   "execution_count": 146,
   "metadata": {},
   "outputs": [
    {
     "data": {
      "text/plain": [
       "<tf.Variable 'Variable:0' shape=(2, 2) dtype=float32, numpy=\n",
       "array([[ 5., 10.],\n",
       "       [ 1.,  2.]], dtype=float32)>"
      ]
     },
     "execution_count": 146,
     "metadata": {},
     "output_type": "execute_result"
    }
   ],
   "source": [
    "w"
   ]
  },
  {
   "cell_type": "code",
   "execution_count": 147,
   "metadata": {},
   "outputs": [],
   "source": [
    "optimization_step()"
   ]
  },
  {
   "cell_type": "code",
   "execution_count": 148,
   "metadata": {},
   "outputs": [
    {
     "data": {
      "text/plain": [
       "<tf.Variable 'Variable:0' shape=(2, 2) dtype=float32, numpy=\n",
       "array([[4.9979873, 9.998911 ],\n",
       "       [0.9955144, 1.9964906]], dtype=float32)>"
      ]
     },
     "execution_count": 148,
     "metadata": {},
     "output_type": "execute_result"
    }
   ],
   "source": [
    "w"
   ]
  },
  {
   "cell_type": "code",
   "execution_count": 149,
   "metadata": {},
   "outputs": [
    {
     "data": {
      "text/plain": [
       "<tf.Variable 'Variable:0' shape=(2, 2) dtype=float32, numpy=\n",
       "array([[ 4.1290555,  9.549754 ],\n",
       "       [-1.7121141,  0.2518414]], dtype=float32)>"
      ]
     },
     "execution_count": 149,
     "metadata": {},
     "output_type": "execute_result"
    }
   ],
   "source": [
    "EPOCH = 500\n",
    "\n",
    "for i in range(EPOCH):\n",
    "    optimization_step()\n",
    "    \n",
    "w"
   ]
  },
  {
   "cell_type": "markdown",
   "metadata": {},
   "source": [
    "# 5. Моя первая нейросеть \n",
    "\n",
    "Для того, чтобы разобраться как обучать нейросити, нужно освоить три вещи: \n",
    "\n",
    "1. Как обрабатывать поток данных и пихать его в сетку\n",
    "2. Как сделать сетку\n",
    "3. Как написать цикл обучения"
   ]
  },
  {
   "cell_type": "markdown",
   "metadata": {},
   "source": [
    "Раньше все учили свою первую нейросеть на [наборе рукопистных цифр MNIST.](http://yann.lecun.com/exdb/mnist/) Теперь это не модно. Если где-то кто-то будет проводить у вас семинар с участием этого датасета, так и скажите ему: __это не модно!__  Хлопать дверью или нет --- на ваше усмотрение. \n",
    "\n",
    "На арене туториалов новый король: [Fashion MNIST.](https://www.tensorflow.org/tutorials/keras/classification) По ссылке лежит туториал с строительством нейросетки на этом наборе, но с участием Keras. Мы пока что обойдёмся без него.\n",
    "\n",
    "\n",
    "### 5.0 Данные"
   ]
  },
  {
   "cell_type": "code",
   "execution_count": 167,
   "metadata": {},
   "outputs": [],
   "source": [
    "fashion_mnist = tf.keras.datasets.fashion_mnist\n",
    "(X_train, y_train), (X_test, y_test) = fashion_mnist.load_data()"
   ]
  },
  {
   "cell_type": "code",
   "execution_count": 168,
   "metadata": {},
   "outputs": [
    {
     "data": {
      "text/plain": [
       "((60000, 28, 28), (10000, 28, 28))"
      ]
     },
     "execution_count": 168,
     "metadata": {},
     "output_type": "execute_result"
    }
   ],
   "source": [
    "X_train.shape, X_test.shape"
   ]
  },
  {
   "cell_type": "code",
   "execution_count": 169,
   "metadata": {},
   "outputs": [],
   "source": [
    "class_names = ['T-shirt/top', 'Trouser', 'Pullover', 'Dress', 'Coat',\n",
    "               'Sandal', 'Shirt', 'Sneaker', 'Bag', 'Ankle boot']"
   ]
  },
  {
   "cell_type": "markdown",
   "metadata": {},
   "source": [
    "Нарисуем несколько рандомных картинок из тренировочной выборки. "
   ]
  },
  {
   "cell_type": "code",
   "execution_count": 170,
   "metadata": {},
   "outputs": [
    {
     "data": {
      "image/png": "[encoded data removed]",
      "text/plain": [
       "<Figure size 1152x360 with 16 Axes>"
      ]
     },
     "metadata": {},
     "output_type": "display_data"
    }
   ],
   "source": [
    "cols = 8\n",
    "rows = 2\n",
    "fig = plt.figure(figsize=(2 * cols, 2.5 * rows))\n",
    "for i in range(cols):\n",
    "    for j in range(rows):\n",
    "        random_index = np.random.randint(0, len(y_train))\n",
    "        ax = fig.add_subplot(rows, cols, i * rows + j + 1)\n",
    "        ax.grid(False)\n",
    "        ax.set_xticks([])\n",
    "        ax.set_yticks([])\n",
    "        ax.imshow(X_train[random_index, :], cmap = 'gray')\n",
    "        ax.set_xlabel(class_names[y_train[random_index]])\n",
    "plt.show()"
   ]
  },
  {
   "cell_type": "markdown",
   "metadata": {},
   "source": [
    "Каждая картинка это матрица из чисел. Если число большое - пиксель яркий. Если маленькое - тёмный. Яркость измеряется по шкале от $0$ до $255$."
   ]
  },
  {
   "cell_type": "code",
   "execution_count": 171,
   "metadata": {},
   "outputs": [
    {
     "data": {
      "text/plain": [
       "array([[[0, 0, 0, ..., 0, 0, 0],\n",
       "        [0, 0, 0, ..., 0, 0, 0],\n",
       "        [0, 0, 0, ..., 0, 0, 0],\n",
       "        ...,\n",
       "        [0, 0, 0, ..., 0, 0, 0],\n",
       "        [0, 0, 0, ..., 0, 0, 0],\n",
       "        [0, 0, 0, ..., 0, 0, 0]],\n",
       "\n",
       "       [[0, 0, 0, ..., 0, 0, 0],\n",
       "        [0, 0, 0, ..., 0, 0, 0],\n",
       "        [0, 0, 0, ..., 0, 0, 0],\n",
       "        ...,\n",
       "        [0, 0, 0, ..., 0, 0, 0],\n",
       "        [0, 0, 0, ..., 0, 0, 0],\n",
       "        [0, 0, 0, ..., 0, 0, 0]],\n",
       "\n",
       "       [[0, 0, 0, ..., 0, 0, 0],\n",
       "        [0, 0, 0, ..., 0, 0, 0],\n",
       "        [0, 0, 0, ..., 0, 0, 0],\n",
       "        ...,\n",
       "        [0, 0, 0, ..., 0, 0, 0],\n",
       "        [0, 0, 0, ..., 0, 0, 0],\n",
       "        [0, 0, 0, ..., 0, 0, 0]],\n",
       "\n",
       "       ...,\n",
       "\n",
       "       [[0, 0, 0, ..., 0, 0, 0],\n",
       "        [0, 0, 0, ..., 0, 0, 0],\n",
       "        [0, 0, 0, ..., 0, 0, 0],\n",
       "        ...,\n",
       "        [0, 0, 0, ..., 0, 0, 0],\n",
       "        [0, 0, 0, ..., 0, 0, 0],\n",
       "        [0, 0, 0, ..., 0, 0, 0]],\n",
       "\n",
       "       [[0, 0, 0, ..., 0, 0, 0],\n",
       "        [0, 0, 0, ..., 0, 0, 0],\n",
       "        [0, 0, 0, ..., 0, 0, 0],\n",
       "        ...,\n",
       "        [0, 0, 0, ..., 0, 0, 0],\n",
       "        [0, 0, 0, ..., 0, 0, 0],\n",
       "        [0, 0, 0, ..., 0, 0, 0]],\n",
       "\n",
       "       [[0, 0, 0, ..., 0, 0, 0],\n",
       "        [0, 0, 0, ..., 0, 0, 0],\n",
       "        [0, 0, 0, ..., 0, 0, 0],\n",
       "        ...,\n",
       "        [0, 0, 0, ..., 0, 0, 0],\n",
       "        [0, 0, 0, ..., 0, 0, 0],\n",
       "        [0, 0, 0, ..., 0, 0, 0]]], dtype=uint8)"
      ]
     },
     "execution_count": 171,
     "metadata": {},
     "output_type": "execute_result"
    }
   ],
   "source": [
    "X_train"
   ]
  },
  {
   "cell_type": "markdown",
   "metadata": {},
   "source": [
    "Картинка - матрица. "
   ]
  },
  {
   "cell_type": "code",
   "execution_count": 172,
   "metadata": {},
   "outputs": [
    {
     "data": {
      "text/plain": [
       "(28, 28)"
      ]
     },
     "execution_count": 172,
     "metadata": {},
     "output_type": "execute_result"
    }
   ],
   "source": [
    "X_train[0].shape"
   ]
  },
  {
   "cell_type": "code",
   "execution_count": 176,
   "metadata": {},
   "outputs": [
    {
     "data": {
      "text/plain": [
       "<matplotlib.image.AxesImage at 0x154f7b8b0>"
      ]
     },
     "execution_count": 176,
     "metadata": {},
     "output_type": "execute_result"
    },
    {
     "data": {
      "image/png": "[encoded data removed]",
      "text/plain": [
       "<Figure size 432x288 with 1 Axes>"
      ]
     },
     "metadata": {
      "needs_background": "light"
     },
     "output_type": "display_data"
    }
   ],
   "source": [
    "plt.imshow(X_train[101], cmap='gray')"
   ]
  },
  {
   "cell_type": "code",
   "execution_count": 178,
   "metadata": {},
   "outputs": [
    {
     "data": {
      "text/plain": [
       "'T-shirt/top'"
      ]
     },
     "execution_count": 178,
     "metadata": {},
     "output_type": "execute_result"
    }
   ],
   "source": [
    "class_names[ y_train[101] ]"
   ]
  },
  {
   "cell_type": "markdown",
   "metadata": {},
   "source": [
    "Давайте отнормируем выборку. "
   ]
  },
  {
   "cell_type": "code",
   "execution_count": 179,
   "metadata": {},
   "outputs": [],
   "source": [
    "X_train = X_train/255\n",
    "X_test = X_test/255"
   ]
  },
  {
   "cell_type": "markdown",
   "metadata": {},
   "source": [
    "Будем прогнозировать тип картинки по её пикселям. Давайте растянем её в вектор из $28 \\times 28$ фичей."
   ]
  },
  {
   "cell_type": "code",
   "execution_count": 180,
   "metadata": {},
   "outputs": [
    {
     "data": {
      "text/plain": [
       "(60000, 784)"
      ]
     },
     "execution_count": 180,
     "metadata": {},
     "output_type": "execute_result"
    }
   ],
   "source": [
    "X_train = X_train.reshape(X_train.shape[0], 28**2)\n",
    "X_test = X_test.reshape(X_test.shape[0], 28**2)\n",
    "X_train.shape"
   ]
  },
  {
   "cell_type": "markdown",
   "metadata": {},
   "source": [
    "Поставим для данных тип, чтобы ничего не поломалось."
   ]
  },
  {
   "cell_type": "code",
   "execution_count": 181,
   "metadata": {},
   "outputs": [],
   "source": [
    "X_train = X_train.astype(np.float32)\n",
    "X_test = X_test.astype(np.float32)"
   ]
  },
  {
   "cell_type": "markdown",
   "metadata": {},
   "source": [
    "## 5.1 Обработка потока данных\n",
    "\n",
    "Чтобы в tensorflow эффективно итерироваться по данным и применять к ним различные преобразования, о которых вы узнает позже - нужно [создать из них `Dataset`](https://www.tensorflow.org/guide/data?hl=ur)"
   ]
  },
  {
   "cell_type": "code",
   "execution_count": 182,
   "metadata": {},
   "outputs": [
    {
     "data": {
      "text/plain": [
       "<TensorSliceDataset shapes: (), types: tf.int32>"
      ]
     },
     "execution_count": 182,
     "metadata": {},
     "output_type": "execute_result"
    }
   ],
   "source": [
    "x = [8, 3, 0, 8, 2, 1]\n",
    "\n",
    "dataset = tf.data.Dataset.from_tensor_slices(x)\n",
    "dataset"
   ]
  },
  {
   "cell_type": "markdown",
   "metadata": {},
   "source": [
    "`Dataset` это итератор. Когда мы будем работать с большими данными, мы будем писать на его основе итераторы, которые будут считывать данные прямо с компьютера и после использования выкидывать их из оперативной памяти."
   ]
  },
  {
   "cell_type": "code",
   "execution_count": 183,
   "metadata": {},
   "outputs": [
    {
     "data": {
      "text/plain": [
       "range(0, 5)"
      ]
     },
     "execution_count": 183,
     "metadata": {},
     "output_type": "execute_result"
    }
   ],
   "source": [
    "it = range(5)\n",
    "it"
   ]
  },
  {
   "cell_type": "code",
   "execution_count": 184,
   "metadata": {},
   "outputs": [
    {
     "name": "stdout",
     "output_type": "stream",
     "text": [
      "0\n",
      "1\n",
      "2\n",
      "3\n",
      "4\n"
     ]
    }
   ],
   "source": [
    "for i in it:\n",
    "    print(i)"
   ]
  },
  {
   "cell_type": "code",
   "execution_count": 185,
   "metadata": {},
   "outputs": [
    {
     "name": "stdout",
     "output_type": "stream",
     "text": [
      "8\n",
      "3\n",
      "0\n",
      "8\n",
      "2\n",
      "1\n"
     ]
    }
   ],
   "source": [
    "for elem in dataset:\n",
    "    print(elem.numpy())"
   ]
  },
  {
   "cell_type": "markdown",
   "metadata": {},
   "source": [
    "У датасетов есть много интересных методов. Например, в них можно перемешивать данные и разбивать их на батчи. "
   ]
  },
  {
   "cell_type": "code",
   "execution_count": 187,
   "metadata": {},
   "outputs": [],
   "source": [
    "x = [8, 3, 0, 8, 2, 1]\n",
    "y = [1, 0, 1, 1, 0, 1]\n",
    "\n",
    "# создали объект с данными для обучения \n",
    "dataset = tf.data.Dataset.from_tensor_slices((x, y))\n",
    "\n",
    "# перемешали данные с окном в 10 и сделали кучу батчей размера 2 \n",
    "dataset = dataset.shuffle(10).batch(2)"
   ]
  },
  {
   "cell_type": "code",
   "execution_count": 188,
   "metadata": {
    "scrolled": true
   },
   "outputs": [
    {
     "name": "stdout",
     "output_type": "stream",
     "text": [
      "[8 1] [1 1]\n",
      "[2 0] [0 1]\n",
      "[8 3] [1 0]\n"
     ]
    }
   ],
   "source": [
    "for item,jtem in dataset:\n",
    "    print(item.numpy(),jtem.numpy())"
   ]
  },
  {
   "cell_type": "markdown",
   "metadata": {},
   "source": [
    "Для первого раза этих двух преобразований нам будет достаточно.\n",
    "\n",
    "### Задание 6:\n",
    "\n",
    "Напишите итератор для тренировочной и тестовой выборок. Попробуйте проитерироваться по нескольким его первым объектам с помощью цикла. "
   ]
  },
  {
   "cell_type": "code",
   "execution_count": 314,
   "metadata": {},
   "outputs": [],
   "source": [
    "# ваш код\n",
    "train_ds = tf.data.Dataset.from_tensor_slices((X_train, y_train))\n",
    "test_ds = tf.data.Dataset.from_tensor_slices((X_test, y_test))\n",
    "\n",
    "train_ds = train_ds.shuffle(10000).batch(256)\n",
    "test_ds = test_ds.batch(256)"
   ]
  },
  {
   "cell_type": "code",
   "execution_count": 315,
   "metadata": {},
   "outputs": [],
   "source": [
    "for x,y in train_ds:\n",
    "    break"
   ]
  },
  {
   "cell_type": "code",
   "execution_count": 316,
   "metadata": {},
   "outputs": [
    {
     "data": {
      "text/plain": [
       "(TensorShape([256, 784]), TensorShape([256]))"
      ]
     },
     "execution_count": 316,
     "metadata": {},
     "output_type": "execute_result"
    }
   ],
   "source": [
    "x.shape, y.shape"
   ]
  },
  {
   "cell_type": "markdown",
   "metadata": {},
   "source": [
    "## 5.2 Нейронная сеть\n",
    "\n",
    "Собирать нейронную сеть в tensorflow можно разными способами. Давайте посмотрим на три разных.\n",
    "\n",
    "__Способ 1:__ для того, чтобы в hight-level tensorflow создавать нейросети, обычно используют класс `Model`. Например, это можно сделать следующим образом."
   ]
  },
  {
   "cell_type": "code",
   "execution_count": 229,
   "metadata": {},
   "outputs": [
    {
     "data": {
      "text/plain": [
       "<__main__.MyModel at 0x1521b8df0>"
      ]
     },
     "execution_count": 229,
     "metadata": {},
     "output_type": "execute_result"
    }
   ],
   "source": [
    "from tensorflow.keras import Model, layers\n",
    "\n",
    "# Объявляем как должна будет выглядеть модель\n",
    "class MyModel(Model):\n",
    "    \n",
    "    def __init__(self):\n",
    "        super(MyModel, self).__init__()\n",
    "        \n",
    "        self.d1 = layers.Dense(64, activation='relu')\n",
    "        self.d2 = layers.Dense(32, activation='relu')\n",
    "        self.d3 = layers.Dense(10, activation='softmax')\n",
    "\n",
    "    def call(self, x):\n",
    "        x = self.d1(x)\n",
    "        x = self.d2(x)\n",
    "        return self.d3(x)\n",
    "\n",
    "# создаём один экземпляр модели\n",
    "model = MyModel()\n",
    "model"
   ]
  },
  {
   "cell_type": "code",
   "execution_count": 230,
   "metadata": {},
   "outputs": [
    {
     "data": {
      "text/plain": [
       "<tf.Tensor: shape=(3, 10), dtype=float32, numpy=\n",
       "array([[0.06456672, 0.06495962, 0.18840112, 0.11949279, 0.07986197,\n",
       "        0.13013268, 0.03888632, 0.08496569, 0.07674498, 0.15198806],\n",
       "       [0.04005869, 0.06360934, 0.18685204, 0.13020875, 0.10352151,\n",
       "        0.20560767, 0.02367088, 0.04781153, 0.06335712, 0.13530247],\n",
       "       [0.06783485, 0.10088729, 0.1616429 , 0.09816212, 0.11244921,\n",
       "        0.13114288, 0.05322766, 0.07405224, 0.08450036, 0.11610051]],\n",
       "      dtype=float32)>"
      ]
     },
     "execution_count": 230,
     "metadata": {},
     "output_type": "execute_result"
    }
   ],
   "source": [
    "model(X_train[:3]) # получили предсказания модели"
   ]
  },
  {
   "cell_type": "markdown",
   "metadata": {},
   "source": [
    "Как мы видим на данном примере, у данного класса должно быть метод `call`, который определяет прямой проход нейросети. Также из класса выше видно, что модуль `keras.layers` содержит в себе реализацию большинства слоев.\n",
    "\n",
    "Если вы не очень поняли, что произошло, не пугайтесь. На следующем семинаре мы более подробно поговорим про объектно-ориентированное программирование и научимся писать подобные модели. "
   ]
  },
  {
   "cell_type": "markdown",
   "metadata": {},
   "source": [
    "__Способ 2:__ Можно собрать модель с помощью класса `Sequential`. В его рамках сбор модели будет выглядить как строительство башни из конструктора LEGO. Модель описывается последовательно. Мы как бы создаём коробочку `model` и постепенно добавляем туда детальки нашей сетки. "
   ]
  },
  {
   "cell_type": "code",
   "execution_count": 231,
   "metadata": {},
   "outputs": [],
   "source": [
    "from tensorflow.keras import Sequential, layers\n",
    "\n",
    "model = Sequential()                             # создали контейнер для модели\n",
    "model.add(layers.Dense(64, \n",
    "            kernel_initializer ='uniform'))      # слой из 64 нейронов\n",
    "\n",
    "model.add(layers.Activation('relu'))             # функция активации\n",
    "model.add(layers.Dropout(0.5))                   # дропаут с вероятностью 0.5 \n",
    "model.add(layers.Dense(10))                      # выход из сетки\n",
    "model.add(layers.Activation('softmax'))"
   ]
  },
  {
   "cell_type": "code",
   "execution_count": 232,
   "metadata": {},
   "outputs": [],
   "source": [
    "model = Sequential([\n",
    "    layers.Dense(64, \n",
    "            kernel_initializer ='uniform'),\n",
    "    layers.Activation('relu'),\n",
    "    layers.Dropout(0.5),\n",
    "    layers.Dense(10),\n",
    "    layers.Activation('softmax')\n",
    "])                            "
   ]
  },
  {
   "cell_type": "code",
   "execution_count": 233,
   "metadata": {},
   "outputs": [
    {
     "data": {
      "text/plain": [
       "<tf.Tensor: shape=(2, 10), dtype=float32, numpy=\n",
       "array([[0.08939267, 0.07809494, 0.0920172 , 0.09023855, 0.08389182,\n",
       "        0.22681423, 0.07504354, 0.06701644, 0.07393904, 0.12355154],\n",
       "       [0.11816039, 0.06195877, 0.08015614, 0.11008666, 0.11913545,\n",
       "        0.15008326, 0.09162977, 0.07343014, 0.07657123, 0.11878822]],\n",
       "      dtype=float32)>"
      ]
     },
     "execution_count": 233,
     "metadata": {},
     "output_type": "execute_result"
    }
   ],
   "source": [
    "y_pred = model(X_train[:2]) # получили предсказания модели\n",
    "y_pred"
   ]
  },
  {
   "cell_type": "code",
   "execution_count": 234,
   "metadata": {},
   "outputs": [
    {
     "data": {
      "text/plain": [
       "<tf.Tensor: shape=(2,), dtype=int64, numpy=array([5, 5])>"
      ]
     },
     "execution_count": 234,
     "metadata": {},
     "output_type": "execute_result"
    }
   ],
   "source": [
    "tf.argmax(y_pred, axis=1)"
   ]
  },
  {
   "cell_type": "markdown",
   "metadata": {},
   "source": [
    "__Способ 3:__ Описать модель функционально, в явном виде прописав какие аргументы идут на вход какому слою. "
   ]
  },
  {
   "cell_type": "code",
   "execution_count": 235,
   "metadata": {},
   "outputs": [],
   "source": [
    "from tensorflow.keras import Model, layers\n",
    "\n",
    "a = layers.Input(shape=(X_train.shape[1],))  # Первая заглушка для входа \n",
    "\n",
    "b = layers.Dense(64)(a)                      # Применяем ко входу полносвязный слой как функцию\n",
    "\n",
    "b = layers.Activation('relu')(b)             # Теперь к тому, что получилось функцию активации\n",
    "\n",
    "b = layers.Dropout(0.5)(b)                   # Ну и так далее... \n",
    "\n",
    "b = layers.Dense(10, activation='relu')(b)   # Функции активации можно звать по-разному\n",
    "\n",
    "model = Model(inputs=a, outputs=b)    # указываем что вход, а что выход, склеивая модель"
   ]
  },
  {
   "cell_type": "code",
   "execution_count": 236,
   "metadata": {},
   "outputs": [
    {
     "data": {
      "text/plain": [
       "<tf.Tensor: shape=(3, 10), dtype=float32, numpy=\n",
       "array([[0.31285203, 0.        , 0.        , 0.6922755 , 0.        ,\n",
       "        0.82182896, 0.        , 0.        , 0.        , 0.        ],\n",
       "       [0.5847864 , 0.22560975, 0.34704536, 0.        , 0.4355518 ,\n",
       "        0.49940944, 0.        , 0.48257428, 0.3401446 , 0.        ],\n",
       "       [0.30286115, 0.        , 0.17324132, 0.        , 0.02688376,\n",
       "        0.08762705, 0.        , 0.1331826 , 0.02869275, 0.        ]],\n",
       "      dtype=float32)>"
      ]
     },
     "execution_count": 236,
     "metadata": {},
     "output_type": "execute_result"
    }
   ],
   "source": [
    "model(X_train[:3]) # получили предсказания модели"
   ]
  },
  {
   "cell_type": "markdown",
   "metadata": {},
   "source": [
    "### Задание 7:\n",
    "\n",
    "Способом, который вам больше всего понравился, напишите нейросеть из трёх полносвязных слоёв размеров $128, 64, 32$ с сигмоидой в качестве функции активации. После каждого слоя сделайте дропаут с вероятностью $0.2$. Выходной слой должен состоять из $10$ нейронов с `Softmax` в качестве функции активации, так как мы решаем задачу классификации $10$ классов. "
   ]
  },
  {
   "cell_type": "code",
   "execution_count": 272,
   "metadata": {},
   "outputs": [
    {
     "data": {
      "text/plain": [
       "<__main__.t_short_model at 0x154f98220>"
      ]
     },
     "execution_count": 272,
     "metadata": {},
     "output_type": "execute_result"
    }
   ],
   "source": [
    "from tensorflow.keras import layers, Model\n",
    "\n",
    "\n",
    "class t_short_model(Model):\n",
    "    \n",
    "    def __init__(self):\n",
    "        super().__init__()\n",
    "        \n",
    "        self.fc_layer_1 = layers.Dense(128, activation='sigmoid')\n",
    "        self.dp1 = layers.Dropout(0.2)\n",
    "        \n",
    "        self.fc_layer_2 = layers.Dense(64, activation='sigmoid')\n",
    "        self.dp2 = layers.Dropout(0.2)\n",
    "        \n",
    "        self.fc_layer_3 = layers.Dense(32, activation='sigmoid')\n",
    "        self.dp3 = layers.Dropout(0.2)\n",
    "        \n",
    "        self.output_layer = layers.Dense(10, activation='softmax')\n",
    "\n",
    "    \n",
    "    def call(self, x, tr=True):\n",
    "        h = self.fc_layer_1(x)\n",
    "        h = self.dp1(h, training=tr)\n",
    "        \n",
    "        h = self.fc_layer_2(h)\n",
    "        h = self.dp2(h, training=tr)\n",
    "        \n",
    "        h = self.fc_layer_3(h)\n",
    "        h = self.dp3(h, training=tr)\n",
    "        \n",
    "        h = self.output_layer(h)\n",
    "        return h\n",
    "\n",
    "\n",
    "model = t_short_model()\n",
    "model"
   ]
  },
  {
   "cell_type": "code",
   "execution_count": 273,
   "metadata": {},
   "outputs": [
    {
     "data": {
      "text/plain": [
       "<tf.Tensor: shape=(60000, 10), dtype=float32, numpy=\n",
       "array([[0.02591026, 0.01771909, 0.03102504, ..., 0.09118   , 0.13108502,\n",
       "        0.09720348],\n",
       "       [0.0200152 , 0.0243851 , 0.02460502, ..., 0.05439518, 0.28800195,\n",
       "        0.05468109],\n",
       "       [0.02069686, 0.04817513, 0.03353209, ..., 0.1298904 , 0.13686456,\n",
       "        0.0551874 ],\n",
       "       ...,\n",
       "       [0.04038899, 0.02844278, 0.02541934, ..., 0.08675787, 0.13692525,\n",
       "        0.11724544],\n",
       "       [0.01641854, 0.01811529, 0.02015216, ..., 0.12845159, 0.11605665,\n",
       "        0.09465426],\n",
       "       [0.01720097, 0.03392443, 0.0512457 , ..., 0.10219152, 0.14825483,\n",
       "        0.08330431]], dtype=float32)>"
      ]
     },
     "execution_count": 273,
     "metadata": {},
     "output_type": "execute_result"
    }
   ],
   "source": [
    "model(X_train)"
   ]
  },
  {
   "cell_type": "markdown",
   "metadata": {},
   "source": [
    "## 5.3 функция потерь и цикл для обучения\n",
    "\n",
    "Посмотрим сколько параметров нам предстоит оценить. "
   ]
  },
  {
   "cell_type": "code",
   "execution_count": 274,
   "metadata": {},
   "outputs": [
    {
     "name": "stdout",
     "output_type": "stream",
     "text": [
      "Model: \"t_short_model_9\"\n",
      "_________________________________________________________________\n",
      "Layer (type)                 Output Shape              Param #   \n",
      "=================================================================\n",
      "dense_52 (Dense)             multiple                  100480    \n",
      "_________________________________________________________________\n",
      "dropout_39 (Dropout)         multiple                  0         \n",
      "_________________________________________________________________\n",
      "dense_53 (Dense)             multiple                  8256      \n",
      "_________________________________________________________________\n",
      "dropout_40 (Dropout)         multiple                  0         \n",
      "_________________________________________________________________\n",
      "dense_54 (Dense)             multiple                  2080      \n",
      "_________________________________________________________________\n",
      "dropout_41 (Dropout)         multiple                  0         \n",
      "_________________________________________________________________\n",
      "dense_55 (Dense)             multiple                  330       \n",
      "=================================================================\n",
      "Total params: 111,146\n",
      "Trainable params: 111,146\n",
      "Non-trainable params: 0\n",
      "_________________________________________________________________\n"
     ]
    }
   ],
   "source": [
    "model.summary()"
   ]
  },
  {
   "cell_type": "code",
   "execution_count": 275,
   "metadata": {},
   "outputs": [
    {
     "data": {
      "text/plain": [
       "8"
      ]
     },
     "execution_count": 275,
     "metadata": {},
     "output_type": "execute_result"
    }
   ],
   "source": [
    "# Список из весов модели (хранятся как матрицы)\n",
    "len(model.trainable_variables)"
   ]
  },
  {
   "cell_type": "markdown",
   "metadata": {},
   "source": [
    "Подгрузим какой-нибудь оптимизатор, который будет делать для нас градиентный спуск. "
   ]
  },
  {
   "cell_type": "code",
   "execution_count": 276,
   "metadata": {},
   "outputs": [],
   "source": [
    "learning_rate = 1e-4\n",
    "optimizer = tf.optimizers.Adam(learning_rate)"
   ]
  },
  {
   "cell_type": "markdown",
   "metadata": {},
   "source": [
    "Подгрузим из пакета функцию потерь. Её можно было бы написать самостоятельно по аналогии с тем, как мы это сделали для градусов по фарингейту."
   ]
  },
  {
   "cell_type": "code",
   "execution_count": 277,
   "metadata": {},
   "outputs": [],
   "source": [
    "loss_function = tf.keras.losses.SparseCategoricalCrossentropy()"
   ]
  },
  {
   "cell_type": "markdown",
   "metadata": {},
   "source": [
    "Select metrics to measure the loss and the accuracy of the model. These metrics accumulate the values over epochs and then print the overall result."
   ]
  },
  {
   "cell_type": "code",
   "execution_count": 278,
   "metadata": {},
   "outputs": [],
   "source": [
    "train_loss = tf.keras.metrics.Mean(name='train_loss')\n",
    "test_loss = tf.keras.metrics.Mean(name='test_loss')"
   ]
  },
  {
   "cell_type": "markdown",
   "metadata": {},
   "source": [
    "### Задание 8: \n",
    "\n",
    "Напишите функцию, которая делает один шаг обучения модели. "
   ]
  },
  {
   "cell_type": "code",
   "execution_count": 293,
   "metadata": {},
   "outputs": [],
   "source": [
    "@tf.function\n",
    "def train_step(images, labels):\n",
    "    \n",
    "    # находим loss и пробрасываем градиент\n",
    "    with tf.GradientTape() as t:\n",
    "        pred = model.call(images)\n",
    "        loss = loss_function(labels, pred)\n",
    "        \n",
    "    # Вычисляем градиенты и обновляем веса\n",
    "    gr = t.gradient(loss, model.trainable_variables)\n",
    "    optimizer.apply_gradients(zip(gr, model.trainable_variables))\n",
    "    \n",
    "    # запоминаем получившееся значение loss\n",
    "    train_loss(loss)"
   ]
  },
  {
   "cell_type": "markdown",
   "metadata": {},
   "source": [
    "Напишем функцию, которая будет делать один шаг тестирования модели. "
   ]
  },
  {
   "cell_type": "code",
   "execution_count": 297,
   "metadata": {},
   "outputs": [],
   "source": [
    "@tf.function\n",
    "def test_step(images, labels):\n",
    "    predictions = model.call(images, tr=False)\n",
    "    loss = loss_function(labels, predictions)\n",
    "    test_loss(loss)"
   ]
  },
  {
   "cell_type": "code",
   "execution_count": 298,
   "metadata": {},
   "outputs": [],
   "source": [
    "# Работает ли?\n",
    "train_step(X_train, y_train)"
   ]
  },
  {
   "cell_type": "code",
   "execution_count": 299,
   "metadata": {},
   "outputs": [
    {
     "data": {
      "text/plain": [
       "<tf.Tensor: shape=(), dtype=float32, numpy=2.5422676>"
      ]
     },
     "execution_count": 299,
     "metadata": {},
     "output_type": "execute_result"
    }
   ],
   "source": [
    "train_loss.result()"
   ]
  },
  {
   "cell_type": "code",
   "execution_count": 300,
   "metadata": {},
   "outputs": [],
   "source": [
    "test_step(X_test, y_test)"
   ]
  },
  {
   "cell_type": "code",
   "execution_count": 301,
   "metadata": {},
   "outputs": [
    {
     "data": {
      "text/plain": [
       "<tf.Tensor: shape=(), dtype=float32, numpy=2.4909067>"
      ]
     },
     "execution_count": 301,
     "metadata": {},
     "output_type": "execute_result"
    }
   ],
   "source": [
    "test_loss.result()"
   ]
  },
  {
   "cell_type": "markdown",
   "metadata": {},
   "source": [
    "Запускаем обучение."
   ]
  },
  {
   "cell_type": "code",
   "execution_count": 317,
   "metadata": {},
   "outputs": [
    {
     "name": "stdout",
     "output_type": "stream",
     "text": [
      "Epoch 1, Loss: 2.1177148818969727, Test Loss: 1.9474855661392212, \n",
      "Epoch 2, Loss: 1.885637879371643, Test Loss: 1.7164119482040405, \n",
      "Epoch 3, Loss: 1.6924551725387573, Test Loss: 1.5391956567764282, \n",
      "Epoch 4, Loss: 1.543792963027954, Test Loss: 1.404445767402649, \n",
      "Epoch 5, Loss: 1.4252461194992065, Test Loss: 1.2979098558425903, \n"
     ]
    }
   ],
   "source": [
    "EPOCHS = 5\n",
    "\n",
    "for epoch in range(EPOCHS):\n",
    "    # Сброс метрик перед стартом новой эпохи\n",
    "    train_loss.reset_states()\n",
    "    test_loss.reset_states()\n",
    "\n",
    "    for images, labels in train_ds:\n",
    "        train_step(images, labels)\n",
    "\n",
    "    for test_images, test_labels in test_ds:\n",
    "        test_step(test_images, test_labels)\n",
    "\n",
    "    print(\n",
    "    f'Epoch {epoch + 1}, '\n",
    "    f'Loss: {train_loss.result()}, '\n",
    "    f'Test Loss: {test_loss.result()}, '\n",
    "    )"
   ]
  },
  {
   "cell_type": "markdown",
   "metadata": {},
   "source": [
    "### Задание 9: \n",
    "\n",
    "С помощью `tf.keras.metrics.SparseCategoricalAccuracy(name='test_accuracy')` добавьте в обучение отслеживание точности модели на тестовой и тренировочной выборках.  "
   ]
  },
  {
   "cell_type": "markdown",
   "metadata": {},
   "source": [
    "## 5.4 метод .fit\n",
    "\n",
    "Можно обучать модели намного проще. Это позволяет сделать метод  `fit` позволяет сделать это. Он принимает на вход обучающую выборку `X_train, y_train`. Параметр  `batch_size` это  размер батча. Этот параметр ограничивает количество примеров, которое за раз подаётся в нашу нейронную сеть. Количиство эпох для обучения, `epochs` - это число проходов модели по обучающей выборке. \n",
    "\n",
    "Обычно нейросетки обучаются довольно долго. В связи с этим обучать их на различных фолдах и оценивать качество работы модели на кросс-валидации не очень быстрое занятие, которое себе может позволить далеко не каждый. Для проверки качества обычно внутри обучения с помощью параметра `validation_split` часть выборки оставляют под валидацию, которая осуществляется после каждой эпохи. Как только качество на валидации начнёт падать, это будет означать, что модель переобучилаcь. \n",
    "\n",
    "Всё, что будет нам возвращать метод `.fit`, мы запишем в переменную `hist`. После обученя модели там окажется вся история ошибок на каждом шаге обучения. Отключить сообщения о том, на каком этапе обучения в данный момент находится модель, можно с параметром `verbose = 0`. Переменную $y$ для успешного обучения сетки нужно будет перевести в матрицу из дамми-переменных с помощью команды `to_categorical`. "
   ]
  },
  {
   "cell_type": "code",
   "execution_count": null,
   "metadata": {},
   "outputs": [],
   "source": [
    "# from tensorflow.keras import Sequential, layers\n",
    "\n",
    "# model = Sequential()                             # создали контейнер для модели\n",
    "# model.add(layers.Dense(64))                      # слой из 64 нейронов\n",
    "# model.add(layers.Activation('relu'))             # функция активации\n",
    "# model.add(layers.Dropout(0.5))                   # дропаут с вероятностью 0.5 \n",
    "# model.add(layers.Dense(10))                      # выход из сетки\n",
    "# model.add(layers.Activation('softmax'))\n",
    "\n",
    "# learning_rate = 1e-4\n",
    "# optimizer = tf.optimizers.Adam(learning_rate)\n",
    "\n",
    "# loss_function = tf.keras.losses.SparseCategoricalCrossentropy()"
   ]
  },
  {
   "cell_type": "code",
   "execution_count": 318,
   "metadata": {},
   "outputs": [],
   "source": [
    "model.compile(loss = loss_function, \n",
    "              metrics=[\"accuracy\"], \n",
    "              optimizer=optimizer)"
   ]
  },
  {
   "cell_type": "markdown",
   "metadata": {},
   "source": [
    "Обучаем модель через `.fit`."
   ]
  },
  {
   "cell_type": "code",
   "execution_count": 319,
   "metadata": {},
   "outputs": [
    {
     "name": "stdout",
     "output_type": "stream",
     "text": [
      "Epoch 1/10\n",
      "1500/1500 [==============================] - 3s 2ms/step - loss: 1.1998 - accuracy: 0.5756 - val_loss: 1.0756 - val_accuracy: 0.6122\n",
      "Epoch 2/10\n",
      "1500/1500 [==============================] - 3s 2ms/step - loss: 0.9928 - accuracy: 0.6424 - val_loss: 0.9212 - val_accuracy: 0.6721\n",
      "Epoch 3/10\n",
      "1500/1500 [==============================] - 3s 2ms/step - loss: 0.8702 - accuracy: 0.6940 - val_loss: 0.8199 - val_accuracy: 0.7176\n",
      "Epoch 4/10\n",
      "1500/1500 [==============================] - 3s 2ms/step - loss: 0.7835 - accuracy: 0.7299 - val_loss: 0.7438 - val_accuracy: 0.7500\n",
      "Epoch 5/10\n",
      "1500/1500 [==============================] - 3s 2ms/step - loss: 0.7188 - accuracy: 0.7554 - val_loss: 0.6940 - val_accuracy: 0.76790s - loss: 0.7232 - accura\n",
      "Epoch 6/10\n",
      "1500/1500 [==============================] - 3s 2ms/step - loss: 0.6696 - accuracy: 0.7758 - val_loss: 0.6570 - val_accuracy: 0.7791\n",
      "Epoch 7/10\n",
      "1500/1500 [==============================] - 3s 2ms/step - loss: 0.6345 - accuracy: 0.7878 - val_loss: 0.6276 - val_accuracy: 0.7942\n",
      "Epoch 8/10\n",
      "1500/1500 [==============================] - 3s 2ms/step - loss: 0.6083 - accuracy: 0.7975 - val_loss: 0.6082 - val_accuracy: 0.7958\n",
      "Epoch 9/10\n",
      "1500/1500 [==============================] - 3s 2ms/step - loss: 0.5898 - accuracy: 0.8037 - val_loss: 0.5834 - val_accuracy: 0.8045\n",
      "Epoch 10/10\n",
      "1500/1500 [==============================] - 3s 2ms/step - loss: 0.5705 - accuracy: 0.8094 - val_loss: 0.5662 - val_accuracy: 0.8096\n"
     ]
    }
   ],
   "source": [
    "hist = model.fit(X_train, \n",
    "                 y_train,\n",
    "                 validation_split=0.2,\n",
    "                 epochs=10, verbose=1)"
   ]
  },
  {
   "cell_type": "markdown",
   "metadata": {},
   "source": [
    "Возвращает этот метод history — это история ошибок на каждом шаге обучения. Посмотрим на динамику ошибок нашей модели во времени. "
   ]
  },
  {
   "cell_type": "code",
   "execution_count": 320,
   "metadata": {},
   "outputs": [
    {
     "data": {
      "text/plain": [
       "<matplotlib.legend.Legend at 0x1587979a0>"
      ]
     },
     "execution_count": 320,
     "metadata": {},
     "output_type": "execute_result"
    },
    {
     "data": {
      "image/png": "[encoded data removed]",
      "text/plain": [
       "<Figure size 432x288 with 1 Axes>"
      ]
     },
     "metadata": {
      "needs_background": "light"
     },
     "output_type": "display_data"
    }
   ],
   "source": [
    "start = 1\n",
    "plt.plot(hist.history['loss'][start:])\n",
    "plt.plot(hist.history['val_loss'][start:])\n",
    "plt.legend(['Train loss', 'Validation loss'])"
   ]
  },
  {
   "cell_type": "code",
   "execution_count": 322,
   "metadata": {},
   "outputs": [
    {
     "data": {
      "text/plain": [
       "array([[2.3987415e-05, 1.6675651e-04, 4.7753012e-04, ..., 3.0850115e-01,\n",
       "        6.4046988e-03, 2.4491742e-01],\n",
       "       [4.5080283e-03, 7.9907809e-04, 8.8967681e-01, ..., 3.1222329e-03,\n",
       "        4.5986226e-04, 5.5565356e-06],\n",
       "       [4.6399985e-03, 6.2489182e-01, 1.3168527e-02, ..., 1.2906158e-02,\n",
       "        6.9874153e-04, 2.9068032e-02],\n",
       "       ...,\n",
       "       [8.6782975e-03, 2.5186770e-05, 1.6881666e-03, ..., 7.8612153e-05,\n",
       "        9.4313991e-01, 1.7401377e-04],\n",
       "       [1.0344349e-03, 9.6582699e-01, 1.5519779e-03, ..., 1.6239859e-04,\n",
       "        4.3981386e-04, 1.0225584e-03],\n",
       "       [5.2580166e-05, 2.8356555e-04, 2.7395197e-04, ..., 1.3172796e-02,\n",
       "        1.2067805e-02, 6.0062646e-03]], dtype=float32)"
      ]
     },
     "execution_count": 322,
     "metadata": {},
     "output_type": "execute_result"
    }
   ],
   "source": [
    "# Можно предсказать вероятности для тестовой выборки\n",
    "model.predict(X_test)"
   ]
  },
  {
   "cell_type": "code",
   "execution_count": 324,
   "metadata": {},
   "outputs": [
    {
     "data": {
      "text/plain": [
       "<tf.Tensor: shape=(10000,), dtype=int64, numpy=array([9, 2, 1, ..., 8, 1, 5])>"
      ]
     },
     "execution_count": 324,
     "metadata": {},
     "output_type": "execute_result"
    }
   ],
   "source": [
    "# А можно классы \n",
    "# model.predict_classes(X_test) # работает для севеншела\n",
    "tf.argmax(model.predict(X_test), axis=1)"
   ]
  },
  {
   "cell_type": "code",
   "execution_count": 325,
   "metadata": {},
   "outputs": [
    {
     "data": {
      "text/plain": [
       "<tf.Tensor: shape=(), dtype=float32, numpy=0.60019445>"
      ]
     },
     "execution_count": 325,
     "metadata": {},
     "output_type": "execute_result"
    }
   ],
   "source": [
    "# Можно найти logloss \n",
    "loss_function(y_test,model.predict(X_test))"
   ]
  },
  {
   "cell_type": "code",
   "execution_count": 326,
   "metadata": {},
   "outputs": [
    {
     "data": {
      "text/plain": [
       "[0.5993099808692932, 0.8015999794006348]"
      ]
     },
     "execution_count": 326,
     "metadata": {},
     "output_type": "execute_result"
    }
   ],
   "source": [
    "# Можно посмотреть на качество модели по всем указанным при коммпиляции метрикам. \n",
    "score = model.evaluate(X_test, y_test, verbose=0)\n",
    "score "
   ]
  },
  {
   "cell_type": "markdown",
   "metadata": {},
   "source": [
    "Этот способ учить модели более простой, но менее универсальный. В будущем мы увидим довольно много ограничений, которые на нас накладывает такой подход."
   ]
  },
  {
   "cell_type": "markdown",
   "metadata": {},
   "source": [
    "# N+1. Как Tensorflow работал раньше \n",
    "\n",
    "Больше такой код не надо писать никогда и нигде. Если видите его в туториалах в интернете, сразу закрывайте их. Эти туториалы устарели. Можете попробовать подуть на них (сдуть слой пыли), а дальше попробовать самостоятельно переписать старый код на новый. Это неплохое упражнение :) "
   ]
  },
  {
   "cell_type": "code",
   "execution_count": 327,
   "metadata": {},
   "outputs": [
    {
     "name": "stdout",
     "output_type": "stream",
     "text": [
      "WARNING:tensorflow:From /usr/local/lib/python3.9/site-packages/tensorflow/python/compat/v2_compat.py:96: disable_resource_variables (from tensorflow.python.ops.variable_scope) is deprecated and will be removed in a future version.\n",
      "Instructions for updating:\n",
      "non-resource variables are not supported in the long term\n"
     ]
    },
    {
     "data": {
      "text/plain": [
       "'2.5.0'"
      ]
     },
     "execution_count": 327,
     "metadata": {},
     "output_type": "execute_result"
    }
   ],
   "source": [
    "import tensorflow.compat.v1 as tf  # подгружаем первую версию библиотеки \n",
    "tf.disable_v2_behavior()           # отключаем функционал второй \n",
    "                                   # теперь код, написанный на версии tf 1.x должен работать \n",
    "tf.__version__"
   ]
  },
  {
   "cell_type": "markdown",
   "metadata": {},
   "source": [
    "Раньше сначала надо было задать структуру вычислений с помощью тензоров. "
   ]
  },
  {
   "cell_type": "code",
   "execution_count": 328,
   "metadata": {},
   "outputs": [
    {
     "name": "stdout",
     "output_type": "stream",
     "text": [
      "Tensor(\"add:0\", shape=(2,), dtype=int32)\n"
     ]
    }
   ],
   "source": [
    "# что происходило в первой версии \n",
    "a = tf.constant([1, 2])\n",
    "b = tf.constant([3, 4])\n",
    "\n",
    "print(a + b)"
   ]
  },
  {
   "cell_type": "markdown",
   "metadata": {},
   "source": [
    "Результат на лету было увидеть нельзя. "
   ]
  },
  {
   "cell_type": "code",
   "execution_count": 332,
   "metadata": {},
   "outputs": [
    {
     "data": {
      "text/plain": [
       "<tf.Tensor 'add_3:0' shape=(2,) dtype=int32>"
      ]
     },
     "execution_count": 332,
     "metadata": {},
     "output_type": "execute_result"
    }
   ],
   "source": [
    "d = a + b\n",
    "d"
   ]
  },
  {
   "cell_type": "markdown",
   "metadata": {},
   "source": [
    "Если хотелось результата, надо было запускать вычислительную сессию, которая прогоняла все данные через граф."
   ]
  },
  {
   "cell_type": "code",
   "execution_count": 333,
   "metadata": {},
   "outputs": [
    {
     "name": "stdout",
     "output_type": "stream",
     "text": [
      "[4 6]\n"
     ]
    }
   ],
   "source": [
    "# открываем вычислительную сессию \n",
    "with tf.Session() as sess:\n",
    "    print(sess.run(d))"
   ]
  },
  {
   "cell_type": "code",
   "execution_count": 334,
   "metadata": {},
   "outputs": [
    {
     "data": {
      "text/plain": [
       "array([4, 6], dtype=int32)"
      ]
     },
     "execution_count": 334,
     "metadata": {},
     "output_type": "execute_result"
    }
   ],
   "source": [
    "# либо можно было открыть глобальную сессию \n",
    "sess = tf.InteractiveSession()\n",
    "d.eval()"
   ]
  },
  {
   "cell_type": "markdown",
   "metadata": {},
   "source": [
    "Процедура обучения модели выглядела раньше иначе. Кроме переменных в обучении участие принимал ещё один объект, `placeholder`. \n",
    "\n",
    "* __placeholder__ — место в графе, которое может принимать входные параметры в граф извне. В эти места мы будем вставлять наши данные"
   ]
  },
  {
   "cell_type": "code",
   "execution_count": 335,
   "metadata": {},
   "outputs": [
    {
     "name": "stdout",
     "output_type": "stream",
     "text": [
      "Текущие потери: 153.62617\n",
      "Текущие потери: 148.2056\n",
      "Текущие потери: 142.8606\n",
      "Текущие потери: 137.60123\n",
      "Текущие потери: 132.43892\n",
      "Текущие потери: 127.38669\n",
      "Текущие потери: 122.45928\n",
      "Текущие потери: 117.67331\n",
      "Текущие потери: 113.047386\n",
      "Текущие потери: 108.60223\n",
      "\n",
      "Коэффициенты: 1.0066519 0.9923882\n",
      "Прогнозы: [-38.688873    1.0066519  38.717403 ]\n"
     ]
    }
   ],
   "source": [
    "epochs = 10\n",
    "\n",
    "# плейсхолдеры для данных \n",
    "# \"Я обещаю вставить сюда x и y позже\"\n",
    "x = tf.placeholder(tf.float32)\n",
    "y = tf.placeholder(tf.float32)\n",
    "\n",
    "# параметры модели \n",
    "a = tf.Variable(tf.zeros([1]), name='bias')\n",
    "b = tf.Variable(tf.zeros([1]), name='k')\n",
    "\n",
    "# модель \n",
    "y_hat = b*x + a\n",
    "\n",
    "# функция потерь и метод оптимизации\n",
    "loss = tf.sqrt(tf.reduce_sum((y - y_hat)**2))\n",
    "opt = tf.train.AdamOptimizer(learning_rate = 0.1)\n",
    "\n",
    "# из-за того, что не было динамических вычислений, \n",
    "# было проще с градиентами\n",
    "step = opt.minimize(loss)\n",
    "\n",
    "# Но зато было сложнее с процедурой обучения, надо было запускать ... сессии\n",
    "# открываем вычислительную сессию \n",
    "with tf.Session() as sess:\n",
    "    \n",
    "    # инициализировали все переменные \n",
    "    tf.global_variables_initializer().run() \n",
    "    \n",
    "    for i in range(epochs):\n",
    "        \n",
    "        # Дорогая сессия, вычисли мне результат функции потерь, пожалуйста! Вот тебе конкретные x и y! \n",
    "        cur_loss = sess.run(loss, feed_dict={x:celsius, y:fahrenheit})\n",
    "        print('Текущие потери:', cur_loss)\n",
    "        \n",
    "        # шаг оптимизации \n",
    "        sess.run(step, feed_dict={x:celsius, y:fahrenheit})\n",
    "        \n",
    "    print('\\nКоэффициенты:', a.eval()[0], b.eval()[0])\n",
    "    print('Прогнозы:', sess.run(y_hat, feed_dict={x:[-40,0,38]}))"
   ]
  },
  {
   "cell_type": "markdown",
   "metadata": {},
   "source": [
    "## Почиташки\n",
    "\n",
    "* [Эффективный tensorflow 2.0](https://www.tensorflow.org/guide/effective_tf2)\n",
    "* [Простые примеры кода на tensorflow 2.0](https://github.com/aymericdamien/TensorFlow-Examples/tree/master/tensorflow_v2)\n",
    "* [Очень-очень милая презентация про fashion mnist](https://github.com/fbchow/fashion-mnist-tensorflow/blob/master/ml-fashion-mnist-presentation.pdf)\n",
    "\n",
    "\n",
    "__Немного старья:__\n",
    "\n",
    "* [Введение в старую версию Tensorflow на Хабре](https://habrahabr.ru/company/ods/blog/324898/)\n",
    "* [Введение в старый Tensorflow от ШАД,](https://nbviewer.jupyter.org/github/yandexdataschool/Practical_DL/blob/fall18/week02_autodiff/seminar_tensorflow.ipynb) моя тетрадка частично основана на этой тетрадке, хоть сходство на первый взгляд и не заметно. \n",
    "* [Неплохая подборка разных тетрадок](https://github.com/Hvass-Labs/TensorFlow-Tutorials) на разном tensorflow"
   ]
  },
  {
   "cell_type": "markdown",
   "metadata": {},
   "source": [
    "  "
   ]
  }
 ],
 "metadata": {
  "kernelspec": {
   "display_name": "Python 3 (ipykernel)",
   "language": "python",
   "name": "python3"
  },
  "language_info": {
   "codemirror_mode": {
    "name": "ipython",
    "version": 3
   },
   "file_extension": ".py",
   "mimetype": "text/x-python",
   "name": "python",
   "nbconvert_exporter": "python",
   "pygments_lexer": "ipython3",
   "version": "3.9.7"
  },
  "varInspector": {
   "cols": {
    "lenName": 16,
    "lenType": 16,
    "lenVar": 40
   },
   "kernels_config": {
    "python": {
     "delete_cmd_postfix": "",
     "delete_cmd_prefix": "del ",
     "library": "var_list.py",
     "varRefreshCmd": "print(var_dic_list())"
    },
    "r": {
     "delete_cmd_postfix": ") ",
     "delete_cmd_prefix": "rm(",
     "library": "var_list.r",
     "varRefreshCmd": "cat(var_dic_list()) "
    }
   },
   "types_to_exclude": [
    "module",
    "function",
    "builtin_function_or_method",
    "instance",
    "_Feature"
   ],
   "window_display": false
  }
 },
 "nbformat": 4,
 "nbformat_minor": 2
}
